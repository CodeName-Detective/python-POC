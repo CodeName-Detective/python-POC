{
 "cells": [
  {
   "cell_type": "code",
   "execution_count": 1,
   "metadata": {},
   "outputs": [],
   "source": [
    "import numpy as np"
   ]
  },
  {
   "cell_type": "markdown",
   "metadata": {},
   "source": [
    "1)Most important object defined in NumPy is an N-dimensional array type called \"ndarray\"\n",
    "2)The collection of items of the same type.And every Item takes same size of block in the memory\n",
    "3)Items in the collection can be accessed using a zero-based index.\n",
    "4)Each element in ndarray is an object of \"data-type object (called dtype)\".\n",
    "5)Any item extracted from ndarray object (by slicing) is represented by a Python object of one of array scalar types"
   ]
  },
  {
   "cell_type": "code",
   "execution_count": 66,
   "metadata": {},
   "outputs": [
    {
     "data": {
      "text/plain": [
       "array([1, 2, 3])"
      ]
     },
     "execution_count": 66,
     "metadata": {},
     "output_type": "execute_result"
    }
   ],
   "source": [
    "a0 = np.array([1,2,3])# Creation of One Dimensional Array\n",
    "a0"
   ]
  },
  {
   "cell_type": "code",
   "execution_count": 54,
   "metadata": {},
   "outputs": [
    {
     "data": {
      "text/plain": [
       "array([[1, 2, 3],\n",
       "       [4, 5, 6]])"
      ]
     },
     "execution_count": 54,
     "metadata": {},
     "output_type": "execute_result"
    }
   ],
   "source": [
    "a1 = np.array([[1,2,3],[4,5,6]]) #Creation of multi dimensional Array\n",
    "\n",
    "a1"
   ]
  },
  {
   "cell_type": "code",
   "execution_count": 55,
   "metadata": {},
   "outputs": [
    {
     "data": {
      "text/plain": [
       "array([[1, 4],\n",
       "       [2, 5],\n",
       "       [3, 6]])"
      ]
     },
     "execution_count": 55,
     "metadata": {},
     "output_type": "execute_result"
    }
   ],
   "source": [
    "a2 = np.array([[1,4],[2,5],[3,6]]) #Creation of multi dimensional Array\n",
    "a2"
   ]
  },
  {
   "cell_type": "code",
   "execution_count": 17,
   "metadata": {},
   "outputs": [
    {
     "data": {
      "text/plain": [
       "array([1.+0.j, 2.+0.j, 3.+0.j])"
      ]
     },
     "execution_count": 17,
     "metadata": {},
     "output_type": "execute_result"
    }
   ],
   "source": [
    "np.array([1,2,3], dtype = complex) #Using of Dtype argument while creating the array\n",
    "#dtype - Desired data type of array, optional"
   ]
  },
  {
   "cell_type": "markdown",
   "metadata": {},
   "source": [
    "# Data Types\n",
    "--> These \"numerical\" datatypes are instances of dtype (data-type) objects, each having unique characteristics. The dtypes are available as np.bool_, np.float32, etc\n",
    "## dtypes: int_<8,16,32,64>, bool_,float_<16,32,64>,complex_<64,128> e.t.c"
   ]
  },
  {
   "cell_type": "code",
   "execution_count": 23,
   "metadata": {},
   "outputs": [
    {
     "data": {
      "text/plain": [
       "dtype('bool')"
      ]
     },
     "execution_count": 23,
     "metadata": {},
     "output_type": "execute_result"
    }
   ],
   "source": [
    "#dtype function returns the datatype of a dtype\n",
    "\n",
    "np.dtype(np.bool_)\n"
   ]
  },
  {
   "cell_type": "markdown",
   "metadata": {},
   "source": [
    " ## Creating the structured data with array() and dtype()"
   ]
  },
  {
   "cell_type": "code",
   "execution_count": 31,
   "metadata": {},
   "outputs": [
    {
     "data": {
      "text/plain": [
       "array([23, 32, 43], dtype=int16)"
      ]
     },
     "execution_count": 31,
     "metadata": {},
     "output_type": "execute_result"
    }
   ],
   "source": [
    "# Example-1\n",
    "dt = np.dtype([('age', np.int16)]) #List of tuples inside the dtype object\n",
    "\n",
    "students = np.array([23,32,43], dtype =  dt)\n",
    "\n",
    "students['age']"
   ]
  },
  {
   "cell_type": "code",
   "execution_count": 52,
   "metadata": {},
   "outputs": [
    {
     "name": "stdout",
     "output_type": "stream",
     "text": [
      "[1 2 3]\n",
      "[11 22 33]\n"
     ]
    }
   ],
   "source": [
    "#Example-2\n",
    "\n",
    "dt = np.dtype([('age',np.int16),('points',np.int8)])\n",
    "\n",
    "pointTable = np.array([(11,1),(22,2),(33,3)], dtype = dt) \n",
    "#Note the parenthesis instead of the square brackets \n",
    "# Each set of values in the parenthesis forms a row(Records) of the structured data and each value represents a column(Feature)\n",
    "# IN the array creation, not structured data, we use Square brackets in to create a multidimensional arrays \n",
    "print(pointTable['points'])\n",
    "\n",
    "print(pointTable['age'])"
   ]
  },
  {
   "cell_type": "markdown",
   "metadata": {},
   "source": [
    "# Attributes on an numpy array\n",
    "  1) Shape - gives rows x columns as a tuple\n",
    "  2) Reshape - changes the shape of the array\n",
    "  3) ndim - gives the dimension of the array\n",
    "  4) itemsize - returns the length of each element of array in bytes.\n",
    "  5) flags - returns different properties of the array"
   ]
  },
  {
   "cell_type": "code",
   "execution_count": 62,
   "metadata": {},
   "outputs": [
    {
     "name": "stdout",
     "output_type": "stream",
     "text": [
      "(3,)\n",
      "(2, 3)\n",
      "(3, 2)\n"
     ]
    }
   ],
   "source": [
    "# SHAPE\n",
    "\n",
    "print(pointTable.shape) # You can observe that the strucuted data only Rows count.........that is no.of records not even a mention od feature\n",
    "print(a1.shape) # In the arrays the out put is row x shape\n",
    "print(a2.shape)"
   ]
  },
  {
   "cell_type": "code",
   "execution_count": 65,
   "metadata": {},
   "outputs": [
    {
     "name": "stdout",
     "output_type": "stream",
     "text": [
      "[[1 2]\n",
      " [3 4]\n",
      " [5 6]]\n"
     ]
    }
   ],
   "source": [
    "# Reshape\n",
    "\n",
    "print(a1.reshape(3,2)) # You can see the a1(2,3) is chaged to shape of (3,2)"
   ]
  },
  {
   "cell_type": "code",
   "execution_count": 70,
   "metadata": {},
   "outputs": [
    {
     "name": "stdout",
     "output_type": "stream",
     "text": [
      "1\n",
      "2\n",
      "2\n"
     ]
    }
   ],
   "source": [
    "#ndim\n",
    "#print(pointTable.ndim)\n",
    "print(a0.ndim)\n",
    "print(a1.ndim)\n",
    "print(a2.ndim)"
   ]
  },
  {
   "cell_type": "code",
   "execution_count": 76,
   "metadata": {},
   "outputs": [
    {
     "name": "stdout",
     "output_type": "stream",
     "text": [
      "1\n",
      "[[[ 0  1  2  3]\n",
      "  [ 4  5  6  7]\n",
      "  [ 8  9 10 11]]\n",
      "\n",
      " [[12 13 14 15]\n",
      "  [16 17 18 19]\n",
      "  [20 21 22 23]]]\n",
      "3\n"
     ]
    }
   ],
   "source": [
    "# Example\n",
    "\n",
    "testArray = np.arange(24)#Gives a range of values starting from 0 to the argument-1\n",
    "\n",
    "print(testArray.ndim)\n",
    "\n",
    "print(testArray.reshape(2,3,4))\n",
    "\n",
    "print(testArray.reshape(2,3,4).ndim)"
   ]
  },
  {
   "cell_type": "code",
   "execution_count": 78,
   "metadata": {},
   "outputs": [
    {
     "name": "stdout",
     "output_type": "stream",
     "text": [
      "4\n",
      "4\n",
      "4\n"
     ]
    }
   ],
   "source": [
    "#itemsize\n",
    "\n",
    "print(a0.itemsize)\n",
    "print(a1.itemsize)\n",
    "print(a2.itemsize)"
   ]
  },
  {
   "cell_type": "code",
   "execution_count": 79,
   "metadata": {},
   "outputs": [
    {
     "name": "stdout",
     "output_type": "stream",
     "text": [
      "  C_CONTIGUOUS : True\n",
      "  F_CONTIGUOUS : True\n",
      "  OWNDATA : True\n",
      "  WRITEABLE : True\n",
      "  ALIGNED : True\n",
      "  WRITEBACKIFCOPY : False\n",
      "  UPDATEIFCOPY : False\n",
      "  C_CONTIGUOUS : True\n",
      "  F_CONTIGUOUS : False\n",
      "  OWNDATA : True\n",
      "  WRITEABLE : True\n",
      "  ALIGNED : True\n",
      "  WRITEBACKIFCOPY : False\n",
      "  UPDATEIFCOPY : False\n",
      "  C_CONTIGUOUS : True\n",
      "  F_CONTIGUOUS : False\n",
      "  OWNDATA : True\n",
      "  WRITEABLE : True\n",
      "  ALIGNED : True\n",
      "  WRITEBACKIFCOPY : False\n",
      "  UPDATEIFCOPY : False\n"
     ]
    }
   ],
   "source": [
    "#flags\n",
    "\n",
    "print(a0.flags)\n",
    "print(a1.flags)\n",
    "print(a2.flags)"
   ]
  },
  {
   "cell_type": "markdown",
   "metadata": {},
   "source": [
    "# Array Creation Routines"
   ]
  }
 ],
 "metadata": {
  "kernelspec": {
   "display_name": "Python 3",
   "language": "python",
   "name": "python3"
  },
  "language_info": {
   "codemirror_mode": {
    "name": "ipython",
    "version": 3
   },
   "file_extension": ".py",
   "mimetype": "text/x-python",
   "name": "python",
   "nbconvert_exporter": "python",
   "pygments_lexer": "ipython3",
   "version": "3.7.3"
  }
 },
 "nbformat": 4,
 "nbformat_minor": 2
}
