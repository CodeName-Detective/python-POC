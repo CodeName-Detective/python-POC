{
 "cells": [
  {
   "cell_type": "code",
   "execution_count": 2,
   "metadata": {},
   "outputs": [],
   "source": [
    "import numpy as np"
   ]
  },
  {
   "cell_type": "markdown",
   "metadata": {},
   "source": [
    "1. Most important object defined in NumPy is an N-dimensional array type called \"ndarray\"\n",
    "2. The collection of items of the same type.And every Item takes same size of block in the memory\n",
    "3. Items in the collection can be accessed using a zero-based index.\n",
    "4. Each element in ndarray is an object of \"data-type object (called dtype)\".\n",
    "5. Any item extracted from ndarray object (by slicing) is represented by a Python object of one of array scalar types"
   ]
  },
  {
   "cell_type": "code",
   "execution_count": 66,
   "metadata": {},
   "outputs": [
    {
     "data": {
      "text/plain": [
       "array([1, 2, 3])"
      ]
     },
     "execution_count": 66,
     "metadata": {},
     "output_type": "execute_result"
    }
   ],
   "source": [
    "a0 = np.array([1,2,3])# Creation of One Dimensional Array\n",
    "a0"
   ]
  },
  {
   "cell_type": "code",
   "execution_count": 54,
   "metadata": {},
   "outputs": [
    {
     "data": {
      "text/plain": [
       "array([[1, 2, 3],\n",
       "       [4, 5, 6]])"
      ]
     },
     "execution_count": 54,
     "metadata": {},
     "output_type": "execute_result"
    }
   ],
   "source": [
    "a1 = np.array([[1,2,3],[4,5,6]]) #Creation of multi dimensional Array\n",
    "\n",
    "a1"
   ]
  },
  {
   "cell_type": "code",
   "execution_count": 55,
   "metadata": {},
   "outputs": [
    {
     "data": {
      "text/plain": [
       "array([[1, 4],\n",
       "       [2, 5],\n",
       "       [3, 6]])"
      ]
     },
     "execution_count": 55,
     "metadata": {},
     "output_type": "execute_result"
    }
   ],
   "source": [
    "a2 = np.array([[1,4],[2,5],[3,6]]) #Creation of multi dimensional Array\n",
    "a2"
   ]
  },
  {
   "cell_type": "code",
   "execution_count": 17,
   "metadata": {},
   "outputs": [
    {
     "data": {
      "text/plain": [
       "array([1.+0.j, 2.+0.j, 3.+0.j])"
      ]
     },
     "execution_count": 17,
     "metadata": {},
     "output_type": "execute_result"
    }
   ],
   "source": [
    "np.array([1,2,3], dtype = complex) #Using of Dtype argument while creating the array\n",
    "#dtype - Desired data type of array, optional"
   ]
  },
  {
   "cell_type": "markdown",
   "metadata": {},
   "source": [
    "# Data Types\n",
    "1. These \"numerical\" datatypes are instances of dtype (data-type) objects, each having unique characteristics. The dtypes are available as np.bool_, np.float32, etc\n",
    "#### dtypes: int_<8,16,32,64>, bool_,float_<16,32,64>,complex_<64,128> ,  string_, unicode_ e.t.c"
   ]
  },
  {
   "cell_type": "code",
   "execution_count": 23,
   "metadata": {},
   "outputs": [
    {
     "data": {
      "text/plain": [
       "dtype('bool')"
      ]
     },
     "execution_count": 23,
     "metadata": {},
     "output_type": "execute_result"
    }
   ],
   "source": [
    "#dtype function returns the datatype of a dtype\n",
    "\n",
    "np.dtype(np.bool_)\n"
   ]
  },
  {
   "cell_type": "markdown",
   "metadata": {},
   "source": [
    " ## Creating the structured data with array() and dtype()"
   ]
  },
  {
   "cell_type": "code",
   "execution_count": 31,
   "metadata": {},
   "outputs": [
    {
     "data": {
      "text/plain": [
       "array([23, 32, 43], dtype=int16)"
      ]
     },
     "execution_count": 31,
     "metadata": {},
     "output_type": "execute_result"
    }
   ],
   "source": [
    "# Example-1\n",
    "dt = np.dtype([('age', np.int16)]) #List of tuples inside the dtype object\n",
    "\n",
    "students = np.array([23,32,43], dtype =  dt)\n",
    "\n",
    "students['age']"
   ]
  },
  {
   "cell_type": "code",
   "execution_count": 52,
   "metadata": {},
   "outputs": [
    {
     "name": "stdout",
     "output_type": "stream",
     "text": [
      "[1 2 3]\n",
      "[11 22 33]\n"
     ]
    }
   ],
   "source": [
    "#Example-2\n",
    "\n",
    "dt = np.dtype([('age',np.int16),('points',np.int8)])\n",
    "\n",
    "pointTable = np.array([(11,1),(22,2),(33,3)], dtype = dt) \n",
    "#Note the parenthesis instead of the square brackets \n",
    "# Each set of values in the parenthesis forms a row(Records) of the structured data and each value represents a column(Feature)\n",
    "# IN the array creation, not structured data, we use Square brackets in to create a multidimensional arrays \n",
    "print(pointTable['points'])\n",
    "\n",
    "print(pointTable['age'])"
   ]
  },
  {
   "cell_type": "markdown",
   "metadata": {},
   "source": [
    "# Attributes on an numpy array\n",
    "  1. Shape - gives rows x columns as a tuple\n",
    "  2. Reshape - changes the shape of the array\n",
    "  3. ndim - gives the dimension of the array\n",
    "  4. itemsize - returns the length of each element of array in bytes.\n",
    "  5. flags - returns different properties of the array"
   ]
  },
  {
   "cell_type": "code",
   "execution_count": 62,
   "metadata": {},
   "outputs": [
    {
     "name": "stdout",
     "output_type": "stream",
     "text": [
      "(3,)\n",
      "(2, 3)\n",
      "(3, 2)\n"
     ]
    }
   ],
   "source": [
    "# SHAPE\n",
    "\n",
    "print(pointTable.shape) # You can observe that the strucuted data only Rows count.........that is no.of records not even a mention od feature\n",
    "print(a1.shape) # In the arrays the out put is row x shape\n",
    "print(a2.shape)"
   ]
  },
  {
   "cell_type": "code",
   "execution_count": 65,
   "metadata": {},
   "outputs": [
    {
     "name": "stdout",
     "output_type": "stream",
     "text": [
      "[[1 2]\n",
      " [3 4]\n",
      " [5 6]]\n"
     ]
    }
   ],
   "source": [
    "# Reshape\n",
    "\n",
    "print(a1.reshape(3,2)) # You can see the a1(2,3) is chaged to shape of (3,2)"
   ]
  },
  {
   "cell_type": "code",
   "execution_count": 70,
   "metadata": {},
   "outputs": [
    {
     "name": "stdout",
     "output_type": "stream",
     "text": [
      "1\n",
      "2\n",
      "2\n"
     ]
    }
   ],
   "source": [
    "#ndim\n",
    "#print(pointTable.ndim)\n",
    "print(a0.ndim)\n",
    "print(a1.ndim)\n",
    "print(a2.ndim)"
   ]
  },
  {
   "cell_type": "code",
   "execution_count": 76,
   "metadata": {},
   "outputs": [
    {
     "name": "stdout",
     "output_type": "stream",
     "text": [
      "1\n",
      "[[[ 0  1  2  3]\n",
      "  [ 4  5  6  7]\n",
      "  [ 8  9 10 11]]\n",
      "\n",
      " [[12 13 14 15]\n",
      "  [16 17 18 19]\n",
      "  [20 21 22 23]]]\n",
      "3\n"
     ]
    }
   ],
   "source": [
    "# Example\n",
    "\n",
    "testArray = np.arange(24)#Gives a range of values starting from 0 to the argument-1\n",
    "\n",
    "print(testArray.ndim)\n",
    "\n",
    "print(testArray.reshape(2,3,4))\n",
    "\n",
    "print(testArray.reshape(2,3,4).ndim)"
   ]
  },
  {
   "cell_type": "code",
   "execution_count": 78,
   "metadata": {},
   "outputs": [
    {
     "name": "stdout",
     "output_type": "stream",
     "text": [
      "4\n",
      "4\n",
      "4\n"
     ]
    }
   ],
   "source": [
    "#itemsize\n",
    "\n",
    "print(a0.itemsize)\n",
    "print(a1.itemsize)\n",
    "print(a2.itemsize)"
   ]
  },
  {
   "cell_type": "code",
   "execution_count": 79,
   "metadata": {},
   "outputs": [
    {
     "name": "stdout",
     "output_type": "stream",
     "text": [
      "  C_CONTIGUOUS : True\n",
      "  F_CONTIGUOUS : True\n",
      "  OWNDATA : True\n",
      "  WRITEABLE : True\n",
      "  ALIGNED : True\n",
      "  WRITEBACKIFCOPY : False\n",
      "  UPDATEIFCOPY : False\n",
      "  C_CONTIGUOUS : True\n",
      "  F_CONTIGUOUS : False\n",
      "  OWNDATA : True\n",
      "  WRITEABLE : True\n",
      "  ALIGNED : True\n",
      "  WRITEBACKIFCOPY : False\n",
      "  UPDATEIFCOPY : False\n",
      "  C_CONTIGUOUS : True\n",
      "  F_CONTIGUOUS : False\n",
      "  OWNDATA : True\n",
      "  WRITEABLE : True\n",
      "  ALIGNED : True\n",
      "  WRITEBACKIFCOPY : False\n",
      "  UPDATEIFCOPY : False\n"
     ]
    }
   ],
   "source": [
    "#flags\n",
    "\n",
    "print(a0.flags)\n",
    "print(a1.flags)\n",
    "print(a2.flags)"
   ]
  },
  {
   "cell_type": "markdown",
   "metadata": {},
   "source": [
    "# Array Creation Routines\n",
    "####  Default dtype is float \n",
    "#### Default Order is 'C'\n",
    "1. empty(shape,dtype=<>,order = '<C,F>')--> creates an empty array of specified shape and dtype.\n",
    "2. zeros(shape,dtype=<>,order = '<C,F>')--> Returns a new array of specified size, filled with zeros.\n",
    "3. ones(shape,dtype=<>,order = '<C,F>') --> Returns a new array of specified size and type, filled with ones."
   ]
  },
  {
   "cell_type": "code",
   "execution_count": 14,
   "metadata": {},
   "outputs": [
    {
     "data": {
      "text/plain": [
       "array([[0., 0.],\n",
       "       [0., 0.],\n",
       "       [0., 0.]])"
      ]
     },
     "execution_count": 14,
     "metadata": {},
     "output_type": "execute_result"
    }
   ],
   "source": [
    "np.empty([3,2],dtype = np.float_, order = 'C')"
   ]
  },
  {
   "cell_type": "code",
   "execution_count": 13,
   "metadata": {},
   "outputs": [
    {
     "data": {
      "text/plain": [
       "array([[0., 0.],\n",
       "       [0., 0.],\n",
       "       [0., 0.]])"
      ]
     },
     "execution_count": 13,
     "metadata": {},
     "output_type": "execute_result"
    }
   ],
   "source": [
    "np.zeros([3,2],dtype = np.float_, order = 'C')"
   ]
  },
  {
   "cell_type": "code",
   "execution_count": 12,
   "metadata": {},
   "outputs": [
    {
     "data": {
      "text/plain": [
       "array([[1, 1],\n",
       "       [1, 1],\n",
       "       [1, 1]], dtype=int64)"
      ]
     },
     "execution_count": 12,
     "metadata": {},
     "output_type": "execute_result"
    }
   ],
   "source": [
    "np.ones([3,2],dtype = np.int64, order = 'C')"
   ]
  },
  {
   "cell_type": "markdown",
   "metadata": {},
   "source": [
    "# Array From Existing Data\n",
    "\n",
    "1. asarray(a, dtype = None, order = None) # a is any form such as list, list of tuples, tuples, tuple of tuples or tuple of lists --> converting Python sequence into ndarray.\n",
    "2. fromiter(iterable, dtype, count = -1) --> builds an ndarray object from any iterable object. A new one-dimensional array is returned by this function."
   ]
  },
  {
   "cell_type": "code",
   "execution_count": 19,
   "metadata": {},
   "outputs": [
    {
     "name": "stdout",
     "output_type": "stream",
     "text": [
      "[[1 2]\n",
      " [2 3]]\n",
      "[[1. 2.]\n",
      " [2. 3.]]\n"
     ]
    }
   ],
   "source": [
    "a = [(1,2),(2,3)]\n",
    "\n",
    "b = [[1,2],(2,3)]\n",
    "\n",
    "print(np.asarray(a))\n",
    "\n",
    "print(np.asarray(b, dtype=np.float64))"
   ]
  },
  {
   "cell_type": "code",
   "execution_count": 25,
   "metadata": {},
   "outputs": [
    {
     "data": {
      "text/plain": [
       "array([0, 1, 2, 3, 4, 5, 6, 7, 8, 9])"
      ]
     },
     "execution_count": 25,
     "metadata": {},
     "output_type": "execute_result"
    }
   ],
   "source": [
    "listA = range(10)\n",
    "\n",
    "iterableA = iter(listA)\n",
    "\n",
    "np.fromiter(iterableA, dtype = np.int_)"
   ]
  },
  {
   "cell_type": "markdown",
   "metadata": {},
   "source": [
    "# Array From Numerical Ranges\n",
    "\n",
    "1. arange(start, stop, step, dtype) --> returns an ndarray object containing evenly spaced values within a given range\n",
    "2. linspace(start, stop, num, endpoint, retstep, dtype) --> similar to arange() function. In this function, instead of step size, the number of evenly spaced values between the interval is specified\n",
    "3. logspace(start, stop, num, endpoint, base, dtype) --> returns an ndarray object that contains the numbers that are evenly spaced on a log scale. Start and stop endpoints of the scale are indices of the base, usually 10."
   ]
  },
  {
   "cell_type": "code",
   "execution_count": 29,
   "metadata": {},
   "outputs": [
    {
     "name": "stdout",
     "output_type": "stream",
     "text": [
      "[ 1  6 11 16 21 26 31 36 41 46 51 56 61 66 71 76 81 86 91 96]\n",
      "[0. 1.]\n"
     ]
    }
   ],
   "source": [
    "print(np.arange(1,100,5, np.int_))\n",
    "print(np.arange(1.3)) # Default Start = 0 , Step = 1, dtype=type of stop given as argument"
   ]
  },
  {
   "cell_type": "code",
   "execution_count": 31,
   "metadata": {},
   "outputs": [
    {
     "data": {
      "text/plain": [
       "array([10. , 12.5, 15. , 17.5, 20. ])"
      ]
     },
     "execution_count": 31,
     "metadata": {},
     "output_type": "execute_result"
    }
   ],
   "source": [
    "np.linspace(10,20,5)"
   ]
  },
  {
   "cell_type": "code",
   "execution_count": 34,
   "metadata": {},
   "outputs": [
    {
     "data": {
      "text/plain": [
       "array([   2.,    4.,    8.,   16.,   32.,   64.,  128.,  256.,  512.,\n",
       "       1024.])"
      ]
     },
     "execution_count": 34,
     "metadata": {},
     "output_type": "execute_result"
    }
   ],
   "source": [
    "np.logspace(1,10,num = 10, base = 2)"
   ]
  },
  {
   "cell_type": "markdown",
   "metadata": {},
   "source": [
    "# Indexing & Slicing\n",
    "1. Contents of ndarray object can be accessed and modified by indexing or slicing\n",
    "2. ndarray object follows zero-based index\n",
    "3. Three types of indexing methods are available − field access, basic slicing and advanced indexing."
   ]
  },
  {
   "cell_type": "code",
   "execution_count": 43,
   "metadata": {},
   "outputs": [
    {
     "data": {
      "text/plain": [
       "array([3, 6])"
      ]
     },
     "execution_count": 43,
     "metadata": {},
     "output_type": "execute_result"
    }
   ],
   "source": [
    "a = np.arange(1,99,1)\n",
    "a[2:7:3] # Start:Stop:Step=1"
   ]
  },
  {
   "cell_type": "code",
   "execution_count": 51,
   "metadata": {},
   "outputs": [
    {
     "name": "stdout",
     "output_type": "stream",
     "text": [
      "[[3 4 5]\n",
      " [4 5 6]]\n",
      "\n",
      "\n",
      "[[1 2 3]]\n"
     ]
    }
   ],
   "source": [
    "a = np.array([[1,2,3],[3,4,5],[4,5,6]])\n",
    "print(a[1:])\n",
    "print('\\n')\n",
    "print(a[0:1])"
   ]
  },
  {
   "cell_type": "markdown",
   "metadata": {},
   "source": [
    "#### Boolean Indexing - Can be used to fetch elements of an array based on a condition."
   ]
  },
  {
   "cell_type": "code",
   "execution_count": 55,
   "metadata": {},
   "outputs": [
    {
     "name": "stdout",
     "output_type": "stream",
     "text": [
      "Our array is:\n",
      "[[1 2 3]\n",
      " [3 4 5]\n",
      " [4 5 6]]\n",
      "\n",
      "\n",
      "[1 2 3 3 4 4]\n"
     ]
    }
   ],
   "source": [
    "# BOOLEAN INDEXING - advanced indexing is used when the resultant object is meant to be the result of Boolean operations, such as comparison operators.\n",
    "a = np.array([[1,2,3],[3,4,5],[4,5,6]])\n",
    "print('Our array is:') \n",
    "print(a) \n",
    "print('\\n')\n",
    "print(a[a<5])"
   ]
  },
  {
   "cell_type": "code",
   "execution_count": 64,
   "metadata": {},
   "outputs": [
    {
     "name": "stdout",
     "output_type": "stream",
     "text": [
      "Our array is:\n",
      "[nan  1.  2. nan  3.  4.  5.]\n",
      "\n",
      "\n",
      "[1. 2. 3. 4. 5.]\n"
     ]
    }
   ],
   "source": [
    "# Print all \"nan\" values\n",
    "# ~ complement\n",
    "a = np.array([np.nan, 1,2,np.nan,3,4,5])\n",
    "print('Our array is:') \n",
    "print(a) \n",
    "print('\\n')\n",
    "\n",
    "print(a[~np.isnan(a)])"
   ]
  },
  {
   "cell_type": "code",
   "execution_count": 65,
   "metadata": {},
   "outputs": [
    {
     "name": "stdout",
     "output_type": "stream",
     "text": [
      "Our array is:\n",
      "[1. +0.j 2. +6.j 5. +0.j 3.5+5.j]\n",
      "\n",
      "\n",
      "[2. +6.j 3.5+5.j]\n"
     ]
    }
   ],
   "source": [
    "#Print All Complex Numbers from an array\n",
    "a = np.array([1, 2+6j, 5, 3.5+5j])\n",
    "print('Our array is:') \n",
    "print(a) \n",
    "print('\\n')\n",
    "\n",
    "print(a[np.iscomplex(a)])"
   ]
  },
  {
   "cell_type": "markdown",
   "metadata": {},
   "source": [
    "# Broadcasting\n",
    "##### refers to the ability of NumPy to treat arrays of different shapes during arithmetic operations. Arithmetic operations on arrays are usually done on corresponding elements\n",
    "###### The following figure demonstrates how array b is broadcast to become compatible with a\n",
    "<img src=\"https://www.tutorialspoint.com/numpy/images/array.jpg\" alt=\"Array\" title=\"Broadcasting on two dissimilar arrays\" />"
   ]
  },
  {
   "cell_type": "code",
   "execution_count": 66,
   "metadata": {},
   "outputs": [
    {
     "name": "stdout",
     "output_type": "stream",
     "text": [
      "[[ 1.  1.  1.]\n",
      " [11. 11. 11.]\n",
      " [21. 21. 21.]\n",
      " [31. 31. 31.]]\n"
     ]
    }
   ],
   "source": [
    "a = np.array([[0.0,0.0,0.0],[10.0,10.0,10.0],[20.0,20.0,20.0],[30.0,30.0,30.0]]) \n",
    "b = np.array([1.0])\n",
    "\n",
    "print(a+b)"
   ]
  },
  {
   "cell_type": "code",
   "execution_count": 72,
   "metadata": {},
   "outputs": [
    {
     "name": "stdout",
     "output_type": "stream",
     "text": [
      "[[1]\n",
      " [2]]\n",
      "\n",
      "\n",
      "[[1 2]]\n",
      "\n",
      "\n",
      "[[2 3]\n",
      " [3 4]]\n"
     ]
    }
   ],
   "source": [
    "a = np.array([[1],[2]])\n",
    "print(a)\n",
    "print('\\n')\n",
    "b = np.array([[1,2]])\n",
    "print(b)\n",
    "print('\\n')\n",
    "\n",
    "print(a+b)"
   ]
  },
  {
   "cell_type": "markdown",
   "metadata": {},
   "source": [
    "# Iterating Over Array\n",
    "\n",
    "1. numpy.nditer. It is an efficient multidimensional iterator object using which it is possible to iterate over an array. Each element of an array is visited using Python’s standard Iterator interface.\n",
    "2. The order of iteration is chosen to match the memory layout of an array, without considering a particular ordering.\n",
    "3. If the same elements are stored using F-style order, the iterator chooses the more efficient way of iterating over an array."
   ]
  },
  {
   "cell_type": "code",
   "execution_count": 80,
   "metadata": {},
   "outputs": [
    {
     "name": "stdout",
     "output_type": "stream",
     "text": [
      "0\n",
      "3\n",
      "6\n",
      "1\n",
      "4\n",
      "7\n",
      "2\n",
      "5\n",
      "8\n"
     ]
    }
   ],
   "source": [
    "a = np.arange(9)\n",
    "a = a.reshape(3,3)\n",
    "\n",
    "#Op-flag tells in which mode to open\n",
    "\n",
    "for element in np.nditer(a, order= 'F', op_flags= ['readwrite']): \n",
    "    print(element)"
   ]
  },
  {
   "cell_type": "markdown",
   "metadata": {},
   "source": [
    "# Array Manipulation\n",
    "\n",
    "### Changing Shape"
   ]
  },
  {
   "cell_type": "code",
   "execution_count": 81,
   "metadata": {},
   "outputs": [
    {
     "name": "stdout",
     "output_type": "stream",
     "text": [
      "[0 1 2 3 4 5 6 7 8]\n",
      "\n",
      "\n",
      "[[0 1 2]\n",
      " [3 4 5]\n",
      " [6 7 8]]\n"
     ]
    }
   ],
   "source": [
    "a = np.arange(9)\n",
    "print(a)\n",
    "print('\\n')\n",
    "a = a.reshape(3,3)\n",
    "print(a)"
   ]
  },
  {
   "cell_type": "code",
   "execution_count": 84,
   "metadata": {},
   "outputs": [
    {
     "name": "stdout",
     "output_type": "stream",
     "text": [
      "[[0 1 2 3]\n",
      " [4 5 6 7]]\n",
      "\n",
      "\n"
     ]
    },
    {
     "data": {
      "text/plain": [
       "5"
      ]
     },
     "execution_count": 84,
     "metadata": {},
     "output_type": "execute_result"
    }
   ],
   "source": [
    "# function returns a 1-D iterator over the array. It behaves similar to Python's built-in iterator.\n",
    "a = np.arange(8).reshape(2,4) \n",
    "\n",
    "print(a)\n",
    "print('\\n')\n",
    "\n",
    "a.flat[5]"
   ]
  },
  {
   "cell_type": "code",
   "execution_count": 88,
   "metadata": {},
   "outputs": [
    {
     "name": "stdout",
     "output_type": "stream",
     "text": [
      "[[0 1 2 3]\n",
      " [4 5 6 7]]\n",
      "\n",
      "\n",
      "[0 1 2 3 4 5 6 7]\n",
      "\n",
      "\n",
      "[0 4 1 5 2 6 3 7]\n"
     ]
    }
   ],
   "source": [
    "a = np.arange(8).reshape(2,4) \n",
    "\n",
    "print(a)\n",
    "print('\\n')\n",
    "\n",
    "print(a.flatten()) #order<C,F> can also be used as a parameter within the function\n",
    "print('\\n')\n",
    "\n",
    "print(a.flatten(order= 'F'))"
   ]
  },
  {
   "cell_type": "code",
   "execution_count": 90,
   "metadata": {},
   "outputs": [
    {
     "name": "stdout",
     "output_type": "stream",
     "text": [
      "[[0 1 2 3]\n",
      " [4 5 6 7]]\n",
      "\n",
      "\n",
      "[0 1 2 3 4 5 6 7]\n",
      "\n",
      "\n",
      "[0 4 1 5 2 6 3 7]\n"
     ]
    }
   ],
   "source": [
    "# returns a flattened one-dimensional array. A copy is made only if needed. The returned array will have the same type as that of the input array. The function takes one parameter.\n",
    "\n",
    "a = np.arange(8).reshape(2,4) \n",
    "\n",
    "print(a)\n",
    "print('\\n')\n",
    "\n",
    "print(a.ravel()) #order<C,F> can also be used as a parameter within the function\n",
    "print('\\n')\n",
    "\n",
    "print(a.ravel(order= 'F'))"
   ]
  },
  {
   "cell_type": "markdown",
   "metadata": {},
   "source": [
    "### Transpose Operations"
   ]
  },
  {
   "cell_type": "code",
   "execution_count": 92,
   "metadata": {},
   "outputs": [
    {
     "name": "stdout",
     "output_type": "stream",
     "text": [
      "[[ 0  1  2  3]\n",
      " [ 4  5  6  7]\n",
      " [ 8  9 10 11]]\n",
      "\n",
      "\n",
      "[[ 0  4  8]\n",
      " [ 1  5  9]\n",
      " [ 2  6 10]\n",
      " [ 3  7 11]]\n"
     ]
    }
   ],
   "source": [
    "a = np.arange(12).reshape(3,4) \n",
    "print(a)\n",
    "print('\\n')\n",
    "\n",
    "print(np.transpose(a))"
   ]
  },
  {
   "cell_type": "code",
   "execution_count": 93,
   "metadata": {},
   "outputs": [
    {
     "name": "stdout",
     "output_type": "stream",
     "text": [
      "[[ 0  1  2  3]\n",
      " [ 4  5  6  7]\n",
      " [ 8  9 10 11]]\n",
      "\n",
      "\n",
      "[[ 0  4  8]\n",
      " [ 1  5  9]\n",
      " [ 2  6 10]\n",
      " [ 3  7 11]]\n"
     ]
    }
   ],
   "source": [
    "a = np.arange(12).reshape(3,4) \n",
    "print(a)\n",
    "print('\\n')\n",
    "\n",
    "print(a.T)"
   ]
  },
  {
   "cell_type": "markdown",
   "metadata": {},
   "source": [
    "### Joining Arrays"
   ]
  },
  {
   "cell_type": "code",
   "execution_count": 96,
   "metadata": {},
   "outputs": [
    {
     "name": "stdout",
     "output_type": "stream",
     "text": [
      "First array:\n",
      "[[1 2]\n",
      " [3 4]]\n",
      "\n",
      "\n",
      "Second array:\n",
      "[[5 6]\n",
      " [7 8]]\n",
      "\n",
      "\n",
      "Joining the two arrays along axis 0(Rows):\n",
      "[[1 2]\n",
      " [3 4]\n",
      " [5 6]\n",
      " [7 8]]\n",
      "\n",
      "\n",
      "Joining the two arrays along axis 1(Columns):\n",
      "[[1 2 5 6]\n",
      " [3 4 7 8]]\n"
     ]
    }
   ],
   "source": [
    "a = np.array([[1,2],[3,4]]) \n",
    "\n",
    "print('First array:')\n",
    "print(a) \n",
    "print('\\n')  \n",
    "b = np.array([[5,6],[7,8]]) \n",
    "\n",
    "print('Second array:') \n",
    "print(b)\n",
    "print('\\n')  \n",
    "# both the arrays are of same dimensions \n",
    "\n",
    "print('Joining the two arrays along axis 0(Rows):') \n",
    "print(np.concatenate((a,b))) \n",
    "print('\\n')  \n",
    "\n",
    "print('Joining the two arrays along axis 1(Columns):')\n",
    "print(np.concatenate((a,b),axis = 1))"
   ]
  },
  {
   "cell_type": "code",
   "execution_count": 104,
   "metadata": {},
   "outputs": [
    {
     "name": "stdout",
     "output_type": "stream",
     "text": [
      "[[1 2]\n",
      " [3 4]]\n",
      "\n",
      "\n",
      "[[5 6]\n",
      " [7 8]]\n",
      "\n",
      "\n",
      "[[1 2 5 6]\n",
      " [3 4 7 8]]\n"
     ]
    }
   ],
   "source": [
    "#Horizantal Stack-------------------Columnwise Stacking\n",
    "a = np.array([[1,2],[3,4]])\n",
    "print(a)\n",
    "print('\\n')\n",
    "b = np.array([[5,6],[7,8]])\n",
    "print(b)\n",
    "print('\\n')\n",
    "print(np.hstack((a,b)))"
   ]
  },
  {
   "cell_type": "code",
   "execution_count": 103,
   "metadata": {},
   "outputs": [
    {
     "name": "stdout",
     "output_type": "stream",
     "text": [
      "[[1 2]\n",
      " [3 4]]\n",
      "\n",
      "\n",
      "[[5 6]\n",
      " [7 8]]\n",
      "\n",
      "\n",
      "[[1 2]\n",
      " [3 4]\n",
      " [5 6]\n",
      " [7 8]]\n"
     ]
    }
   ],
   "source": [
    "#Vertical Stack-------------------row-wise Stacking\n",
    "a = np.array([[1,2],[3,4]])\n",
    "print(a)\n",
    "print('\\n')\n",
    "b = np.array([[5,6],[7,8]])\n",
    "print(b)\n",
    "print('\\n')\n",
    "print(np.vstack((a,b)))"
   ]
  },
  {
   "cell_type": "markdown",
   "metadata": {},
   "source": [
    "# Splitting Arrays"
   ]
  },
  {
   "cell_type": "code",
   "execution_count": 105,
   "metadata": {},
   "outputs": [
    {
     "name": "stdout",
     "output_type": "stream",
     "text": [
      "[0 1 2 3 4 5 6 7 8]\n",
      "\n",
      "\n",
      "[array([0, 1, 2]), array([3, 4, 5]), array([6, 7, 8])]\n",
      "\n",
      "\n",
      "[array([0, 1, 2, 3]), array([4, 5, 6]), array([7, 8])]\n"
     ]
    }
   ],
   "source": [
    "a = np.arange(9) \n",
    "\n",
    "print(a)\n",
    "print('\\n')\n",
    "\n",
    "print(np.split(a,3)) # Split the array in 3 equal-sized subarrays\n",
    "print('\\n')\n",
    "\n",
    "print(np.split(a,[4,7])) #Split the array at positions indicated in 1-D array"
   ]
  },
  {
   "cell_type": "code",
   "execution_count": 114,
   "metadata": {},
   "outputs": [
    {
     "name": "stdout",
     "output_type": "stream",
     "text": [
      "[[ 0  1  2  3]\n",
      " [ 4  5  6  7]\n",
      " [ 8  9 10 11]\n",
      " [12 13 14 15]]\n",
      "\n",
      "\n",
      "[array([[ 0,  1],\n",
      "       [ 4,  5],\n",
      "       [ 8,  9],\n",
      "       [12, 13]]), array([[ 2,  3],\n",
      "       [ 6,  7],\n",
      "       [10, 11],\n",
      "       [14, 15]])]\n"
     ]
    }
   ],
   "source": [
    "# Horizantal Split - Equal Split Columnwise\n",
    "\n",
    "a = np.arange(16).reshape((4,4))\n",
    "print(a)\n",
    "print('\\n')\n",
    "\n",
    "print(np.hsplit(a,2))"
   ]
  },
  {
   "cell_type": "code",
   "execution_count": 115,
   "metadata": {},
   "outputs": [
    {
     "name": "stdout",
     "output_type": "stream",
     "text": [
      "[[ 0  1  2  3]\n",
      " [ 4  5  6  7]\n",
      " [ 8  9 10 11]\n",
      " [12 13 14 15]]\n",
      "\n",
      "\n",
      "[array([[0, 1, 2, 3],\n",
      "       [4, 5, 6, 7]]), array([[ 8,  9, 10, 11],\n",
      "       [12, 13, 14, 15]])]\n"
     ]
    }
   ],
   "source": [
    "#Vertical Split - Equal Split happens Row wise\n",
    "\n",
    "a = np.arange(16).reshape((4,4))\n",
    "print(a)\n",
    "print('\\n')\n",
    "print(np.vsplit(a,2))"
   ]
  },
  {
   "cell_type": "markdown",
   "metadata": {},
   "source": [
    "# Adding / Removing Elements"
   ]
  },
  {
   "cell_type": "code",
   "execution_count": 119,
   "metadata": {},
   "outputs": [
    {
     "name": "stdout",
     "output_type": "stream",
     "text": [
      "[0 1 2 3 4 5 6 7 8]\n",
      "\n",
      "\n",
      "[[0 1 2]\n",
      " [3 4 5]\n",
      " [6 7 8]]\n",
      "\n",
      "\n",
      "[[0 1 2]\n",
      " [3 4 5]\n",
      " [6 7 8]]\n"
     ]
    }
   ],
   "source": [
    "a = np.arange(9)\n",
    "print(a)\n",
    "print('\\n')\n",
    "\n",
    "print(np.reshape(a,(3,3))) # Usage 1\n",
    "print('\\n')\n",
    "print(a.reshape((3,3))) # Usage 2"
   ]
  },
  {
   "cell_type": "code",
   "execution_count": 124,
   "metadata": {},
   "outputs": [
    {
     "name": "stdout",
     "output_type": "stream",
     "text": [
      "[[1 2 3]\n",
      " [4 5 6]]\n",
      "\n",
      "\n",
      "[1 2 3 4 5 6 7 8 9]\n",
      "\n",
      "\n",
      "[[1 2 3 5 5 5]\n",
      " [4 5 6 7 8 9]]\n"
     ]
    }
   ],
   "source": [
    "# The dimensions of the input arrays must match otherwise ValueError will be generated.\n",
    "\n",
    "a = np.array([[1,2,3],[4,5,6]])\n",
    "print(a)\n",
    "print('\\n')\n",
    "\n",
    "print(np.append(a,[7,8,9])) # Over axis 0\n",
    "print('\\n')\n",
    "\n",
    "print(np.append(a,[[5,5,5],[7,8,9]], axis=1))"
   ]
  },
  {
   "cell_type": "code",
   "execution_count": 126,
   "metadata": {},
   "outputs": [
    {
     "name": "stdout",
     "output_type": "stream",
     "text": [
      "[[1 2]\n",
      " [3 4]\n",
      " [5 6]]\n",
      "\n",
      "\n",
      "[ 1  2  3 11 12  4  5  6]\n",
      "\n",
      "\n",
      "[[ 1  2]\n",
      " [11 11]\n",
      " [ 3  4]\n",
      " [ 5  6]]\n",
      "\n",
      "\n",
      "[[ 1 11  2]\n",
      " [ 3 11  4]\n",
      " [ 5 11  6]]\n"
     ]
    }
   ],
   "source": [
    "\n",
    "# numpy.insert(arr, obj, values, axis)\n",
    "\n",
    "a = np.array([[1,2],[3,4],[5,6]])\n",
    "print(a)\n",
    "print('\\n')\n",
    "\n",
    "print(np.insert(a,3,[11,12]))\n",
    "print('\\n')\n",
    "# if the axis is not mentioned, the input array is flattened.\n",
    "\n",
    "print(np.insert(a,1,[11],axis = 0))\n",
    "print('\\n')\n",
    "\n",
    "print(np.insert(a,1,11,axis = 1))"
   ]
  },
  {
   "cell_type": "code",
   "execution_count": 129,
   "metadata": {},
   "outputs": [
    {
     "name": "stdout",
     "output_type": "stream",
     "text": [
      "[[ 0  1  2  3]\n",
      " [ 4  5  6  7]\n",
      " [ 8  9 10 11]]\n",
      "\n",
      "\n",
      "[ 0  1  2  3  4  6  7  8  9 10 11]\n",
      "\n",
      "\n",
      "[[ 0  1  2  3]\n",
      " [ 8  9 10 11]]\n",
      "\n",
      "\n",
      "[[ 0  2  3]\n",
      " [ 4  6  7]\n",
      " [ 8 10 11]]\n"
     ]
    }
   ],
   "source": [
    "# numpy.delete(arr, obj, axis)\n",
    "\n",
    "a = np.arange(12).reshape(3,4) \n",
    "print(a)\n",
    "print('\\n')\n",
    "\n",
    "print(np.delete(a,5))\n",
    "print('\\n')\n",
    "# if the axis is not mentioned, the input array is flattened.\n",
    "\n",
    "print(np.delete(a,1,axis = 0))\n",
    "print('\\n')\n",
    "\n",
    "print(np.delete(a,1,axis = 1))"
   ]
  },
  {
   "cell_type": "code",
   "execution_count": 145,
   "metadata": {},
   "outputs": [
    {
     "name": "stdout",
     "output_type": "stream",
     "text": [
      "[5 2 6 2 7 5 6 8 2 9]\n",
      "\n",
      "\n",
      "[2 5 6 7 8 9]\n",
      "\n",
      "\n",
      "(array([2, 5, 6, 7, 8, 9]), array([1, 0, 2, 4, 7, 9], dtype=int64))\n",
      "[1 0 2 4 7 9]\n",
      "\n",
      "\n",
      "(array([2, 5, 6, 7, 8, 9]), array([1, 0, 2, 0, 3, 1, 2, 4, 0, 5], dtype=int64))\n",
      "[1 0 2 0 3 1 2 4 0 5]\n",
      "[5 2 6 2 7 5 6 8 2 9]\n",
      "\n",
      "\n",
      "(array([2, 5, 6, 7, 8, 9]), array([3, 2, 2, 1, 1, 1], dtype=int64))\n",
      "[3 2 2 1 1 1]\n"
     ]
    }
   ],
   "source": [
    "a = np.array([5,2,6,2,7,5,6,8,2,9])\n",
    "print(a)\n",
    "print('\\n')\n",
    "\n",
    "print(np.unique(a)) # Returns array of unique values\n",
    "print('\\n')\n",
    "\n",
    "print(np.unique(a, return_index = True)) # Returns array of Unique Values and also array of its Indicies\n",
    "values,indices = np.unique(a, return_index = True)\n",
    "print(indices)\n",
    "print('\\n')\n",
    "\n",
    "print(np.unique(a,return_inverse= True))# Returns array of Unique Values and also array of  Indicies\n",
    "values,indices = np.unique(a,return_inverse= True)\n",
    "print(indices)\n",
    "print(values[indices])\n",
    "print('\\n')\n",
    "\n",
    "print(np.unique(a,return_counts = True))# Returns array of Unique Values and also array countof repetions respective to the order in the array \n",
    "values,counts = np.unique(a,return_counts = True)\n",
    "print(counts)"
   ]
  },
  {
   "cell_type": "markdown",
   "metadata": {},
   "source": [
    "# Binary Operators"
   ]
  },
  {
   "cell_type": "code",
   "execution_count": 153,
   "metadata": {},
   "outputs": [
    {
     "name": "stdout",
     "output_type": "stream",
     "text": [
      "0b1101\n",
      "\n",
      "\n",
      "0b1110\n",
      "\n",
      "\n"
     ]
    }
   ],
   "source": [
    "a= bin(13)\n",
    "print(a)\n",
    "print('\\n')\n",
    "\n",
    "b=bin(14)\n",
    "print(b)\n",
    "print('\\n')"
   ]
  },
  {
   "cell_type": "code",
   "execution_count": 160,
   "metadata": {},
   "outputs": [
    {
     "name": "stdout",
     "output_type": "stream",
     "text": [
      "12\n",
      "\n",
      "\n",
      "15\n",
      "\n",
      "\n",
      "-14\n",
      "\n",
      "\n",
      "52\n",
      "\n",
      "\n",
      "3\n"
     ]
    }
   ],
   "source": [
    "print(np.bitwise_and(13,14))\n",
    "print('\\n')\n",
    "\n",
    "print(np.bitwise_or(13,14))\n",
    "print('\\n')\n",
    "\n",
    "print(np.invert(13))\n",
    "print('\\n')\n",
    "\n",
    "print(np.left_shift(13,2))\n",
    "print('\\n')\n",
    "\n",
    "print(np.right_shift(13,2))"
   ]
  },
  {
   "cell_type": "markdown",
   "metadata": {},
   "source": [
    "# String Functions\n",
    "\n",
    "-  to perform vectorized string operations for arrays of dtype numpy.string_ or numpy.unicode_. They are based on the standard string functions in Python's built-in library."
   ]
  },
  {
   "cell_type": "code",
   "execution_count": null,
   "metadata": {},
   "outputs": [],
   "source": []
  }
 ],
 "metadata": {
  "kernelspec": {
   "display_name": "Python 3",
   "language": "python",
   "name": "python3"
  },
  "language_info": {
   "codemirror_mode": {
    "name": "ipython",
    "version": 3
   },
   "file_extension": ".py",
   "mimetype": "text/x-python",
   "name": "python",
   "nbconvert_exporter": "python",
   "pygments_lexer": "ipython3",
   "version": "3.7.3"
  }
 },
 "nbformat": 4,
 "nbformat_minor": 2
}
