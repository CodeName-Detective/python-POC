{
 "cells": [
  {
   "cell_type": "code",
   "execution_count": 21,
   "metadata": {},
   "outputs": [
    {
     "name": "stdout",
     "output_type": "stream",
     "text": [
      "12\n",
      "[12, 'demo', False]\n",
      "['demo', False, 90]\n",
      "list\n",
      "[12, 'demo', False, 90]\n",
      "[False, 90]\n",
      "[12, 'demo', False, 90, 'list', 'Digital Marketing']\n",
      "[12, 'demo', False, 90, 'list', 'Digital Marketing', 'append1', 'append2']\n",
      "[12, 'demo', False, 90, 'list', 'Digital Marketing', 'append2']\n",
      "[12, 'demo', 'insert1', False, 90, 'list', 'Digital Marketing', 'append2']\n"
     ]
    }
   ],
   "source": [
    "#########################################----------LISTS---------###################################\n",
    "\n",
    "# List is Mutable\n",
    "# Each element in the list is of different data types\n",
    "# Elemnets has Order\n",
    "# Will allow duplicates\n",
    "\n",
    "demo_list = [12,'demo',False,90,'list']\n",
    "\n",
    "print(type(demo_list))\n",
    "\n",
    "##################################################################\n",
    "\n",
    "print(demo_list[0])      #Accessing the element forwards\n",
    "print(demo_list[:3])     #List Slicing(Forward)----------Lat indexed element is exclusive in slicing(3-1)\n",
    "print(demo_list[1:4])    #List Slicing(Forward)---------Last indexed element is exclusive in slicing(4-1)\n",
    "print(demo_list[-1])     #Accessing the element from backwards\n",
    "print(demo_list[:-1])    # List Slicing(Backwards)--------Last indexed elemnt is exclusive(exclude the last value)\n",
    "print(demo_list[-3:-1])  # List Slicing(Backwards)--------Last indexed elemnt is exclusive(exclude the last value)\n",
    "##################################################################\n",
    "\n",
    "demo_list.append('Digital Marketing')      #Appending single value to a list\n",
    "print(demo_list)\n",
    "demo_list.extend(['append1', 'append2'])   #Append multiple vaues to a list---------Input Argument should be a LIST\n",
    "print(demo_list)\n",
    "demo_list.remove('append1')                #Remove a element to the list\n",
    "print(demo_list)\n",
    "demo_list.insert(2,'insert1')              #Inserting the element into the list-----Number argument is the INDEX(Not Position)\n",
    "print(demo_list)"
   ]
  },
  {
   "cell_type": "code",
   "execution_count": 25,
   "metadata": {},
   "outputs": [
    {
     "name": "stdout",
     "output_type": "stream",
     "text": [
      "<class 'tuple'>\n",
      "(12, 'demo', False)\n",
      "('demo', False, 90)\n",
      "list\n",
      "(12, 'demo', False, 90)\n",
      "(False, 90)\n"
     ]
    }
   ],
   "source": [
    "##################################-------------TUPLE-------------#################################\n",
    "\n",
    "#Tuple is IMMUTABLE-----so we can't change it\n",
    "#Elements has Order\n",
    "\n",
    "demo_tuple = (12,'demo',False,90,'list')\n",
    "print(type(demo_tuple))\n",
    "\n",
    "#################################################################################################\n",
    "print(demo_tuple[:3])     #Tuple Slicing(Forward)----------Lat indexed element is exclusive in slicing(3-1)\n",
    "print(demo_tuple[1:4])    #Tuple Slicing(Forward)---------Last indexed element is exclusive in slicing(4-1)\n",
    "print(demo_tuple[-1])     #Accessing the element from backwards\n",
    "print(demo_tuple[:-1])    # Tuple Slicing(Backwards)--------Last indexed elemnt is exclusive(exclude the last value)\n",
    "print(demo_tuple[-3:-1])  # Tuple Slicing(Backwards)--------Last indexed elemnt is exclusive(exclude the last value)"
   ]
  },
  {
   "cell_type": "code",
   "execution_count": 34,
   "metadata": {},
   "outputs": [
    {
     "name": "stdout",
     "output_type": "stream",
     "text": [
      "<class 'dict'>\n",
      "['Capsicum', 'Onion', 'Jalapenos']\n"
     ]
    }
   ],
   "source": [
    "##################################-------------Dictionary---------------##################################\n",
    "\n",
    "#KEY VALUE pairs\n",
    "# Also Called JSON formatt\n",
    "\n",
    "demo_dict = {'Pizza_Type': ['Veg', 'Non Veg'], \n",
    "             'Non Veg': ['Pepper Barbecue', 'Chicken Overloaded'],\n",
    "             'Base': ['Cheese Burst', 'Pan', 'Hand Tossed'], \n",
    "             'Toppings': ['Capsicum', 'Onion', 'Jalapenos'],\n",
    "             'Payment_Mode': 'Cash'}\n",
    "print(type(demo_dict))\n",
    "###########################################################################################################\n",
    "\n",
    "print(demo_dict['Toppings']) # Accessing values in a Dictionary"
   ]
  },
  {
   "cell_type": "code",
   "execution_count": 41,
   "metadata": {},
   "outputs": [
    {
     "name": "stdout",
     "output_type": "stream",
     "text": [
      "{32, 33, 34, 'Data Science', 31}\n",
      "[31, 32, 32, 33, 33, 33, 34, 34, 34, 'Data Science', 'Data Science']\n",
      "[32, 33, 34, 'Data Science', 31]\n"
     ]
    }
   ],
   "source": [
    "#################################----------------Set------------------------####################################\n",
    "\n",
    "# Will not allow the duplicates\n",
    "# Elements has no Order, so no Index, so access can't be accessed\n",
    "\n",
    "demo_set = {31,32,32,33,33,33,34,34,34,'Data Science','Data Science'}\n",
    "print(demo_set)\n",
    "\n",
    "# Prime use case is conversion of List to only List with unique values\n",
    "\n",
    "demo_list = [31,32,32,33,33,33,34,34,34,'Data Science','Data Science']\n",
    "\n",
    "print(demo_list) # printing the List\n",
    "\n",
    "demo_list = list(set(demo_list))\n",
    "\n",
    "print(demo_list) # Printing the list after conversion\n",
    "\n"
   ]
  },
  {
   "cell_type": "code",
   "execution_count": null,
   "metadata": {},
   "outputs": [],
   "source": [
    "################## List <-> Tuple <-> Set (All are Convertable among themselves)"
   ]
  }
 ],
 "metadata": {
  "kernelspec": {
   "display_name": "Python 3",
   "language": "python",
   "name": "python3"
  },
  "language_info": {
   "codemirror_mode": {
    "name": "ipython",
    "version": 3
   },
   "file_extension": ".py",
   "mimetype": "text/x-python",
   "name": "python",
   "nbconvert_exporter": "python",
   "pygments_lexer": "ipython3",
   "version": "3.7.3"
  }
 },
 "nbformat": 4,
 "nbformat_minor": 2
}
