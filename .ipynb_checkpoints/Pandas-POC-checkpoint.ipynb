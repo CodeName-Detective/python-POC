{
 "cells": [
  {
   "cell_type": "code",
   "execution_count": 1,
   "metadata": {},
   "outputs": [],
   "source": [
    "import pandas as pd"
   ]
  },
  {
   "cell_type": "markdown",
   "metadata": {},
   "source": [
    "# Pandas - DataStrucutures\n",
    "- __Series__ - 1 DImension homogeneous array, sizeimmutable.\n",
    "- __Data Frame__ - 2 Dimension size-mutable tabular structure with potentially heterogeneously typed columns.\n",
    "- __Panel__ - 3 Dimension size-mutable array.\n",
    "- DataFrame is a container of Series, Panel is a container of DataFrame.\n",
    "- All Pandas data structures are value mutable (can be changed) and except Series all are size mutable. Series is size immutable."
   ]
  },
  {
   "cell_type": "markdown",
   "metadata": {},
   "source": [
    "# Pandas - Series\n",
    "\n",
    "### pandas.Series( data, index, dtype, copy)\n",
    "- __data__ - takes various forms like ndarray, list, dictionary,constants\n",
    "- __index__ - Index values must be unique and hashable, same length as data. Default np.arrange(n) if no index is passed.\n",
    "- __dtype__ - is for data type. If None, data type will be inferred\n",
    "- __copy__ - Copy data. Default False"
   ]
  },
  {
   "cell_type": "code",
   "execution_count": 3,
   "metadata": {},
   "outputs": [
    {
     "name": "stdout",
     "output_type": "stream",
     "text": [
      "Series([], dtype: float64)\n"
     ]
    }
   ],
   "source": [
    "#Creating Empty Series\n",
    "s = pd.Series()\n",
    "print(s)"
   ]
  },
  {
   "cell_type": "markdown",
   "metadata": {},
   "source": [
    "### Create a Series from ndarray\n",
    "- If data is an ndarray, then index passed must be of the same length. If no index is passed, then by default index will be __range(n)__ where __n__ is array length, i.e., __[0,1,2,3…. range(len(array))-1]__."
   ]
  },
  {
   "cell_type": "code",
   "execution_count": 4,
   "metadata": {},
   "outputs": [
    {
     "name": "stdout",
     "output_type": "stream",
     "text": [
      "0    0\n",
      "1    1\n",
      "2    2\n",
      "3    3\n",
      "4    4\n",
      "5    5\n",
      "6    6\n",
      "7    7\n",
      "8    8\n",
      "dtype: int32\n"
     ]
    }
   ],
   "source": [
    "import numpy as np\n",
    "array = np.arange(9)\n",
    "\n",
    "s = pd.Series(array)\n",
    "print(s)"
   ]
  },
  {
   "cell_type": "code",
   "execution_count": 7,
   "metadata": {},
   "outputs": [
    {
     "name": "stdout",
     "output_type": "stream",
     "text": [
      "10    0\n",
      "11    1\n",
      "12    2\n",
      "13    3\n",
      "14    4\n",
      "15    5\n",
      "16    6\n",
      "17    7\n",
      "18    8\n",
      "dtype: int32\n"
     ]
    }
   ],
   "source": [
    "# Lets Specify Index\n",
    "import numpy as np\n",
    "array = np.arange(9)\n",
    "\n",
    "s = pd.Series(array,np.arange(10,19))\n",
    "print(s)\n",
    "\n",
    "# We passed the index values here. Now we can see the customized indexed values in the output."
   ]
  },
  {
   "cell_type": "markdown",
   "metadata": {},
   "source": [
    "### Create a Series from dict\n",
    "- A __dict__ can be passed as input and if no index is specified, then the dictionary keys are taken in a sorted order to construct index. If __index__ is passed, the values in data corresponding to the labels in the index will be pulled out."
   ]
  },
  {
   "cell_type": "code",
   "execution_count": 9,
   "metadata": {},
   "outputs": [
    {
     "name": "stdout",
     "output_type": "stream",
     "text": [
      "a    0.0\n",
      "b    1.0\n",
      "c    2.0\n",
      "dtype: float64\n"
     ]
    }
   ],
   "source": [
    "data = {'a' : 0., 'b' : 1., 'c' : 2.}\n",
    "\n",
    "s = pd.Series(data)\n",
    "\n",
    "print(s)\n",
    "#Observe − Dictionary keys are used to construct index."
   ]
  },
  {
   "cell_type": "code",
   "execution_count": 11,
   "metadata": {},
   "outputs": [
    {
     "name": "stdout",
     "output_type": "stream",
     "text": [
      "b    1.0\n",
      "c    2.0\n",
      "d    NaN\n",
      "a    0.0\n",
      "dtype: float64\n"
     ]
    }
   ],
   "source": [
    "data = {'a' : 0., 'b' : 1., 'c' : 2.}\n",
    "s = pd.Series(data,index=['b','c','d','a'])\n",
    "print(s)\n",
    "\n",
    "#Observe − Index order is persisted and the missing element is filled with NaN (Not a Number)."
   ]
  },
  {
   "cell_type": "markdown",
   "metadata": {},
   "source": [
    "### Create a Series from Scalar\n",
    "- If data is a scalar value, an index must be provided. The value will be repeated to match the length of __index__"
   ]
  },
  {
   "cell_type": "code",
   "execution_count": 12,
   "metadata": {},
   "outputs": [
    {
     "name": "stdout",
     "output_type": "stream",
     "text": [
      "0    5\n",
      "1    5\n",
      "2    5\n",
      "3    5\n",
      "dtype: int64\n"
     ]
    }
   ],
   "source": [
    "s = pd.Series(5, index=[0, 1, 2, 3])\n",
    "print(s)"
   ]
  },
  {
   "cell_type": "markdown",
   "metadata": {},
   "source": [
    "### Accessing Data from Series with Position, Slicing, Index(Label)"
   ]
  },
  {
   "cell_type": "code",
   "execution_count": 17,
   "metadata": {},
   "outputs": [
    {
     "name": "stdout",
     "output_type": "stream",
     "text": [
      "a    1\n",
      "b    2\n",
      "c    3\n",
      "d    4\n",
      "e    5\n",
      "dtype: int64\n",
      "\n",
      "\n",
      "4\n",
      "\n",
      "\n",
      "2\n",
      "\n",
      "\n",
      "d    4\n",
      "e    5\n",
      "dtype: int64\n",
      "\n",
      "\n",
      "a    1\n",
      "b    2\n",
      "c    3\n",
      "dtype: int64\n",
      "\n",
      "\n",
      "c    3\n",
      "d    4\n",
      "e    5\n",
      "dtype: int64\n"
     ]
    }
   ],
   "source": [
    "s = pd.Series([1,2,3,4,5],index = ['a','b','c','d','e'])\n",
    "print(s)\n",
    "print('\\n')\n",
    "\n",
    "print(s[3]) # Accessinge Data with Position\n",
    "print('\\n')\n",
    "\n",
    "print(s['b']) # Accessing Data with Label\n",
    "print('\\n')\n",
    "\n",
    "print(s[3:]) # Access from the 3rd index\n",
    "print('\\n')\n",
    "\n",
    "print(s[:3]) # Access up to last 3 indexes\n",
    "print('\\n')\n",
    "\n",
    "print(s[-3:])# Access last 3 indexes"
   ]
  },
  {
   "cell_type": "markdown",
   "metadata": {},
   "source": [
    "# Pandas - DataFrame\n",
    "\n",
    "### pandas.DataFrame( data, index, columns, dtype, copy)\n",
    "- __data__ - takes various forms like __ndarray__, __series__, __map__, __lists__, __dict__, __constants__ and also another __DataFrame__\n",
    "- __index__ - For the row labels, the Index to be used for the resulting frame is Optional Default _np.arrange(n)_ if no index is passed.\n",
    "- __columns__ - For column labels, the optional default syntax is - _np.arrange(n)_. This is only true if no index is passed.\n",
    "- __dtype__ - Data type of each column.\n",
    "- __copy__ - This command (or whatever it is) is used for copying of data, if the default is False."
   ]
  },
  {
   "cell_type": "code",
   "execution_count": 18,
   "metadata": {},
   "outputs": [
    {
     "name": "stdout",
     "output_type": "stream",
     "text": [
      "Empty DataFrame\n",
      "Columns: []\n",
      "Index: []\n"
     ]
    }
   ],
   "source": [
    "# Creating Empty DataFrame\n",
    "\n",
    "df = pd.DataFrame()\n",
    "\n",
    "print(df)"
   ]
  },
  {
   "cell_type": "markdown",
   "metadata": {},
   "source": [
    "### Creating a DataFrame from __Lists__\n",
    "- The DataFrame can be created using a single list or a list of lists."
   ]
  },
  {
   "cell_type": "code",
   "execution_count": 19,
   "metadata": {},
   "outputs": [
    {
     "name": "stdout",
     "output_type": "stream",
     "text": [
      "    0\n",
      "0  10\n",
      "1  11\n",
      "2  12\n",
      "3  13\n",
      "4  14\n"
     ]
    }
   ],
   "source": [
    "data = [10,11,12,13,14]\n",
    "\n",
    "df = pd.DataFrame(data)\n",
    "\n",
    "print(df)"
   ]
  },
  {
   "cell_type": "code",
   "execution_count": 24,
   "metadata": {},
   "outputs": [
    {
     "name": "stdout",
     "output_type": "stream",
     "text": [
      "        0   1\n",
      "0    Alex  10\n",
      "1     Bob  12\n",
      "2  Clarke  13\n",
      "\n",
      "\n",
      "     Name   Age\n",
      "0    Alex  10.0\n",
      "1     Bob  12.0\n",
      "2  Clarke  13.0\n"
     ]
    }
   ],
   "source": [
    "data = [['Alex',10],['Bob',12],['Clarke',13]]\n",
    "\n",
    "df = pd.DataFrame(data)\n",
    "print(df)\n",
    "print('\\n')\n",
    "\n",
    "df_new = pd.DataFrame(data, columns=['Name','Age'], dtype=float) #Creating column names\n",
    "print(df_new)"
   ]
  },
  {
   "cell_type": "markdown",
   "metadata": {},
   "source": [
    "### Create a DataFrame from Dict of ndarrays / Lists\n",
    "- All the ndarrays must be of same length. If index is passed, then the length of the index should equal to the length of the arrays.<br>If no index is passed, then by default, index will be range(n), where n is the array length."
   ]
  },
  {
   "cell_type": "code",
   "execution_count": 27,
   "metadata": {},
   "outputs": [
    {
     "name": "stdout",
     "output_type": "stream",
     "text": [
      "    Name  Age\n",
      "0    Tom   28\n",
      "1   Jack   34\n",
      "2  Steve   29\n",
      "3  Ricky   42\n"
     ]
    }
   ],
   "source": [
    "Name_List = ['Tom', 'Jack', 'Steve', 'Ricky']\n",
    "Age_List = [28,34,29,42]\n",
    "data_dict = {'Name': Name_List, 'Age':Age_List}\n",
    "\n",
    "df = pd.DataFrame(data_dict)\n",
    "print(df)\n",
    "\n",
    "# The dictionary keys are by default taken as column names."
   ]
  },
  {
   "cell_type": "code",
   "execution_count": 26,
   "metadata": {},
   "outputs": [
    {
     "name": "stdout",
     "output_type": "stream",
     "text": [
      "        Name  Age\n",
      "rank1    Tom   28\n",
      "rank2   Jack   34\n",
      "rank3  Steve   29\n",
      "rank4  Ricky   42\n"
     ]
    }
   ],
   "source": [
    "Name_List = ['Tom', 'Jack', 'Steve', 'Ricky']\n",
    "Age_List = [28,34,29,42]\n",
    "data_dict = {'Name': Name_List, 'Age':Age_List}\n",
    "\n",
    "df = pd.DataFrame(data_dict, index=['rank1','rank2','rank3','rank4'])\n",
    "print(df)"
   ]
  },
  {
   "cell_type": "markdown",
   "metadata": {},
   "source": [
    "### Create a DataFrame from List of Dicts\n",
    "- List of Dictionaries can be passed as input data to create a DataFrame. The __dictionary keys__ are by default taken as __column names__."
   ]
  },
  {
   "cell_type": "code",
   "execution_count": 28,
   "metadata": {},
   "outputs": [
    {
     "name": "stdout",
     "output_type": "stream",
     "text": [
      "   a   b     c\n",
      "0  1   2   NaN\n",
      "1  5  10  20.0\n"
     ]
    }
   ],
   "source": [
    "data = [{'a': 1, 'b': 2},{'a': 5, 'b': 10, 'c': 20}]\n",
    "df = pd.DataFrame(data)\n",
    "\n",
    "print(df)"
   ]
  },
  {
   "cell_type": "code",
   "execution_count": 30,
   "metadata": {},
   "outputs": [
    {
     "name": "stdout",
     "output_type": "stream",
     "text": [
      "        a   b\n",
      "first   1   2\n",
      "second  5  10\n",
      "\n",
      "\n",
      "        a  b1\n",
      "first   1 NaN\n",
      "second  5 NaN\n"
     ]
    }
   ],
   "source": [
    "data = [{'a': 1, 'b': 2},{'a': 5, 'b': 10, 'c': 20}]\n",
    "\n",
    "#With two column indices, values same as dictionary keys\n",
    "df1 = pd.DataFrame(data, index=['first', 'second'], columns=['a', 'b'])\n",
    "\n",
    "#With two column indices with one index with other name\n",
    "df2 = pd.DataFrame(data, index=['first', 'second'], columns=['a', 'b1'])\n",
    "\n",
    "print(df1)\n",
    "print('\\n')\n",
    "print(df2)"
   ]
  },
  {
   "cell_type": "markdown",
   "metadata": {},
   "source": [
    "### Create a DataFrame from Dict of Series\n",
    "- Dictionary of Series can be passed to form a DataFrame. The resultant index is the union of all the series indexes passed."
   ]
  },
  {
   "cell_type": "code",
   "execution_count": 33,
   "metadata": {},
   "outputs": [
    {
     "name": "stdout",
     "output_type": "stream",
     "text": [
      "     Name  Age\n",
      "a    Shri   10\n",
      "b  Harsha   11\n",
      "c     NaN   12\n"
     ]
    }
   ],
   "source": [
    "data = {'Name': pd.Series(['Shri','Harsha'],index=['a', 'b']), 'Age': pd.Series([10,11,12],index=['a', 'b', 'c'])}\n",
    "\n",
    "df = pd.DataFrame(data)\n",
    "print(df)"
   ]
  },
  {
   "cell_type": "markdown",
   "metadata": {},
   "source": [
    "### Column Selection"
   ]
  },
  {
   "cell_type": "code",
   "execution_count": 35,
   "metadata": {},
   "outputs": [
    {
     "name": "stdout",
     "output_type": "stream",
     "text": [
      "   one  two\n",
      "a  1.0    1\n",
      "b  2.0    2\n",
      "c  3.0    3\n",
      "d  NaN    4\n",
      "\n",
      "\n",
      "a    1\n",
      "b    2\n",
      "c    3\n",
      "d    4\n",
      "Name: two, dtype: int64\n"
     ]
    }
   ],
   "source": [
    "d = {'one' : pd.Series([1, 2, 3], index=['a', 'b', 'c']),\n",
    "   'two' : pd.Series([1, 2, 3, 4], index=['a', 'b', 'c', 'd'])}\n",
    "\n",
    "df = pd.DataFrame(d)\n",
    "\n",
    "print(df)\n",
    "print('\\n')\n",
    "\n",
    "print(df['two'])"
   ]
  },
  {
   "cell_type": "markdown",
   "metadata": {},
   "source": [
    "### Column Addition"
   ]
  },
  {
   "cell_type": "code",
   "execution_count": 38,
   "metadata": {},
   "outputs": [
    {
     "name": "stdout",
     "output_type": "stream",
     "text": [
      "   one  two\n",
      "a  1.0    1\n",
      "b  2.0    2\n",
      "c  3.0    3\n",
      "d  NaN    4\n",
      "\n",
      "\n",
      "   one  two  three\n",
      "a  1.0    1   10.0\n",
      "b  2.0    2   20.0\n",
      "c  3.0    3   30.0\n",
      "d  NaN    4    NaN\n",
      "\n",
      "\n",
      "   one  two  three  four\n",
      "a  1.0    1   10.0  11.0\n",
      "b  2.0    2   20.0  22.0\n",
      "c  3.0    3   30.0  33.0\n",
      "d  NaN    4    NaN   NaN\n"
     ]
    }
   ],
   "source": [
    "d = {'one' : pd.Series([1, 2, 3], index=['a', 'b', 'c']),\n",
    "   'two' : pd.Series([1, 2, 3, 4], index=['a', 'b', 'c', 'd'])}\n",
    "\n",
    "df = pd.DataFrame(d)\n",
    "print(df)\n",
    "print('\\n')\n",
    "\n",
    "df['three'] = pd.Series([10,20,30], index=['a', 'b', 'c'])\n",
    "\n",
    "print(df)\n",
    "print('\\n')\n",
    "\n",
    "df['four'] = df['one']+df['three']\n",
    "print(df)"
   ]
  },
  {
   "cell_type": "markdown",
   "metadata": {},
   "source": [
    "### Column Deletion"
   ]
  },
  {
   "cell_type": "code",
   "execution_count": 41,
   "metadata": {},
   "outputs": [
    {
     "name": "stdout",
     "output_type": "stream",
     "text": [
      "   one  two  three\n",
      "a  1.0    1   10.0\n",
      "b  2.0    2   20.0\n",
      "c  3.0    3   30.0\n",
      "d  NaN    4    NaN\n",
      "\n",
      "\n",
      "   one  three\n",
      "a  1.0   10.0\n",
      "b  2.0   20.0\n",
      "c  3.0   30.0\n",
      "d  NaN    NaN\n",
      "\n",
      "\n",
      "   one\n",
      "a  1.0\n",
      "b  2.0\n",
      "c  3.0\n",
      "d  NaN\n",
      "\n",
      "\n"
     ]
    }
   ],
   "source": [
    "d = {'one' : pd.Series([1, 2, 3], index=['a', 'b', 'c']), \n",
    "   'two' : pd.Series([1, 2, 3, 4], index=['a', 'b', 'c', 'd']), \n",
    "   'three' : pd.Series([10,20,30], index=['a','b','c'])}\n",
    "\n",
    "df = pd.DataFrame(d)\n",
    "print(df)\n",
    "print('\\n')\n",
    "\n",
    "#Using del function\n",
    "del(df['two'])\n",
    "print(df)\n",
    "print('\\n')\n",
    "\n",
    "# Using Pandas pop dataframe function\n",
    "\n",
    "df.pop('three')\n",
    "print(df)\n",
    "print('\\n')"
   ]
  },
  {
   "cell_type": "markdown",
   "metadata": {},
   "source": [
    "### Row Selection"
   ]
  },
  {
   "cell_type": "code",
   "execution_count": 6,
   "metadata": {},
   "outputs": [
    {
     "name": "stdout",
     "output_type": "stream",
     "text": [
      "   one  two\n",
      "a  1.0    1\n",
      "b  2.0    2\n",
      "c  3.0    3\n",
      "d  NaN    4\n",
      "\n",
      "\n",
      "one    3.0\n",
      "two    3.0\n",
      "Name: c, dtype: float64\n"
     ]
    }
   ],
   "source": [
    "# Selection by Label\n",
    "data_dict = {'one' : pd.Series([1, 2, 3], index=['a', 'b', 'c']), \n",
    "   'two' : pd.Series([1, 2, 3, 4], index=['a', 'b', 'c', 'd'])}\n",
    "\n",
    "df = pd.DataFrame(data_dict)\n",
    "print(df)\n",
    "print('\\n')\n",
    "\n",
    "print(df.loc['c'])"
   ]
  },
  {
   "cell_type": "code",
   "execution_count": 7,
   "metadata": {},
   "outputs": [
    {
     "name": "stdout",
     "output_type": "stream",
     "text": [
      "   one  two\n",
      "a  1.0    1\n",
      "b  2.0    2\n",
      "c  3.0    3\n",
      "d  NaN    4\n",
      "\n",
      "\n",
      "one    NaN\n",
      "two    4.0\n",
      "Name: d, dtype: float64\n"
     ]
    }
   ],
   "source": [
    "data_dict = {'one' : pd.Series([1, 2, 3], index=['a', 'b', 'c']),\n",
    "   'two' : pd.Series([1, 2, 3, 4], index=['a', 'b', 'c', 'd'])}\n",
    "\n",
    "df = pd.DataFrame(data_dict)\n",
    "print(df)\n",
    "print('\\n')\n",
    "\n",
    "print(df.iloc[3])"
   ]
  },
  {
   "cell_type": "markdown",
   "metadata": {},
   "source": [
    "### Slice Rows\n",
    "- Slicing is possible only for rows, not for coulmns"
   ]
  },
  {
   "cell_type": "code",
   "execution_count": 8,
   "metadata": {},
   "outputs": [
    {
     "name": "stdout",
     "output_type": "stream",
     "text": [
      "   one  two\n",
      "a  1.0    1\n",
      "b  2.0    2\n",
      "c  3.0    3\n",
      "d  NaN    4\n",
      "\n",
      "\n",
      "   one  two\n",
      "c  3.0    3\n"
     ]
    }
   ],
   "source": [
    "d = {'one' : pd.Series([1, 2, 3], index=['a', 'b', 'c']), \n",
    "   'two' : pd.Series([1, 2, 3, 4], index=['a', 'b', 'c', 'd'])}\n",
    "\n",
    "df = pd.DataFrame(d)\n",
    "print(df)\n",
    "print('\\n')\n",
    "\n",
    "print(df[2:3]) "
   ]
  },
  {
   "cell_type": "markdown",
   "metadata": {},
   "source": [
    "### Addition of Rows\n",
    "- Add new rows to a DataFrame using the __append__ function. This function will __append__ the rows at the end."
   ]
  },
  {
   "cell_type": "code",
   "execution_count": 11,
   "metadata": {},
   "outputs": [
    {
     "name": "stdout",
     "output_type": "stream",
     "text": [
      "   a  b\n",
      "0  1  2\n",
      "1  3  4\n",
      "\n",
      "\n",
      "   a  b\n",
      "0  1  2\n",
      "1  3  4\n",
      "0  5  6\n",
      "1  7  8\n"
     ]
    }
   ],
   "source": [
    "df = pd.DataFrame([[1, 2], [3, 4]], columns = ['a','b'])\n",
    "df2 = pd.DataFrame([[5, 6], [7, 8]], columns = ['a','b'])\n",
    "print(df)\n",
    "print('\\n')\n",
    "df = df.append(df2) # Append the new dataframe\n",
    "print(df)"
   ]
  },
  {
   "cell_type": "markdown",
   "metadata": {},
   "source": [
    "### Deletion of Rows\n",
    "- Use index label to delete or drop rows from a DataFrame. If label is duplicated, then multiple rows will be dropped."
   ]
  },
  {
   "cell_type": "code",
   "execution_count": 2,
   "metadata": {},
   "outputs": [
    {
     "name": "stdout",
     "output_type": "stream",
     "text": [
      "   a  b\n",
      "0  1  2\n",
      "1  3  4\n",
      "0  5  6\n",
      "1  7  8\n",
      "\n",
      "\n",
      "   a  b\n",
      "1  3  4\n",
      "1  7  8\n"
     ]
    }
   ],
   "source": [
    "df = pd.DataFrame([[1, 2], [3, 4]], columns = ['a','b'])\n",
    "df2 = pd.DataFrame([[5, 6], [7, 8]], columns = ['a','b'])\n",
    "\n",
    "df = df.append(df2)\n",
    "print(df)\n",
    "print('\\n')\n",
    "\n",
    "df =  df.drop(0)\n",
    "print(df)"
   ]
  },
  {
   "cell_type": "markdown",
   "metadata": {},
   "source": [
    "# Panel\n",
    "The names for the 3 axes are intended to give some semantic meaning to describing operations involving panel data. They are:\n",
    "- __items__ − axis 0, each item corresponds to a DataFrame contained inside.\n",
    "- __major_axis__ − axis 1, it is the index (rows) of each of the DataFrames.\n",
    "- __minor_axis__ − axis 2, it is the columns of each of the DataFrames."
   ]
  },
  {
   "cell_type": "markdown",
   "metadata": {},
   "source": [
    "### Creating the Panel\n",
    "#### pandas.Panel(data, items, major_axis, minor_axis, dtype, copy)\n",
    "- __data__ ----> Data takes various forms like ndarray, series, map, lists, dict, constants and also another DataFrame\n",
    "- __items__ ----> axis=0\n",
    "- __major_axis__ ----> axis=1\n",
    "- __minor_axis__ ----> axis=2\n",
    "- __dtype__ ---->\tData type of each column\n",
    "- __copy__ ----> Copy data. Default, false"
   ]
  },
  {
   "cell_type": "markdown",
   "metadata": {},
   "source": [
    "# Basic Functionality"
   ]
  },
  {
   "cell_type": "markdown",
   "metadata": {},
   "source": [
    "### Series Basic Functionality"
   ]
  },
  {
   "cell_type": "code",
   "execution_count": 5,
   "metadata": {},
   "outputs": [],
   "source": [
    "import numpy as np\n",
    "s = pd.Series(np.random.randn(4))"
   ]
  },
  {
   "cell_type": "code",
   "execution_count": 7,
   "metadata": {},
   "outputs": [
    {
     "name": "stdout",
     "output_type": "stream",
     "text": [
      "[RangeIndex(start=0, stop=4, step=1)]\n"
     ]
    }
   ],
   "source": [
    "print(s.axes) #Returns a list of the row axis labels"
   ]
  },
  {
   "cell_type": "code",
   "execution_count": 9,
   "metadata": {},
   "outputs": [
    {
     "name": "stdout",
     "output_type": "stream",
     "text": [
      "False\n"
     ]
    }
   ],
   "source": [
    "print(s.empty) #Returns the Boolean value saying whether the Object is empty or not"
   ]
  },
  {
   "cell_type": "code",
   "execution_count": 11,
   "metadata": {},
   "outputs": [
    {
     "name": "stdout",
     "output_type": "stream",
     "text": [
      "1\n"
     ]
    }
   ],
   "source": [
    "print(s.ndim) #Returns the number of dimensions of the object. By definition, a Series is a 1D data structure, so it returns 1"
   ]
  },
  {
   "cell_type": "code",
   "execution_count": 15,
   "metadata": {},
   "outputs": [
    {
     "name": "stdout",
     "output_type": "stream",
     "text": [
      "4\n",
      "\n",
      "\n",
      "4\n"
     ]
    }
   ],
   "source": [
    "print(s.size) #Returns the size(length) of the series\n",
    "print('\\n')\n",
    "print(len(s))"
   ]
  },
  {
   "cell_type": "code",
   "execution_count": 18,
   "metadata": {},
   "outputs": [
    {
     "name": "stdout",
     "output_type": "stream",
     "text": [
      "[-0.31488133  0.10406499  1.28126161  0.16232898]\n"
     ]
    }
   ],
   "source": [
    "print(s.values) #Returns the actual data in the series as an array"
   ]
  },
  {
   "cell_type": "code",
   "execution_count": 20,
   "metadata": {},
   "outputs": [
    {
     "name": "stdout",
     "output_type": "stream",
     "text": [
      "0   -0.314881\n",
      "1    0.104065\n",
      "dtype: float64\n"
     ]
    }
   ],
   "source": [
    "print(s.head(2)) #head() returns the first n rows(observe the index values). The default number of elements to display is five, but you may pass a custom number."
   ]
  },
  {
   "cell_type": "code",
   "execution_count": 22,
   "metadata": {},
   "outputs": [
    {
     "name": "stdout",
     "output_type": "stream",
     "text": [
      "2    1.281262\n",
      "3    0.162329\n",
      "dtype: float64\n"
     ]
    }
   ],
   "source": [
    "print(s.tail(2)) #tail() returns the last n rows(observe the index values). The default number of elements to display is five, but you may pass a custom number."
   ]
  },
  {
   "cell_type": "markdown",
   "metadata": {},
   "source": [
    "### DataFrame Basic Functionality"
   ]
  },
  {
   "cell_type": "code",
   "execution_count": 28,
   "metadata": {},
   "outputs": [
    {
     "name": "stdout",
     "output_type": "stream",
     "text": [
      "    Name  Age  Rating\n",
      "0    Tom   25    4.23\n",
      "1  James   26    3.24\n",
      "2  Ricky   25    3.98\n",
      "3    Vin   23    2.56\n",
      "4  Steve   30    3.20\n",
      "5  Smith   29    4.60\n",
      "6   Jack   23    3.80\n"
     ]
    }
   ],
   "source": [
    "data = {'Name':pd.Series(['Tom','James','Ricky','Vin','Steve','Smith','Jack']),\n",
    "   'Age':pd.Series([25,26,25,23,30,29,23]),\n",
    "   'Rating':pd.Series([4.23,3.24,3.98,2.56,3.20,4.6,3.8])}\n",
    "df = pd.DataFrame(data)\n",
    "print(df)"
   ]
  },
  {
   "cell_type": "code",
   "execution_count": 29,
   "metadata": {},
   "outputs": [
    {
     "name": "stdout",
     "output_type": "stream",
     "text": [
      "           0      1      2     3      4      5     6\n",
      "Name     Tom  James  Ricky   Vin  Steve  Smith  Jack\n",
      "Age       25     26     25    23     30     29    23\n",
      "Rating  4.23   3.24   3.98  2.56    3.2    4.6   3.8\n"
     ]
    }
   ],
   "source": [
    "print(df.T) #Returns the transpose of the DataFrame. The rows and columns will interchange."
   ]
  },
  {
   "cell_type": "code",
   "execution_count": 31,
   "metadata": {},
   "outputs": [
    {
     "name": "stdout",
     "output_type": "stream",
     "text": [
      "[RangeIndex(start=0, stop=7, step=1), Index(['Name', 'Age', 'Rating'], dtype='object')]\n"
     ]
    }
   ],
   "source": [
    "print(df.axes) #Returns the list of row axis labels and column axis labels."
   ]
  },
  {
   "cell_type": "code",
   "execution_count": 38,
   "metadata": {},
   "outputs": [
    {
     "name": "stdout",
     "output_type": "stream",
     "text": [
      "Name       object\n",
      "Age         int64\n",
      "Rating    float64\n",
      "dtype: object\n"
     ]
    }
   ],
   "source": [
    "print(df.dtypes) #Returns the data type of each column."
   ]
  },
  {
   "cell_type": "code",
   "execution_count": 40,
   "metadata": {},
   "outputs": [
    {
     "name": "stdout",
     "output_type": "stream",
     "text": [
      "False\n"
     ]
    }
   ],
   "source": [
    "print(df.empty) #Returns the Boolean value saying whether the Object is empty or not; True indicates that the object is empty."
   ]
  },
  {
   "cell_type": "code",
   "execution_count": 42,
   "metadata": {},
   "outputs": [
    {
     "name": "stdout",
     "output_type": "stream",
     "text": [
      "2\n"
     ]
    }
   ],
   "source": [
    "print(df.ndim) # Returns the number of dimensions of the object. By definition, DataFrame is a 2D object."
   ]
  },
  {
   "cell_type": "code",
   "execution_count": 44,
   "metadata": {},
   "outputs": [
    {
     "name": "stdout",
     "output_type": "stream",
     "text": [
      "(7, 3)\n"
     ]
    }
   ],
   "source": [
    "print(df.shape) #Returns a tuple representing the dimensionality of the DataFrame. Tuple (a,b), where a represents the number of rows and b represents the number of columns."
   ]
  },
  {
   "cell_type": "code",
   "execution_count": 46,
   "metadata": {},
   "outputs": [
    {
     "name": "stdout",
     "output_type": "stream",
     "text": [
      "21\n"
     ]
    }
   ],
   "source": [
    "print(df.size)#Returns the number of elements in the DataFrame."
   ]
  },
  {
   "cell_type": "code",
   "execution_count": 48,
   "metadata": {},
   "outputs": [
    {
     "name": "stdout",
     "output_type": "stream",
     "text": [
      "[['Tom' 25 4.23]\n",
      " ['James' 26 3.24]\n",
      " ['Ricky' 25 3.98]\n",
      " ['Vin' 23 2.56]\n",
      " ['Steve' 30 3.2]\n",
      " ['Smith' 29 4.6]\n",
      " ['Jack' 23 3.8]]\n"
     ]
    }
   ],
   "source": [
    "print(df.values) #Returns the actual data in the DataFrame as an NDarray"
   ]
  },
  {
   "cell_type": "code",
   "execution_count": 49,
   "metadata": {},
   "outputs": [
    {
     "name": "stdout",
     "output_type": "stream",
     "text": [
      "    Name  Age  Rating\n",
      "0    Tom   25    4.23\n",
      "1  James   26    3.24\n",
      "2  Ricky   25    3.98\n",
      "3    Vin   23    2.56\n",
      "4  Steve   30    3.20\n"
     ]
    }
   ],
   "source": [
    "print(df.head()) #To view a small sample of a DataFrame object, use the head() and tail() methods. head() returns the first n rows (observe the index values). The default number of elements to display is 5, but you may pass a custom number."
   ]
  },
  {
   "cell_type": "code",
   "execution_count": 51,
   "metadata": {},
   "outputs": [
    {
     "name": "stdout",
     "output_type": "stream",
     "text": [
      "    Name  Age  Rating\n",
      "2  Ricky   25    3.98\n",
      "3    Vin   23    2.56\n",
      "4  Steve   30    3.20\n",
      "5  Smith   29    4.60\n",
      "6   Jack   23    3.80\n"
     ]
    }
   ],
   "source": [
    "print(df.tail()) #tail() returns the last n rows (observe the index values). The default number of elements to display is 5, but you may pass a custom number."
   ]
  },
  {
   "cell_type": "markdown",
   "metadata": {},
   "source": [
    "# Descriptive Statistics"
   ]
  },
  {
   "cell_type": "code",
   "execution_count": 53,
   "metadata": {},
   "outputs": [
    {
     "name": "stdout",
     "output_type": "stream",
     "text": [
      "    Name  Age  Rating\n",
      "0    Tom   25    4.23\n",
      "1  James   26    3.24\n",
      "2  Ricky   25    3.98\n",
      "3    Vin   23    2.56\n",
      "4  Steve   30    3.20\n",
      "5  Smith   29    4.60\n",
      "6   Jack   23    3.80\n"
     ]
    }
   ],
   "source": [
    "data = {'Name':pd.Series(['Tom','James','Ricky','Vin','Steve','Smith','Jack']),\n",
    "   'Age':pd.Series([25,26,25,23,30,29,23]),\n",
    "   'Rating':pd.Series([4.23,3.24,3.98,2.56,3.20,4.6,3.8])}\n",
    "df = pd.DataFrame(data)\n",
    "print(df)"
   ]
  },
  {
   "cell_type": "code",
   "execution_count": 56,
   "metadata": {},
   "outputs": [
    {
     "name": "stdout",
     "output_type": "stream",
     "text": [
      "Name      TomJamesRickyVinSteveSmithJack\n",
      "Age                                  181\n",
      "Rating                             25.61\n",
      "dtype: object\n",
      "\n",
      "\n",
      "0    29.23\n",
      "1    29.24\n",
      "2    28.98\n",
      "3    25.56\n",
      "4    33.20\n",
      "5    33.60\n",
      "6    26.80\n",
      "dtype: float64\n"
     ]
    }
   ],
   "source": [
    "print(df.sum()) #Returns the sum of the values for the requested axis. By default, axis is index (axis=0).\n",
    "#Each individual column is added individually (Strings are appended)\n",
    "print('\\n')\n",
    "print(df.sum(axis=1))"
   ]
  },
  {
   "cell_type": "code",
   "execution_count": 58,
   "metadata": {},
   "outputs": [
    {
     "name": "stdout",
     "output_type": "stream",
     "text": [
      "Age       25.857143\n",
      "Rating     3.658571\n",
      "dtype: float64\n"
     ]
    }
   ],
   "source": [
    "print(df.mean()) #Returns the average value"
   ]
  },
  {
   "cell_type": "code",
   "execution_count": 59,
   "metadata": {},
   "outputs": [
    {
     "name": "stdout",
     "output_type": "stream",
     "text": [
      "Age       2.734262\n",
      "Rating    0.698628\n",
      "dtype: float64\n"
     ]
    }
   ],
   "source": [
    "print(df.std())"
   ]
  },
  {
   "cell_type": "code",
   "execution_count": 60,
   "metadata": {},
   "outputs": [
    {
     "name": "stdout",
     "output_type": "stream",
     "text": [
      "Name      7\n",
      "Age       7\n",
      "Rating    7\n",
      "dtype: int64\n"
     ]
    }
   ],
   "source": [
    "print(df.count())"
   ]
  },
  {
   "cell_type": "code",
   "execution_count": 61,
   "metadata": {},
   "outputs": [
    {
     "name": "stdout",
     "output_type": "stream",
     "text": [
      "Age       25.0\n",
      "Rating     3.8\n",
      "dtype: float64\n"
     ]
    }
   ],
   "source": [
    "print(df.median())"
   ]
  },
  {
   "cell_type": "code",
   "execution_count": 63,
   "metadata": {},
   "outputs": [
    {
     "name": "stdout",
     "output_type": "stream",
     "text": [
      "    Name   Age  Rating\n",
      "0   Jack  23.0    2.56\n",
      "1  James  25.0    3.20\n",
      "2  Ricky   NaN    3.24\n",
      "3  Smith   NaN    3.80\n",
      "4  Steve   NaN    3.98\n",
      "5    Tom   NaN    4.23\n",
      "6    Vin   NaN    4.60\n"
     ]
    }
   ],
   "source": [
    "print(df.mode())"
   ]
  },
  {
   "cell_type": "code",
   "execution_count": 64,
   "metadata": {},
   "outputs": [
    {
     "name": "stdout",
     "output_type": "stream",
     "text": [
      "Name      Jack\n",
      "Age         23\n",
      "Rating    2.56\n",
      "dtype: object\n"
     ]
    }
   ],
   "source": [
    "print(df.min())"
   ]
  },
  {
   "cell_type": "code",
   "execution_count": 65,
   "metadata": {},
   "outputs": [
    {
     "name": "stdout",
     "output_type": "stream",
     "text": [
      "Name      Vin\n",
      "Age        30\n",
      "Rating    4.6\n",
      "dtype: object\n"
     ]
    }
   ],
   "source": [
    "print(df.max())"
   ]
  },
  {
   "cell_type": "code",
   "execution_count": 66,
   "metadata": {},
   "outputs": [
    {
     "ename": "TypeError",
     "evalue": "bad operand type for abs(): 'str'",
     "output_type": "error",
     "traceback": [
      "\u001b[1;31m---------------------------------------------------------------------------\u001b[0m",
      "\u001b[1;31mTypeError\u001b[0m                                 Traceback (most recent call last)",
      "\u001b[1;32m<ipython-input-66-cce39faaeaca>\u001b[0m in \u001b[0;36m<module>\u001b[1;34m\u001b[0m\n\u001b[1;32m----> 1\u001b[1;33m \u001b[0mprint\u001b[0m\u001b[1;33m(\u001b[0m\u001b[0mdf\u001b[0m\u001b[1;33m.\u001b[0m\u001b[0mabs\u001b[0m\u001b[1;33m(\u001b[0m\u001b[1;33m)\u001b[0m\u001b[1;33m)\u001b[0m\u001b[1;33m\u001b[0m\u001b[1;33m\u001b[0m\u001b[0m\n\u001b[0m",
      "\u001b[1;32mC:\\ProgramData\\Anaconda3\\lib\\site-packages\\pandas\\core\\generic.py\u001b[0m in \u001b[0;36mabs\u001b[1;34m(self)\u001b[0m\n\u001b[0;32m   9480\u001b[0m         \u001b[1;36m3\u001b[0m    \u001b[1;36m7\u001b[0m   \u001b[1;36m40\u001b[0m  \u001b[1;33m-\u001b[0m\u001b[1;36m50\u001b[0m\u001b[1;33m\u001b[0m\u001b[1;33m\u001b[0m\u001b[0m\n\u001b[0;32m   9481\u001b[0m         \"\"\"\n\u001b[1;32m-> 9482\u001b[1;33m         \u001b[1;32mreturn\u001b[0m \u001b[0mnp\u001b[0m\u001b[1;33m.\u001b[0m\u001b[0mabs\u001b[0m\u001b[1;33m(\u001b[0m\u001b[0mself\u001b[0m\u001b[1;33m)\u001b[0m\u001b[1;33m\u001b[0m\u001b[1;33m\u001b[0m\u001b[0m\n\u001b[0m\u001b[0;32m   9483\u001b[0m \u001b[1;33m\u001b[0m\u001b[0m\n\u001b[0;32m   9484\u001b[0m     \u001b[1;32mdef\u001b[0m \u001b[0mdescribe\u001b[0m\u001b[1;33m(\u001b[0m\u001b[0mself\u001b[0m\u001b[1;33m,\u001b[0m \u001b[0mpercentiles\u001b[0m\u001b[1;33m=\u001b[0m\u001b[1;32mNone\u001b[0m\u001b[1;33m,\u001b[0m \u001b[0minclude\u001b[0m\u001b[1;33m=\u001b[0m\u001b[1;32mNone\u001b[0m\u001b[1;33m,\u001b[0m \u001b[0mexclude\u001b[0m\u001b[1;33m=\u001b[0m\u001b[1;32mNone\u001b[0m\u001b[1;33m)\u001b[0m\u001b[1;33m:\u001b[0m\u001b[1;33m\u001b[0m\u001b[1;33m\u001b[0m\u001b[0m\n",
      "\u001b[1;31mTypeError\u001b[0m: bad operand type for abs(): 'str'"
     ]
    }
   ],
   "source": [
    "print(df.abs())"
   ]
  },
  {
   "cell_type": "code",
   "execution_count": 67,
   "metadata": {},
   "outputs": [
    {
     "name": "stdout",
     "output_type": "stream",
     "text": [
      "Age       7.478738e+09\n",
      "Rating    7.810877e+03\n",
      "dtype: float64\n"
     ]
    }
   ],
   "source": [
    "print(df.prod())"
   ]
  },
  {
   "cell_type": "code",
   "execution_count": 68,
   "metadata": {},
   "outputs": [
    {
     "name": "stdout",
     "output_type": "stream",
     "text": [
      "                             Name  Age Rating\n",
      "0                             Tom   25   4.23\n",
      "1                        TomJames   51   7.47\n",
      "2                   TomJamesRicky   76  11.45\n",
      "3                TomJamesRickyVin   99  14.01\n",
      "4           TomJamesRickyVinSteve  129  17.21\n",
      "5      TomJamesRickyVinSteveSmith  158  21.81\n",
      "6  TomJamesRickyVinSteveSmithJack  181  25.61\n"
     ]
    }
   ],
   "source": [
    "print(df.cumsum())#cumulative sum"
   ]
  },
  {
   "cell_type": "code",
   "execution_count": 69,
   "metadata": {},
   "outputs": [
    {
     "ename": "TypeError",
     "evalue": "can't multiply sequence by non-int of type 'str'",
     "output_type": "error",
     "traceback": [
      "\u001b[1;31m---------------------------------------------------------------------------\u001b[0m",
      "\u001b[1;31mTypeError\u001b[0m                                 Traceback (most recent call last)",
      "\u001b[1;32m<ipython-input-69-1a712d08d08c>\u001b[0m in \u001b[0;36m<module>\u001b[1;34m\u001b[0m\n\u001b[1;32m----> 1\u001b[1;33m \u001b[0mprint\u001b[0m\u001b[1;33m(\u001b[0m\u001b[0mdf\u001b[0m\u001b[1;33m.\u001b[0m\u001b[0mcumprod\u001b[0m\u001b[1;33m(\u001b[0m\u001b[1;33m)\u001b[0m\u001b[1;33m)\u001b[0m\u001b[1;33m\u001b[0m\u001b[1;33m\u001b[0m\u001b[0m\n\u001b[0m",
      "\u001b[1;32mC:\\ProgramData\\Anaconda3\\lib\\site-packages\\pandas\\core\\generic.py\u001b[0m in \u001b[0;36mcum_func\u001b[1;34m(self, axis, skipna, *args, **kwargs)\u001b[0m\n\u001b[0;32m  11002\u001b[0m             \u001b[0mmask\u001b[0m \u001b[1;33m=\u001b[0m \u001b[0misna\u001b[0m\u001b[1;33m(\u001b[0m\u001b[0mself\u001b[0m\u001b[1;33m)\u001b[0m\u001b[1;33m\u001b[0m\u001b[1;33m\u001b[0m\u001b[0m\n\u001b[0;32m  11003\u001b[0m             \u001b[0mnp\u001b[0m\u001b[1;33m.\u001b[0m\u001b[0mputmask\u001b[0m\u001b[1;33m(\u001b[0m\u001b[0my\u001b[0m\u001b[1;33m,\u001b[0m \u001b[0mmask\u001b[0m\u001b[1;33m,\u001b[0m \u001b[0mmask_a\u001b[0m\u001b[1;33m)\u001b[0m\u001b[1;33m\u001b[0m\u001b[1;33m\u001b[0m\u001b[0m\n\u001b[1;32m> 11004\u001b[1;33m             \u001b[0mresult\u001b[0m \u001b[1;33m=\u001b[0m \u001b[0maccum_func\u001b[0m\u001b[1;33m(\u001b[0m\u001b[0my\u001b[0m\u001b[1;33m,\u001b[0m \u001b[0maxis\u001b[0m\u001b[1;33m)\u001b[0m\u001b[1;33m\u001b[0m\u001b[1;33m\u001b[0m\u001b[0m\n\u001b[0m\u001b[0;32m  11005\u001b[0m             \u001b[0mnp\u001b[0m\u001b[1;33m.\u001b[0m\u001b[0mputmask\u001b[0m\u001b[1;33m(\u001b[0m\u001b[0mresult\u001b[0m\u001b[1;33m,\u001b[0m \u001b[0mmask\u001b[0m\u001b[1;33m,\u001b[0m \u001b[0mmask_b\u001b[0m\u001b[1;33m)\u001b[0m\u001b[1;33m\u001b[0m\u001b[1;33m\u001b[0m\u001b[0m\n\u001b[0;32m  11006\u001b[0m         \u001b[1;32melse\u001b[0m\u001b[1;33m:\u001b[0m\u001b[1;33m\u001b[0m\u001b[1;33m\u001b[0m\u001b[0m\n",
      "\u001b[1;32mC:\\ProgramData\\Anaconda3\\lib\\site-packages\\pandas\\core\\generic.py\u001b[0m in \u001b[0;36m<lambda>\u001b[1;34m(y, axis)\u001b[0m\n\u001b[0;32m  10055\u001b[0m         cls.cumprod = _make_cum_function(\n\u001b[0;32m  10056\u001b[0m             \u001b[0mcls\u001b[0m\u001b[1;33m,\u001b[0m \u001b[1;34m'cumprod'\u001b[0m\u001b[1;33m,\u001b[0m \u001b[0mname\u001b[0m\u001b[1;33m,\u001b[0m \u001b[0mname2\u001b[0m\u001b[1;33m,\u001b[0m \u001b[0maxis_descr\u001b[0m\u001b[1;33m,\u001b[0m \u001b[1;34m\"product\"\u001b[0m\u001b[1;33m,\u001b[0m\u001b[1;33m\u001b[0m\u001b[1;33m\u001b[0m\u001b[0m\n\u001b[1;32m> 10057\u001b[1;33m             \u001b[1;32mlambda\u001b[0m \u001b[0my\u001b[0m\u001b[1;33m,\u001b[0m \u001b[0maxis\u001b[0m\u001b[1;33m:\u001b[0m \u001b[0my\u001b[0m\u001b[1;33m.\u001b[0m\u001b[0mcumprod\u001b[0m\u001b[1;33m(\u001b[0m\u001b[0maxis\u001b[0m\u001b[1;33m)\u001b[0m\u001b[1;33m,\u001b[0m \u001b[1;34m\"prod\"\u001b[0m\u001b[1;33m,\u001b[0m \u001b[1;36m1.\u001b[0m\u001b[1;33m,\u001b[0m\u001b[1;33m\u001b[0m\u001b[1;33m\u001b[0m\u001b[0m\n\u001b[0m\u001b[0;32m  10058\u001b[0m             np.nan, _cumprod_examples)\n\u001b[0;32m  10059\u001b[0m         cls.cummax = _make_cum_function(\n",
      "\u001b[1;31mTypeError\u001b[0m: can't multiply sequence by non-int of type 'str'"
     ]
    }
   ],
   "source": [
    "print(df.cumprod())"
   ]
  },
  {
   "cell_type": "markdown",
   "metadata": {},
   "source": [
    "#### Note − Since DataFrame is a Heterogeneous data structure. Generic operations don’t work with all functions.\n",
    "\n",
    "- Functions like __sum()__, __cumsum()__ work with both numeric and character (or) string data elements without any error. Though n practice, character aggregations are never used generally, these functions do not throw any exception.\n",
    "- Functions like __abs()__, __cumprod()__ throw exception when the DataFrame contains character or string data because such operations cannot be performed."
   ]
  },
  {
   "cell_type": "markdown",
   "metadata": {},
   "source": [
    "### Summarizing Data"
   ]
  },
  {
   "cell_type": "code",
   "execution_count": 74,
   "metadata": {},
   "outputs": [
    {
     "name": "stdout",
     "output_type": "stream",
     "text": [
      "             Age    Rating\n",
      "count   7.000000  7.000000\n",
      "mean   25.857143  3.658571\n",
      "std     2.734262  0.698628\n",
      "min    23.000000  2.560000\n",
      "25%    24.000000  3.220000\n",
      "50%    25.000000  3.800000\n",
      "75%    27.500000  4.105000\n",
      "max    30.000000  4.600000\n"
     ]
    }
   ],
   "source": [
    "print(df.describe()) #Returns Dataframe"
   ]
  },
  {
   "cell_type": "markdown",
   "metadata": {},
   "source": [
    "This function gives the mean, std and IQR values. And, function excludes the character columns and given summary about numeric columns. __'include'__ is the argument which is used to pass necessary information regarding what columns need to be considered for summarizing. Takes the list of values; by default, 'number'.\n",
    "\n",
    "- __object__ − Summarizes String columns\n",
    "- __number__ − Summarizes Numeric columns\n",
    "- __all__ − Summarizes all columns together (Should not pass it as a list value)"
   ]
  },
  {
   "cell_type": "code",
   "execution_count": 75,
   "metadata": {},
   "outputs": [
    {
     "name": "stdout",
     "output_type": "stream",
     "text": [
      "        Name\n",
      "count      7\n",
      "unique     7\n",
      "top     Jack\n",
      "freq       1\n"
     ]
    }
   ],
   "source": [
    "print(df.describe(include='object'))"
   ]
  },
  {
   "cell_type": "code",
   "execution_count": 76,
   "metadata": {},
   "outputs": [
    {
     "name": "stdout",
     "output_type": "stream",
     "text": [
      "             Age    Rating\n",
      "count   7.000000  7.000000\n",
      "mean   25.857143  3.658571\n",
      "std     2.734262  0.698628\n",
      "min    23.000000  2.560000\n",
      "25%    24.000000  3.220000\n",
      "50%    25.000000  3.800000\n",
      "75%    27.500000  4.105000\n",
      "max    30.000000  4.600000\n"
     ]
    }
   ],
   "source": [
    "print(df.describe(include='number'))"
   ]
  },
  {
   "cell_type": "code",
   "execution_count": 77,
   "metadata": {},
   "outputs": [
    {
     "name": "stdout",
     "output_type": "stream",
     "text": [
      "        Name        Age    Rating\n",
      "count      7   7.000000  7.000000\n",
      "unique     7        NaN       NaN\n",
      "top     Jack        NaN       NaN\n",
      "freq       1        NaN       NaN\n",
      "mean     NaN  25.857143  3.658571\n",
      "std      NaN   2.734262  0.698628\n",
      "min      NaN  23.000000  2.560000\n",
      "25%      NaN  24.000000  3.220000\n",
      "50%      NaN  25.000000  3.800000\n",
      "75%      NaN  27.500000  4.105000\n",
      "max      NaN  30.000000  4.600000\n"
     ]
    }
   ],
   "source": [
    "print(df.describe(include='all'))"
   ]
  },
  {
   "cell_type": "markdown",
   "metadata": {},
   "source": [
    "# Function Application \n",
    "\n",
    "To apply your own or another library’s functions to Pandas objects, you should be aware of the three important methods. The methods have been discussed below. The appropriate method to use depends on whether your function expects to operate on an entire DataFrame, row- or column-wise, or element wise.\n",
    "\n",
    "- Table wise Function Application: pipe()\n",
    "- Row or Column Wise Function Application: apply()\n",
    "- Element wise Function Application: applymap()"
   ]
  },
  {
   "cell_type": "code",
   "execution_count": 9,
   "metadata": {},
   "outputs": [
    {
     "name": "stdout",
     "output_type": "stream",
     "text": [
      "       col1      col2      col3\n",
      "0 -0.298356  1.819500  0.232934\n",
      "1 -2.141863 -0.315050  0.485152\n",
      "2 -0.909651  1.366816  0.266045\n",
      "3  0.051716 -1.373822  1.017764\n",
      "4  1.106950  0.542309 -1.611644\n",
      "       col1      col2      col3\n",
      "0  1.701644  3.819500  2.232934\n",
      "1 -0.141863  1.684950  2.485152\n",
      "2  1.090349  3.366816  2.266045\n",
      "3  2.051716  0.626178  3.017764\n",
      "4  3.106950  2.542309  0.388356\n",
      "\n",
      "\n",
      "col1    1.561759\n",
      "col2    2.407951\n",
      "col3    2.078050\n",
      "dtype: float64\n",
      "\n",
      "\n",
      "0    2.584693\n",
      "1    1.342746\n",
      "2    2.241070\n",
      "3    1.898553\n",
      "4    2.012538\n",
      "dtype: float64\n",
      "\n",
      "\n",
      "col1    1.561759\n",
      "col2    2.407951\n",
      "col3    2.078050\n",
      "dtype: float64\n",
      "\n",
      "\n",
      "         col1        col2        col3\n",
      "0  170.164382  381.950004  223.293428\n",
      "1  -14.186264  168.495010  248.515184\n",
      "2  109.034920  336.681607  226.604501\n",
      "3  205.171647   62.617836  301.776407\n",
      "4  310.694969  254.230854   38.835630\n"
     ]
    }
   ],
   "source": [
    "import numpy as np\n",
    "\n",
    "def adder(ele1,ele2):\n",
    "   return ele1+ele2\n",
    "\n",
    "df = pd.DataFrame(np.random.randn(5,3),columns=['col1','col2','col3'])\n",
    "print(df)\n",
    "df = df.pipe(adder,2) #Dataframe Wise\n",
    "print(df)\n",
    "print('\\n')\n",
    "print(df.apply(np.mean))\n",
    "print('\\n')\n",
    "print(df.apply(np.mean,axis = 1)) #Row wise\n",
    "print('\\n')\n",
    "print(df.apply(np.mean,axis = 0)) #Column wise\n",
    "print('\\n')\n",
    "print(df.applymap(lambda x:x*100)) #Element wise"
   ]
  },
  {
   "cell_type": "markdown",
   "metadata": {},
   "source": [
    "# Reindexing\n",
    "Reindexing changes the row labels and column labels of a DataFrame. To reindex means to conform the data to match a given set of labels along a particular axis.\n",
    "\n",
    "Multiple operations can be accomplished through indexing like −\n",
    "\n",
    "- Reorder the existing data to match a new set of labels.\n",
    "\n",
    "- Insert missing value (NA) markers in label locations where no data for the label existed."
   ]
  },
  {
   "cell_type": "code",
   "execution_count": 10,
   "metadata": {},
   "outputs": [
    {
     "name": "stdout",
     "output_type": "stream",
     "text": [
      "            A     x         y       C           D\n",
      "0  2016-01-01   0.0  0.757669  Medium   84.281649\n",
      "1  2016-01-02   1.0  0.821316  Medium  106.457603\n",
      "2  2016-01-03   2.0  0.664407  Medium   93.259536\n",
      "3  2016-01-04   3.0  0.320490  Medium  104.235476\n",
      "4  2016-01-05   4.0  0.736990  Medium  104.092506\n",
      "5  2016-01-06   5.0  0.466542    High  107.355016\n",
      "6  2016-01-07   6.0  0.591070  Medium   98.390755\n",
      "7  2016-01-08   7.0  0.441446    High  105.282142\n",
      "8  2016-01-09   8.0  0.804507  Medium  100.591906\n",
      "9  2016-01-10   9.0  0.065743  Medium  118.679485\n",
      "10 2016-01-11  10.0  0.154795    High   97.677474\n",
      "11 2016-01-12  11.0  0.923391  Medium  100.083590\n",
      "12 2016-01-13  12.0  0.322632    High  100.424788\n",
      "13 2016-01-14  13.0  0.174743    High  115.027743\n",
      "14 2016-01-15  14.0  0.895583     Low   99.802819\n",
      "15 2016-01-16  15.0  0.110773  Medium   99.405887\n",
      "16 2016-01-17  16.0  0.244039    High  116.981017\n",
      "17 2016-01-18  17.0  0.840198     Low   89.472450\n",
      "18 2016-01-19  18.0  0.831173    High   87.504912\n",
      "19 2016-01-20  19.0  0.042963  Medium   86.871438\n"
     ]
    }
   ],
   "source": [
    "import numpy as np\n",
    "\n",
    "N=20\n",
    "\n",
    "df = pd.DataFrame({\n",
    "   'A': pd.date_range(start='2016-01-01',periods=N,freq='D'),\n",
    "   'x': np.linspace(0,stop=N-1,num=N),\n",
    "   'y': np.random.rand(N),\n",
    "   'C': np.random.choice(['Low','Medium','High'],N).tolist(),\n",
    "   'D': np.random.normal(100, 10, size=(N)).tolist()\n",
    "})\n",
    "print(df)"
   ]
  },
  {
   "cell_type": "code",
   "execution_count": 11,
   "metadata": {},
   "outputs": [
    {
     "name": "stdout",
     "output_type": "stream",
     "text": [
      "           A       C   B\n",
      "0 2016-01-01  Medium NaN\n",
      "2 2016-01-03  Medium NaN\n",
      "5 2016-01-06    High NaN\n"
     ]
    }
   ],
   "source": [
    "df_reindexed = df.reindex(index=[0,2,5], columns=['A', 'C', 'B'])\n",
    "print(df_reindexed)"
   ]
  },
  {
   "cell_type": "markdown",
   "metadata": {},
   "source": [
    "#### Reindex to Align with Other Objects\n",
    "- You may wish to take an object and reindex its axes to be labeled the same as another object.\n",
    "- __Note__ − Here, the df1 DataFrame is altered and reindexed like df2. The column names should be matched or else NAN will be added for the entire column label."
   ]
  },
  {
   "cell_type": "code",
   "execution_count": 12,
   "metadata": {},
   "outputs": [
    {
     "name": "stdout",
     "output_type": "stream",
     "text": [
      "       col1      col2      col3\n",
      "0 -1.745057  1.065676  0.494931\n",
      "1  0.115237 -0.583812 -0.791352\n",
      "2 -1.100612  0.082696  1.089111\n",
      "3 -0.337314  0.600008 -0.621481\n",
      "4 -1.353144 -1.478831  0.033871\n",
      "5  0.795768  0.136982 -0.927107\n",
      "6  0.584257 -0.995148 -0.576838\n",
      "7  0.498210  0.953523 -0.268647\n",
      "8 -1.022263  1.128703  1.388902\n",
      "9 -0.539812 -0.189643  0.284068\n",
      "\n",
      "\n",
      "       col1      col2      col3\n",
      "0  0.012889 -0.036709  1.281354\n",
      "1  0.570393  0.310735 -0.177701\n",
      "2 -0.772351 -0.131164  0.155368\n",
      "3  1.180512  2.942939  0.116303\n",
      "4  0.280488  0.274593 -1.146620\n",
      "5  0.354457 -0.815524 -1.897207\n",
      "6 -0.021909  0.889226  0.663559\n",
      "\n",
      "\n",
      "       col1      col2      col3\n",
      "0 -1.745057  1.065676  0.494931\n",
      "1  0.115237 -0.583812 -0.791352\n",
      "2 -1.100612  0.082696  1.089111\n",
      "3 -0.337314  0.600008 -0.621481\n",
      "4 -1.353144 -1.478831  0.033871\n",
      "5  0.795768  0.136982 -0.927107\n",
      "6  0.584257 -0.995148 -0.576838\n"
     ]
    }
   ],
   "source": [
    "import numpy as np\n",
    "\n",
    "df1 = pd.DataFrame(np.random.randn(10,3),columns=['col1','col2','col3'])\n",
    "print(df1)\n",
    "print('\\n')\n",
    "df2 = pd.DataFrame(np.random.randn(7,3),columns=['col1','col2','col3'])\n",
    "print(df2)\n",
    "print('\\n')\n",
    "df1 = df1.reindex_like(df2)\n",
    "print(df1)"
   ]
  },
  {
   "cell_type": "markdown",
   "metadata": {},
   "source": [
    "#### Filling while ReIndexing\n",
    "reindex() takes an optional parameter method which is a filling method with values as follows −\n",
    "\n",
    "- __pad/ffill__ − Fill values forward\n",
    "- __bfill/backfill__ − Fill values backward\n",
    "- __nearest__ − Fill from the nearest index values"
   ]
  },
  {
   "cell_type": "code",
   "execution_count": 13,
   "metadata": {},
   "outputs": [
    {
     "name": "stdout",
     "output_type": "stream",
     "text": [
      "       col1      col2      col3\n",
      "0  1.123808  0.682570 -1.160439\n",
      "1  0.712572 -0.743828 -1.157215\n",
      "2 -0.879017  0.431221 -0.010857\n",
      "3  0.969457 -0.930087  1.177066\n",
      "4  0.507489  1.089422  0.938518\n",
      "5  1.007367 -1.614119 -0.637264\n",
      "\n",
      "\n",
      "       col1      col2      col3\n",
      "0 -0.520303 -0.668133 -0.336906\n",
      "1  2.564716  0.868215 -0.503586\n",
      "\n",
      "\n",
      "       col1      col2      col3\n",
      "0 -0.520303 -0.668133 -0.336906\n",
      "1  2.564716  0.868215 -0.503586\n",
      "2       NaN       NaN       NaN\n",
      "3       NaN       NaN       NaN\n",
      "4       NaN       NaN       NaN\n",
      "5       NaN       NaN       NaN\n",
      "\n",
      "\n",
      "       col1      col2      col3\n",
      "0 -0.520303 -0.668133 -0.336906\n",
      "1  2.564716  0.868215 -0.503586\n",
      "2  2.564716  0.868215 -0.503586\n",
      "3  2.564716  0.868215 -0.503586\n",
      "4  2.564716  0.868215 -0.503586\n",
      "5  2.564716  0.868215 -0.503586\n"
     ]
    }
   ],
   "source": [
    "import numpy as np\n",
    "\n",
    "df1 = pd.DataFrame(np.random.randn(6,3),columns=['col1','col2','col3'])\n",
    "print(df1)\n",
    "print('\\n')\n",
    "df2 = pd.DataFrame(np.random.randn(2,3),columns=['col1','col2','col3'])\n",
    "print(df2)\n",
    "print('\\n')\n",
    "print(df2.reindex_like(df1))\n",
    "print('\\n')\n",
    "print(df2.reindex_like(df1, method= 'ffill'))"
   ]
  },
  {
   "cell_type": "code",
   "execution_count": 15,
   "metadata": {},
   "outputs": [
    {
     "name": "stdout",
     "output_type": "stream",
     "text": [
      "       col1      col2      col3\n",
      "0  1.140259  1.047299 -0.200318\n",
      "1  1.276610  1.840199  0.618895\n",
      "2 -0.052835 -0.227479  0.381090\n",
      "3  2.353892  0.299842 -1.190629\n",
      "4 -0.214463  0.473533 -0.963519\n",
      "5 -0.215341 -0.709957 -1.079844\n",
      "\n",
      "\n",
      "       col1      col2      col3\n",
      "0 -1.623279  1.037954  0.981717\n",
      "1 -1.639740  0.794005  0.411001\n",
      "\n",
      "\n",
      "       col1      col2      col3\n",
      "0 -1.623279  1.037954  0.981717\n",
      "1 -1.639740  0.794005  0.411001\n",
      "2       NaN       NaN       NaN\n",
      "3       NaN       NaN       NaN\n",
      "4       NaN       NaN       NaN\n",
      "5       NaN       NaN       NaN\n",
      "\n",
      "\n",
      "       col1      col2      col3\n",
      "0 -1.623279  1.037954  0.981717\n",
      "1 -1.639740  0.794005  0.411001\n",
      "2 -1.639740  0.794005  0.411001\n",
      "3 -1.639740  0.794005  0.411001\n",
      "4       NaN       NaN       NaN\n",
      "5       NaN       NaN       NaN\n"
     ]
    }
   ],
   "source": [
    "# Limits on Filling while Reindexing\n",
    "import numpy as np\n",
    "\n",
    "df1 = pd.DataFrame(np.random.randn(6,3),columns=['col1','col2','col3'])\n",
    "print(df1)\n",
    "print('\\n')\n",
    "df2 = pd.DataFrame(np.random.randn(2,3),columns=['col1','col2','col3'])\n",
    "print(df2)\n",
    "print('\\n')\n",
    "print(df2.reindex_like(df1))\n",
    "print('\\n')\n",
    "print(df2.reindex_like(df1, method= 'ffill',limit=2))"
   ]
  },
  {
   "cell_type": "markdown",
   "metadata": {},
   "source": [
    "### Renaming\n",
    "##### Important\n",
    "- The __rename()__ method allows you to relabel an axis based on some mapping (a dict or Series) or an arbitrary function.\n",
    "- The rename() method provides an __inplace__ named parameter, which by __default is False__ and copies the underlying data. Pass __inplace=True to rename the data in place__."
   ]
  },
  {
   "cell_type": "code",
   "execution_count": 20,
   "metadata": {},
   "outputs": [
    {
     "name": "stdout",
     "output_type": "stream",
     "text": [
      "       col1      col2      col3\n",
      "0  1.768486 -0.856761 -0.244558\n",
      "1 -0.503099 -0.314776  0.566201\n",
      "2  1.489893 -0.677620 -0.599316\n",
      "3  0.377884 -0.454941 -0.399157\n",
      "4 -0.460150 -0.020811 -0.013219\n",
      "5 -1.435699 -1.087923 -0.143332\n",
      "\n",
      "\n",
      "After renaming the rows and columns:\n",
      "              c1        c2      col3\n",
      "apple   1.768486 -0.856761 -0.244558\n",
      "banana -0.503099 -0.314776  0.566201\n",
      "durian  1.489893 -0.677620 -0.599316\n",
      "3       0.377884 -0.454941 -0.399157\n",
      "4      -0.460150 -0.020811 -0.013219\n",
      "5      -1.435699 -1.087923 -0.143332\n",
      "\n",
      "\n",
      "       col1      col2      col3\n",
      "0  1.768486 -0.856761 -0.244558\n",
      "1 -0.503099 -0.314776  0.566201\n",
      "2  1.489893 -0.677620 -0.599316\n",
      "3  0.377884 -0.454941 -0.399157\n",
      "4 -0.460150 -0.020811 -0.013219\n",
      "5 -1.435699 -1.087923 -0.143332\n",
      "\n",
      "\n",
      "              c1        c2      col3\n",
      "apple   1.768486 -0.856761 -0.244558\n",
      "banana -0.503099 -0.314776  0.566201\n",
      "durian  1.489893 -0.677620 -0.599316\n",
      "3       0.377884 -0.454941 -0.399157\n",
      "4      -0.460150 -0.020811 -0.013219\n",
      "5      -1.435699 -1.087923 -0.143332\n"
     ]
    }
   ],
   "source": [
    "import numpy as np\n",
    "\n",
    "df1 = pd.DataFrame(np.random.randn(6,3),columns=['col1','col2','col3'])\n",
    "print (df1)\n",
    "print('\\n')\n",
    "print (\"After renaming the rows and columns:\")\n",
    "print (df1.rename(columns={'col1' : 'c1', 'col2' : 'c2'},\n",
    "index = {0 : 'apple', 1 : 'banana', 2 : 'durian'}))\n",
    "print('\\n')\n",
    "print(df1)\n",
    "print('\\n')\n",
    "df1.rename(columns={'col1' : 'c1', 'col2' : 'c2'},\n",
    "index = {0 : 'apple', 1 : 'banana', 2 : 'durian'}, inplace= True)\n",
    "print(df1)"
   ]
  },
  {
   "cell_type": "markdown",
   "metadata": {},
   "source": [
    "# Iteration\n",
    "The behavior of basic iteration over Pandas objects depends on the type. When iterating over a __Series, it is regarded as array-like__, and basic iteration produces the values. Other data structures, like __DataFrame and Panel, follow the dict-like__ convention of iterating over the keys of the objects.\n",
    "\n",
    "In short, basic iteration (for i in object) produces −\n",
    "\n",
    "- __Series − values__\n",
    "\n",
    "- __DataFrame − column labels__\n",
    "\n",
    "- __Panel − item labels__"
   ]
  },
  {
   "cell_type": "markdown",
   "metadata": {},
   "source": [
    "### Iterating a DataFrame\n",
    "Iterating a DataFrame gives __column names__"
   ]
  },
  {
   "cell_type": "code",
   "execution_count": 3,
   "metadata": {},
   "outputs": [
    {
     "name": "stdout",
     "output_type": "stream",
     "text": [
      "            A     x         y       C           D\n",
      "0  2016-01-01   0.0  0.512597    High  114.118758\n",
      "1  2016-01-02   1.0  0.064195  Medium  110.599907\n",
      "2  2016-01-03   2.0  0.377606     Low  105.759164\n",
      "3  2016-01-04   3.0  0.651644    High   85.668568\n",
      "4  2016-01-05   4.0  0.729831     Low  108.315751\n",
      "5  2016-01-06   5.0  0.048005  Medium   88.470734\n",
      "6  2016-01-07   6.0  0.501928     Low   95.444062\n",
      "7  2016-01-08   7.0  0.169318  Medium   84.872690\n",
      "8  2016-01-09   8.0  0.717826     Low  104.258671\n",
      "9  2016-01-10   9.0  0.643761    High   98.738904\n",
      "10 2016-01-11  10.0  0.520811    High  104.831157\n",
      "11 2016-01-12  11.0  0.249241     Low  114.957157\n",
      "12 2016-01-13  12.0  0.334354     Low   96.953203\n",
      "13 2016-01-14  13.0  0.961292  Medium  113.631693\n",
      "14 2016-01-15  14.0  0.549690     Low   94.649102\n",
      "15 2016-01-16  15.0  0.931154  Medium   94.887582\n",
      "16 2016-01-17  16.0  0.938741    High   82.686003\n",
      "17 2016-01-18  17.0  0.667328  Medium   99.876688\n",
      "18 2016-01-19  18.0  0.098514     Low   94.118795\n",
      "19 2016-01-20  19.0  0.604391  Medium  108.361439\n",
      "\n",
      "\n",
      "A\n",
      "x\n",
      "y\n",
      "C\n",
      "D\n"
     ]
    }
   ],
   "source": [
    "import numpy as np\n",
    " \n",
    "N=20\n",
    "df = pd.DataFrame({\n",
    "   'A': pd.date_range(start='2016-01-01',periods=N,freq='D'),\n",
    "   'x': np.linspace(0,stop=N-1,num=N),\n",
    "   'y': np.random.rand(N),\n",
    "   'C': np.random.choice(['Low','Medium','High'],N).tolist(),\n",
    "   'D': np.random.normal(100, 10, size=(N)).tolist()\n",
    "   })\n",
    "print(df)\n",
    "print('\\n')\n",
    "\n",
    "for col in df:\n",
    "    print(col)"
   ]
  },
  {
   "cell_type": "markdown",
   "metadata": {},
   "source": [
    "To iterate over the rows of the DataFrame, we can use the following functions −\n",
    "\n",
    "- __iteritems() − to iterate over the (key,value) pairs__\n",
    "\n",
    "- __iterrows() − iterate over the rows as (index,series) pairs__\n",
    "\n",
    "- __itertuples() − iterate over the rows as namedtuples__"
   ]
  },
  {
   "cell_type": "code",
   "execution_count": 12,
   "metadata": {},
   "outputs": [
    {
     "name": "stdout",
     "output_type": "stream",
     "text": [
      "       col1      col2      col3\n",
      "0  0.074681 -0.426226 -1.069612\n",
      "1 -0.774250 -0.443205  2.671276\n",
      "2  0.277391 -0.425407 -1.397438\n",
      "3 -1.600444  1.407851  0.068613\n",
      "\n",
      "\n",
      "<bound method DataFrame.iteritems of        col1      col2      col3\n",
      "0  0.074681 -0.426226 -1.069612\n",
      "1 -0.774250 -0.443205  2.671276\n",
      "2  0.277391 -0.425407 -1.397438\n",
      "3 -1.600444  1.407851  0.068613>\n",
      "\n",
      "\n",
      "col1 0    0.074681\n",
      "1   -0.774250\n",
      "2    0.277391\n",
      "3   -1.600444\n",
      "Name: col1, dtype: float64\n",
      "<class 'str'> <class 'pandas.core.series.Series'>\n",
      "\n",
      "\n",
      "col2 0   -0.426226\n",
      "1   -0.443205\n",
      "2   -0.425407\n",
      "3    1.407851\n",
      "Name: col2, dtype: float64\n",
      "<class 'str'> <class 'pandas.core.series.Series'>\n",
      "\n",
      "\n",
      "col3 0   -1.069612\n",
      "1    2.671276\n",
      "2   -1.397438\n",
      "3    0.068613\n",
      "Name: col3, dtype: float64\n",
      "<class 'str'> <class 'pandas.core.series.Series'>\n",
      "\n",
      "\n"
     ]
    }
   ],
   "source": [
    "import numpy as np\n",
    " \n",
    "df = pd.DataFrame(np.random.randn(4,3),columns=['col1','col2','col3'])\n",
    "print(df)\n",
    "print('\\n')\n",
    "\n",
    "print(df.iteritems)\n",
    "print('\\n')\n",
    "\n",
    "for key,value in df.iteritems():\n",
    "    print(key,value)\n",
    "    print(type(key),type(value))\n",
    "    print('\\n')\n",
    "\n",
    "#Observe, each column is iterated separately as a key-value pair in a Series."
   ]
  },
  {
   "cell_type": "code",
   "execution_count": 14,
   "metadata": {},
   "outputs": [
    {
     "name": "stdout",
     "output_type": "stream",
     "text": [
      "       col1      col2      col3\n",
      "0  0.603627  0.570331 -0.758244\n",
      "1  0.505285 -0.423692  0.059467\n",
      "2  2.441589  0.319526 -1.120101\n",
      "3 -0.646951 -0.829488 -0.897110\n",
      "\n",
      "\n",
      "0 col1    0.603627\n",
      "col2    0.570331\n",
      "col3   -0.758244\n",
      "Name: 0, dtype: float64\n",
      "<class 'int'> <class 'pandas.core.series.Series'>\n",
      "\n",
      "\n",
      "1 col1    0.505285\n",
      "col2   -0.423692\n",
      "col3    0.059467\n",
      "Name: 1, dtype: float64\n",
      "<class 'int'> <class 'pandas.core.series.Series'>\n",
      "\n",
      "\n",
      "2 col1    2.441589\n",
      "col2    0.319526\n",
      "col3   -1.120101\n",
      "Name: 2, dtype: float64\n",
      "<class 'int'> <class 'pandas.core.series.Series'>\n",
      "\n",
      "\n",
      "3 col1   -0.646951\n",
      "col2   -0.829488\n",
      "col3   -0.897110\n",
      "Name: 3, dtype: float64\n",
      "<class 'int'> <class 'pandas.core.series.Series'>\n",
      "\n",
      "\n"
     ]
    }
   ],
   "source": [
    "import numpy as np\n",
    "\n",
    "df = pd.DataFrame(np.random.randn(4,3),columns = ['col1','col2','col3'])\n",
    "print(df)\n",
    "print('\\n')\n",
    "for row_index,row in df.iterrows():\n",
    "    print(row_index, row)\n",
    "    print(type(row_index), type(row))\n",
    "    print('\\n')\n",
    "\n",
    "# Iterate over the rows"
   ]
  },
  {
   "cell_type": "markdown",
   "metadata": {},
   "source": [
    "__Note__ − Because iterrows() iterate over the rows, it doesn't preserve the data type across the row. 0,1,2 are the row indices and col1,col2,col3 are column indices."
   ]
  },
  {
   "cell_type": "markdown",
   "metadata": {},
   "source": [
    "__itertuples()__ method will return an iterator yielding a __named tuple for each row__ in the DataFrame. The first element of the tuple will be the row’s corresponding index value, while the remaining values are the row values."
   ]
  },
  {
   "cell_type": "code",
   "execution_count": 17,
   "metadata": {},
   "outputs": [
    {
     "name": "stdout",
     "output_type": "stream",
     "text": [
      "       col1      col2      col3\n",
      "0 -2.636707  0.217648 -0.929925\n",
      "1 -0.081309 -1.703289  0.291978\n",
      "2 -1.238731 -0.799297  0.740163\n",
      "3  0.396726  0.126497  1.000572\n",
      "\n",
      "\n",
      "Pandas(Index=0, col1=-2.6367074165907383, col2=0.21764815319362685, col3=-0.9299245635769471)\n",
      "\n",
      "\n",
      "Pandas(Index=1, col1=-0.08130912055972776, col2=-1.7032894549052962, col3=0.2919776628617955)\n",
      "\n",
      "\n",
      "Pandas(Index=2, col1=-1.2387305324045026, col2=-0.7992972864060112, col3=0.7401625269872649)\n",
      "\n",
      "\n",
      "Pandas(Index=3, col1=0.39672622868518087, col2=0.12649675399385701, col3=1.0005719759724914)\n",
      "\n",
      "\n"
     ]
    }
   ],
   "source": [
    "import numpy as np\n",
    "\n",
    "df = pd.DataFrame(np.random.randn(4,3),columns = ['col1','col2','col3'])\n",
    "print(df)\n",
    "print('\\n')\n",
    "for row in df.itertuples():\n",
    "    print(row)\n",
    "    print('\\n')"
   ]
  },
  {
   "cell_type": "markdown",
   "metadata": {},
   "source": [
    "### Note − Do not try to modify any object while iterating. __Iterating is meant for reading and the iterator returns a copy of the original object (a view)__, thus the changes will not reflect on the original object."
   ]
  },
  {
   "cell_type": "code",
   "execution_count": 19,
   "metadata": {},
   "outputs": [
    {
     "name": "stdout",
     "output_type": "stream",
     "text": [
      "       col1      col2      col3\n",
      "0  0.035317 -1.077756  1.166138\n",
      "1  0.714156  1.527332  0.545106\n",
      "2  0.489707 -0.120217 -0.704183\n",
      "3 -1.415261 -0.235189 -0.918121\n",
      "\n",
      "\n",
      "       col1      col2      col3\n",
      "0  0.035317 -1.077756  1.166138\n",
      "1  0.714156  1.527332  0.545106\n",
      "2  0.489707 -0.120217 -0.704183\n",
      "3 -1.415261 -0.235189 -0.918121\n"
     ]
    }
   ],
   "source": [
    "import numpy as np\n",
    "\n",
    "df = pd.DataFrame(np.random.randn(4,3),columns = ['col1','col2','col3'])\n",
    "print(df)\n",
    "print('\\n')\n",
    "\n",
    "for index, row in df.iterrows():\n",
    "   row['a'] = 10\n",
    "print(df)\n",
    "# See No change reflected"
   ]
  },
  {
   "cell_type": "markdown",
   "metadata": {},
   "source": [
    "# Sorting\n",
    "There are two kinds of sorting available in Pandas. They are −\n",
    "\n",
    "- By label\n",
    "- By Actual Value"
   ]
  },
  {
   "cell_type": "code",
   "execution_count": 21,
   "metadata": {},
   "outputs": [
    {
     "name": "stdout",
     "output_type": "stream",
     "text": [
      "       col2      col1\n",
      "1 -0.492533  0.255125\n",
      "4 -0.281147  0.457609\n",
      "6 -1.083358  0.236330\n",
      "2 -0.956279  0.628415\n",
      "3 -0.185901 -1.822447\n",
      "5  0.526994  0.276978\n",
      "9  1.469652  1.434616\n",
      "8 -0.237081 -0.177304\n",
      "0  0.138270 -1.856043\n",
      "7  0.580792 -3.034269\n"
     ]
    }
   ],
   "source": [
    "import numpy as np\n",
    "\n",
    "unsorted_df=pd.DataFrame(np.random.randn(10,2),index=[1,4,6,2,3,5,9,8,0,7],columns=['col2','col1'])\n",
    "print(unsorted_df)"
   ]
  },
  {
   "cell_type": "markdown",
   "metadata": {},
   "source": [
    "### By Label\n",
    "Using the __sort_index()__ method, by passing the axis arguments and the order of sorting, DataFrame can be sorted. By default, sorting is done on row labels in ascending order."
   ]
  },
  {
   "cell_type": "code",
   "execution_count": 27,
   "metadata": {},
   "outputs": [
    {
     "name": "stdout",
     "output_type": "stream",
     "text": [
      "       col2      col1\n",
      "0  0.138270 -1.856043\n",
      "1 -0.492533  0.255125\n",
      "2 -0.956279  0.628415\n",
      "3 -0.185901 -1.822447\n",
      "4 -0.281147  0.457609\n",
      "5  0.526994  0.276978\n",
      "6 -1.083358  0.236330\n",
      "7  0.580792 -3.034269\n",
      "8 -0.237081 -0.177304\n",
      "9  1.469652  1.434616\n",
      "\n",
      "\n",
      "       col2      col1\n",
      "1 -0.492533  0.255125\n",
      "4 -0.281147  0.457609\n",
      "6 -1.083358  0.236330\n",
      "2 -0.956279  0.628415\n",
      "3 -0.185901 -1.822447\n",
      "5  0.526994  0.276978\n",
      "9  1.469652  1.434616\n",
      "8 -0.237081 -0.177304\n",
      "0  0.138270 -1.856043\n",
      "7  0.580792 -3.034269\n"
     ]
    }
   ],
   "source": [
    "sorted_df = unsorted_df.sort_index()\n",
    "print(sorted_df)\n",
    "print('\\n')\n",
    "sorted_df1 = unsorted_df.sort_index(axis = 1,ascending=False)\n",
    "print(sorted_df1)"
   ]
  },
  {
   "cell_type": "markdown",
   "metadata": {},
   "source": [
    "### By Value\n",
    "Like index sorting, __sort_values()__ is the method for sorting by values. It accepts a __'by'__ argument which will use the column name of the DataFrame with which the values are to be sorted."
   ]
  },
  {
   "cell_type": "code",
   "execution_count": 33,
   "metadata": {},
   "outputs": [
    {
     "name": "stdout",
     "output_type": "stream",
     "text": [
      "       col2      col1\n",
      "9  1.469652  1.434616\n",
      "7  0.580792 -3.034269\n",
      "5  0.526994  0.276978\n",
      "0  0.138270 -1.856043\n",
      "3 -0.185901 -1.822447\n",
      "8 -0.237081 -0.177304\n",
      "4 -0.281147  0.457609\n",
      "1 -0.492533  0.255125\n",
      "2 -0.956279  0.628415\n",
      "6 -1.083358  0.236330\n"
     ]
    }
   ],
   "source": [
    "sorted_df2 = unsorted_df.sort_values(by = 'col2', ascending=False)\n",
    "print(sorted_df2)"
   ]
  },
  {
   "cell_type": "markdown",
   "metadata": {},
   "source": [
    "### Sorting Algorithm\n",
    "__sort_values()__ provides a provision to choose the algorithm from _mergesort, heapsort and quicksort_. __Mergesort is the only stable algorithm__."
   ]
  },
  {
   "cell_type": "code",
   "execution_count": 34,
   "metadata": {},
   "outputs": [
    {
     "name": "stdout",
     "output_type": "stream",
     "text": [
      "       col2      col1\n",
      "9  1.469652  1.434616\n",
      "7  0.580792 -3.034269\n",
      "5  0.526994  0.276978\n",
      "0  0.138270 -1.856043\n",
      "3 -0.185901 -1.822447\n",
      "8 -0.237081 -0.177304\n",
      "4 -0.281147  0.457609\n",
      "1 -0.492533  0.255125\n",
      "2 -0.956279  0.628415\n",
      "6 -1.083358  0.236330\n"
     ]
    }
   ],
   "source": [
    "sorted_df3 = unsorted_df.sort_values(by = 'col2', ascending=False, kind = 'mergesort')\n",
    "print(sorted_df3)"
   ]
  },
  {
   "cell_type": "markdown",
   "metadata": {},
   "source": [
    "# Working with Text Data\n",
    "- Pandas provides a set of string functions which make it easy to operate on string data. Most importantly, these functions __ignore (or exclude) missing/NaN values__.\n",
    "- Applied on pandas __Series__.\n",
    "- Almost, all of these methods work with Python string functions . So, __convert the Series Object to String Object__ and then perform the operation."
   ]
  },
  {
   "cell_type": "code",
   "execution_count": 35,
   "metadata": {},
   "outputs": [
    {
     "name": "stdout",
     "output_type": "stream",
     "text": [
      "0             Tom\n",
      "1    William Rick\n",
      "2            John\n",
      "3         Alber@t\n",
      "4             NaN\n",
      "5            1234\n",
      "6      SteveSmith\n",
      "dtype: object\n"
     ]
    }
   ],
   "source": [
    "import numpy as np\n",
    "\n",
    "df = pd.Series(['Tom', 'William Rick', 'John', 'Alber@t', np.nan, '1234','SteveSmith'])\n",
    "print(df)"
   ]
  },
  {
   "cell_type": "code",
   "execution_count": 36,
   "metadata": {},
   "outputs": [
    {
     "name": "stdout",
     "output_type": "stream",
     "text": [
      "0             tom\n",
      "1    william rick\n",
      "2            john\n",
      "3         alber@t\n",
      "4             NaN\n",
      "5            1234\n",
      "6      stevesmith\n",
      "dtype: object\n"
     ]
    }
   ],
   "source": [
    "print(df.str.lower())"
   ]
  },
  {
   "cell_type": "code",
   "execution_count": 37,
   "metadata": {},
   "outputs": [
    {
     "name": "stdout",
     "output_type": "stream",
     "text": [
      "0             TOM\n",
      "1    WILLIAM RICK\n",
      "2            JOHN\n",
      "3         ALBER@T\n",
      "4             NaN\n",
      "5            1234\n",
      "6      STEVESMITH\n",
      "dtype: object\n"
     ]
    }
   ],
   "source": [
    "print(df.str.upper())"
   ]
  },
  {
   "cell_type": "code",
   "execution_count": 38,
   "metadata": {},
   "outputs": [
    {
     "name": "stdout",
     "output_type": "stream",
     "text": [
      "0     3.0\n",
      "1    12.0\n",
      "2     4.0\n",
      "3     7.0\n",
      "4     NaN\n",
      "5     4.0\n",
      "6    10.0\n",
      "dtype: float64\n"
     ]
    }
   ],
   "source": [
    "print(df.str.len())"
   ]
  },
  {
   "cell_type": "code",
   "execution_count": 40,
   "metadata": {},
   "outputs": [
    {
     "name": "stdout",
     "output_type": "stream",
     "text": [
      "0             Tom\n",
      "1    William Rick\n",
      "2            John\n",
      "3         Alber@t\n",
      "4             NaN\n",
      "5            1234\n",
      "6      SteveSmith\n",
      "dtype: object\n"
     ]
    }
   ],
   "source": [
    "print(df.str.strip())\n",
    "#  strip whitespace(including newline) from each string in the Series/index from both the sides."
   ]
  },
  {
   "cell_type": "code",
   "execution_count": 46,
   "metadata": {},
   "outputs": [
    {
     "name": "stdout",
     "output_type": "stream",
     "text": [
      "0                               [, T, o, m, ]\n",
      "1    [, W, i, l, l, i, a, m,  , R, i, c, k, ]\n",
      "2                            [, J, o, h, n, ]\n",
      "3                   [, A, l, b, e, r, @, t, ]\n",
      "4                                         NaN\n",
      "5                            [, 1, 2, 3, 4, ]\n",
      "6          [, S, t, e, v, e, S, m, i, t, h, ]\n",
      "dtype: object\n"
     ]
    }
   ],
   "source": [
    "print(df.str.split(''))\n",
    "#Splits each string with the given pattern."
   ]
  },
  {
   "cell_type": "code",
   "execution_count": 49,
   "metadata": {},
   "outputs": [
    {
     "name": "stdout",
     "output_type": "stream",
     "text": [
      "Tom*******William Rick*******John*******Alber@t*******1234*******SteveSmith\n"
     ]
    }
   ],
   "source": [
    "print(df.str.cat(sep='*******'))\n",
    "#Concatenates the series/index elements with given separator."
   ]
  },
  {
   "cell_type": "code",
   "execution_count": 51,
   "metadata": {},
   "outputs": [
    {
     "name": "stdout",
     "output_type": "stream",
     "text": [
      "   1234  Alber@t  John  SteveSmith  Tom  William Rick\n",
      "0     0        0     0           0    1             0\n",
      "1     0        0     0           0    0             1\n",
      "2     0        0     1           0    0             0\n",
      "3     0        1     0           0    0             0\n",
      "4     0        0     0           0    0             0\n",
      "5     1        0     0           0    0             0\n",
      "6     0        0     0           1    0             0\n"
     ]
    }
   ],
   "source": [
    "print(df.str.get_dummies())\n",
    "#Returns the DataFrame with One-Hot Encoded values."
   ]
  },
  {
   "cell_type": "code",
   "execution_count": 52,
   "metadata": {},
   "outputs": [
    {
     "name": "stdout",
     "output_type": "stream",
     "text": [
      "0    False\n",
      "1    False\n",
      "2    False\n",
      "3     True\n",
      "4      NaN\n",
      "5    False\n",
      "6    False\n",
      "dtype: object\n"
     ]
    }
   ],
   "source": [
    "print(df.str.contains('@'))"
   ]
  },
  {
   "cell_type": "code",
   "execution_count": 53,
   "metadata": {},
   "outputs": [
    {
     "name": "stdout",
     "output_type": "stream",
     "text": [
      "0             Tom\n",
      "1    William Rick\n",
      "2            John\n",
      "3     Alber#####t\n",
      "4             NaN\n",
      "5            1234\n",
      "6      SteveSmith\n",
      "dtype: object\n"
     ]
    }
   ],
   "source": [
    "print(df.str.replace('@','#####'))"
   ]
  },
  {
   "cell_type": "code",
   "execution_count": 54,
   "metadata": {},
   "outputs": [
    {
     "name": "stdout",
     "output_type": "stream",
     "text": [
      "0                               TomTomTom\n",
      "1    William RickWilliam RickWilliam Rick\n",
      "2                            JohnJohnJohn\n",
      "3                   Alber@tAlber@tAlber@t\n",
      "4                                     NaN\n",
      "5                            123412341234\n",
      "6          SteveSmithSteveSmithSteveSmith\n",
      "dtype: object\n"
     ]
    }
   ],
   "source": [
    "print(df.str.repeat(3))"
   ]
  },
  {
   "cell_type": "code",
   "execution_count": 56,
   "metadata": {},
   "outputs": [
    {
     "name": "stdout",
     "output_type": "stream",
     "text": [
      "0    0.0\n",
      "1    0.0\n",
      "2    1.0\n",
      "3    0.0\n",
      "4    NaN\n",
      "5    0.0\n",
      "6    0.0\n",
      "dtype: float64\n"
     ]
    }
   ],
   "source": [
    "print(df.str.count('Jo'))\n",
    "#Returns count of appearance of pattern in each element"
   ]
  },
  {
   "cell_type": "code",
   "execution_count": 57,
   "metadata": {},
   "outputs": [
    {
     "name": "stdout",
     "output_type": "stream",
     "text": [
      "0     True\n",
      "1    False\n",
      "2    False\n",
      "3    False\n",
      "4      NaN\n",
      "5    False\n",
      "6    False\n",
      "dtype: object\n"
     ]
    }
   ],
   "source": [
    "print(df.str.startswith('T'))"
   ]
  },
  {
   "cell_type": "code",
   "execution_count": 59,
   "metadata": {},
   "outputs": [
    {
     "name": "stdout",
     "output_type": "stream",
     "text": [
      "0    False\n",
      "1    False\n",
      "2    False\n",
      "3     True\n",
      "4      NaN\n",
      "5    False\n",
      "6    False\n",
      "dtype: object\n"
     ]
    }
   ],
   "source": [
    "print(df.str.endswith('t'))"
   ]
  },
  {
   "cell_type": "code",
   "execution_count": 60,
   "metadata": {},
   "outputs": [
    {
     "name": "stdout",
     "output_type": "stream",
     "text": [
      "0    1.0\n",
      "1   -1.0\n",
      "2    1.0\n",
      "3   -1.0\n",
      "4    NaN\n",
      "5   -1.0\n",
      "6   -1.0\n",
      "dtype: float64\n"
     ]
    }
   ],
   "source": [
    "print(df.str.find('o'))\n",
    "#Returns the first position of the first occurrence of the pattern."
   ]
  },
  {
   "cell_type": "code",
   "execution_count": 61,
   "metadata": {},
   "outputs": [
    {
     "name": "stdout",
     "output_type": "stream",
     "text": [
      "0        []\n",
      "1        []\n",
      "2        []\n",
      "3       [t]\n",
      "4       NaN\n",
      "5        []\n",
      "6    [t, t]\n",
      "dtype: object\n"
     ]
    }
   ],
   "source": [
    "print(df.str.findall('t'))\n",
    "#Returns a list of all occurrence of the pattern."
   ]
  },
  {
   "cell_type": "code",
   "execution_count": 62,
   "metadata": {},
   "outputs": [
    {
     "name": "stdout",
     "output_type": "stream",
     "text": [
      "0             tOM\n",
      "1    wILLIAM rICK\n",
      "2            jOHN\n",
      "3         aLBER@T\n",
      "4             NaN\n",
      "5            1234\n",
      "6      sTEVEsMITH\n",
      "dtype: object\n"
     ]
    }
   ],
   "source": [
    "print(df.str.swapcase())"
   ]
  },
  {
   "cell_type": "code",
   "execution_count": 63,
   "metadata": {},
   "outputs": [
    {
     "name": "stdout",
     "output_type": "stream",
     "text": [
      "0    False\n",
      "1    False\n",
      "2    False\n",
      "3    False\n",
      "4      NaN\n",
      "5    False\n",
      "6    False\n",
      "dtype: object\n"
     ]
    }
   ],
   "source": [
    "print(df.str.islower())"
   ]
  },
  {
   "cell_type": "code",
   "execution_count": 64,
   "metadata": {},
   "outputs": [
    {
     "name": "stdout",
     "output_type": "stream",
     "text": [
      "0    False\n",
      "1    False\n",
      "2    False\n",
      "3    False\n",
      "4      NaN\n",
      "5    False\n",
      "6    False\n",
      "dtype: object\n"
     ]
    }
   ],
   "source": [
    "print(df.str.isupper())"
   ]
  },
  {
   "cell_type": "code",
   "execution_count": 65,
   "metadata": {},
   "outputs": [
    {
     "name": "stdout",
     "output_type": "stream",
     "text": [
      "0    False\n",
      "1    False\n",
      "2    False\n",
      "3    False\n",
      "4      NaN\n",
      "5     True\n",
      "6    False\n",
      "dtype: object\n"
     ]
    }
   ],
   "source": [
    "print(df.str.isnumeric())"
   ]
  },
  {
   "cell_type": "markdown",
   "metadata": {},
   "source": [
    "# Options and Customization\n",
    "\n",
    "- To See and change the settings of Pandas options\n",
    "[Read Here](https://www.tutorialspoint.com/python_pandas/python_pandas_options_and_customization.htm)"
   ]
  },
  {
   "cell_type": "markdown",
   "metadata": {},
   "source": [
    "# Indexing and Selecting Data"
   ]
  }
 ],
 "metadata": {
  "kernelspec": {
   "display_name": "Python 3",
   "language": "python",
   "name": "python3"
  },
  "language_info": {
   "codemirror_mode": {
    "name": "ipython",
    "version": 3
   },
   "file_extension": ".py",
   "mimetype": "text/x-python",
   "name": "python",
   "nbconvert_exporter": "python",
   "pygments_lexer": "ipython3",
   "version": "3.7.3"
  }
 },
 "nbformat": 4,
 "nbformat_minor": 2
}
