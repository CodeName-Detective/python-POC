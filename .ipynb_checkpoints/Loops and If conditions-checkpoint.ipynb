{
 "cells": [
  {
   "cell_type": "code",
   "execution_count": 2,
   "metadata": {},
   "outputs": [
    {
     "name": "stdout",
     "output_type": "stream",
     "text": [
      "1\n",
      "4\n",
      "9\n",
      "16\n",
      "25\n",
      "36\n",
      "49\n",
      "64\n"
     ]
    }
   ],
   "source": [
    "####################################-------------FOR loop-----------------------------------################################\n",
    "demo_list = [1,2,3,4,5,6,7,8]\n",
    "\n",
    "for element in demo_list:\n",
    "    print(element**2)"
   ]
  },
  {
   "cell_type": "code",
   "execution_count": 4,
   "metadata": {},
   "outputs": [
    {
     "name": "stdout",
     "output_type": "stream",
     "text": [
      "[1, 4, 9, 16, 25, 36, 49, 64]\n"
     ]
    }
   ],
   "source": [
    "######################################--------------FOR loop exercise 1----------------------------###########################\n",
    "demo_list = [1,2,3,4,5,6,7,8]\n",
    "demo_list_square = []\n",
    "\n",
    "for element in demo_list:\n",
    "    demo_list_square.append(element**2)\n",
    "\n",
    "print(demo_list_square)"
   ]
  },
  {
   "cell_type": "code",
   "execution_count": 12,
   "metadata": {},
   "outputs": [
    {
     "name": "stdout",
     "output_type": "stream",
     "text": [
      "[1, 4, 9, 16, 25, 36, 49, 64]\n"
     ]
    }
   ],
   "source": [
    "######################--------------------------LIST COMPREHENSION------------------------------#########################\n",
    "demo_list = [1,2,3,4,5,6,7,8]\n",
    "\n",
    "demo_list_square = [element**2 for element in demo_list]\n",
    "\n",
    "print(demo_list_square)"
   ]
  },
  {
   "cell_type": "code",
   "execution_count": 6,
   "metadata": {},
   "outputs": [
    {
     "name": "stdout",
     "output_type": "stream",
     "text": [
      "False\n"
     ]
    }
   ],
   "source": [
    "###################################--------------------IF conditions--------------------####################################\n",
    "varible = 50\n",
    "\n",
    "if varible<50:\n",
    "    print(True)\n",
    "else:\n",
    "    print(False)"
   ]
  },
  {
   "cell_type": "code",
   "execution_count": 11,
   "metadata": {},
   "outputs": [
    {
     "name": "stdout",
     "output_type": "stream",
     "text": [
      "['Fail', 'Pass', 'Pass', 'Fail']\n"
     ]
    }
   ],
   "source": [
    "##################################-------------FOR and IF exercise 2-------------------##############################\n",
    "\n",
    "marks = [30,40,90,28]\n",
    "\n",
    "result = []\n",
    "\n",
    "for element in marks:\n",
    "    if element >= 40:\n",
    "        result.append('Pass')\n",
    "    else:\n",
    "        result.append('Fail')\n",
    "\n",
    "print(result)"
   ]
  },
  {
   "cell_type": "code",
   "execution_count": 17,
   "metadata": {},
   "outputs": [
    {
     "name": "stdout",
     "output_type": "stream",
     "text": [
      "['Fail', 'Pass', 'Pass', 'Fail']\n"
     ]
    }
   ],
   "source": [
    "############################----------FOR loop and IF CONDITION COMPREHENSION----------------------###########################\n",
    "\n",
    "marks = [30,40,90,28]\n",
    "\n",
    "result = ['Pass'  if element >= 40 else 'Fail' for element in marks]############ Both IF and ELSE are needed\n",
    "\n",
    "print(result)"
   ]
  },
  {
   "cell_type": "code",
   "execution_count": 22,
   "metadata": {},
   "outputs": [
    {
     "name": "stdout",
     "output_type": "stream",
     "text": [
      "['Pass', 'Pass']\n"
     ]
    }
   ],
   "source": [
    "############################----------FOR loop and IF CONDITION COMPREHENSION exercise 2----------------------###########################\n",
    "\n",
    "marks = [30,40,90,28]\n",
    "\n",
    "result = ['Pass' for element in marks  if element >= 40] ############ ELSE  is not needed\n",
    "\n",
    "print(result)"
   ]
  },
  {
   "cell_type": "code",
   "execution_count": 23,
   "metadata": {},
   "outputs": [
    {
     "name": "stdout",
     "output_type": "stream",
     "text": [
      "['Fail', 'Pass', 'Pass', 'Fail']\n"
     ]
    }
   ],
   "source": [
    "#############################-------------FOR LOOP and TUPLE---------------------------------#########################\n",
    "\n",
    "demo_tuple = (30,40,90,28)\n",
    "\n",
    "results = ['Pass' if element >= 40 else 'Fail' for element in demo_tuple]\n",
    "\n",
    "print(results)"
   ]
  },
  {
   "cell_type": "code",
   "execution_count": 32,
   "metadata": {},
   "outputs": [
    {
     "name": "stdout",
     "output_type": "stream",
     "text": [
      "Pizza_Type\n",
      "Non Veg\n",
      "Base\n",
      "Toppings\n",
      "Payment_Mode\n",
      "dict_items([('Pizza_Type', ['Veg', 'Non Veg']), ('Non Veg', ['Pepper Barbecue', 'Chicken Overloaded']), ('Base', ['Cheese Burst', 'Pan', 'Hand Tossed']), ('Toppings', ['Capsicum', 'Onion', 'Jalapenos']), ('Payment_Mode', 'Cash')])\n",
      "Pizza_Type ['Veg', 'Non Veg']\n",
      "Non Veg ['Pepper Barbecue', 'Chicken Overloaded']\n",
      "Base ['Cheese Burst', 'Pan', 'Hand Tossed']\n",
      "Toppings ['Capsicum', 'Onion', 'Jalapenos']\n",
      "Payment_Mode Cash\n",
      "{'Pizza_Type': ['Veg', 'Non Veg'], 'Non Veg': ['Pepper Barbecue', 'Chicken Overloaded'], 'Base': ['Cheese Burst', 'Pan', 'Hand Tossed'], 'Toppings': ['Capsicum', 'Onion', 'Jalapenos'], 'Payment_Mode': 'Cash'}\n"
     ]
    }
   ],
   "source": [
    "#############################----------FOR loop and DICTIONARY---------------------------################################\n",
    "demo_dict = {'Pizza_Type': ['Veg', 'Non Veg'], \n",
    "             'Non Veg': ['Pepper Barbecue', 'Chicken Overloaded'],\n",
    "             'Base': ['Cheese Burst', 'Pan', 'Hand Tossed'], \n",
    "             'Toppings': ['Capsicum', 'Onion', 'Jalapenos'],\n",
    "             'Payment_Mode': 'Cash'}\n",
    "\n",
    "for element in demo_dict:\n",
    "    print(element)\n",
    "    \n",
    "###########################################################################################################################\n",
    "\n",
    "print(demo_dict.items()) # Gives TUPLE of key,value pairs\n",
    "\n",
    "new_dict = {}\n",
    "\n",
    "for key,value in demo_dict.items():\n",
    "    print(key,value)\n",
    "    new_dict[key]=value\n",
    "\n",
    "print(new_dict)"
   ]
  }
 ],
 "metadata": {
  "kernelspec": {
   "display_name": "Python 3",
   "language": "python",
   "name": "python3"
  },
  "language_info": {
   "codemirror_mode": {
    "name": "ipython",
    "version": 3
   },
   "file_extension": ".py",
   "mimetype": "text/x-python",
   "name": "python",
   "nbconvert_exporter": "python",
   "pygments_lexer": "ipython3",
   "version": "3.7.6"
  }
 },
 "nbformat": 4,
 "nbformat_minor": 2
}
