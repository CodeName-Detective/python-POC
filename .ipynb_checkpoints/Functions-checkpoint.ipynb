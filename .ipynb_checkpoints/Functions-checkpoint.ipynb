{
 "cells": [
  {
   "cell_type": "code",
   "execution_count": 1,
   "metadata": {},
   "outputs": [
    {
     "name": "stdout",
     "output_type": "stream",
     "text": [
      "[1, 4, 9, 16, 25, 36]\n",
      "[484, 1936, 25, 4356, 49, 788544, 808201]\n"
     ]
    }
   ],
   "source": [
    "###########################------------FUNCTIONS------------------########################\n",
    "\n",
    "def squareup(a):\n",
    "    squared_list =  []\n",
    "    for element in a:\n",
    "        squared_list.append(element**2)\n",
    "    return squared_list\n",
    "\n",
    "print(squareup([1,2,3,4,5,6]))\n",
    "\n",
    "print(squareup([22,44,5,66,7,888,899]))"
   ]
  },
  {
   "cell_type": "code",
   "execution_count": 2,
   "metadata": {},
   "outputs": [
    {
     "name": "stdout",
     "output_type": "stream",
     "text": [
      "6\n",
      "19\n"
     ]
    }
   ],
   "source": [
    "def sumup(a,b):\n",
    "    return a+b\n",
    "\n",
    "print(sumup(2,4))\n",
    "print(sumup(9,10))"
   ]
  }
 ],
 "metadata": {
  "kernelspec": {
   "display_name": "Python 3",
   "language": "python",
   "name": "python3"
  },
  "language_info": {
   "codemirror_mode": {
    "name": "ipython",
    "version": 3
   },
   "file_extension": ".py",
   "mimetype": "text/x-python",
   "name": "python",
   "nbconvert_exporter": "python",
   "pygments_lexer": "ipython3",
   "version": "3.7.3"
  }
 },
 "nbformat": 4,
 "nbformat_minor": 2
}
