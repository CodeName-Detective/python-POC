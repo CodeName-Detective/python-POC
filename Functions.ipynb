{
 "cells": [
  {
   "cell_type": "code",
   "execution_count": 1,
   "metadata": {},
   "outputs": [
    {
     "name": "stdout",
     "output_type": "stream",
     "text": [
      "[1, 4, 9, 16, 25, 36]\n",
      "[484, 1936, 25, 4356, 49, 788544, 808201]\n"
     ]
    }
   ],
   "source": [
    "###########################------------FUNCTIONS------------------########################\n",
    "\n",
    "def squareup(a):\n",
    "    squared_list =  []\n",
    "    for element in a:\n",
    "        squared_list.append(element**2)\n",
    "    return squared_list\n",
    "\n",
    "print(squareup([1,2,3,4,5,6]))\n",
    "\n",
    "print(squareup([22,44,5,66,7,888,899]))"
   ]
  },
  {
   "cell_type": "code",
   "execution_count": 3,
   "metadata": {},
   "outputs": [
    {
     "name": "stdout",
     "output_type": "stream",
     "text": [
      "6\n",
      "19\n"
     ]
    }
   ],
   "source": [
    "def sumup(a,b):\n",
    "    return a+b\n",
    "\n",
    "print(sumup(2,4))\n",
    "print(sumup(9,10))"
   ]
  },
  {
   "cell_type": "code",
   "execution_count": 18,
   "metadata": {},
   "outputs": [
    {
     "data": {
      "text/plain": [
       "7"
      ]
     },
     "execution_count": 18,
     "metadata": {},
     "output_type": "execute_result"
    }
   ],
   "source": [
    "def printLargestNumber(LON):\n",
    "    LON.sort()\n",
    "    return LON[-1]\n",
    "    \n",
    "LON = [3,1,6,7]\n",
    "printLargestNumber(LON)"
   ]
  },
  {
   "cell_type": "code",
   "execution_count": 23,
   "metadata": {},
   "outputs": [
    {
     "data": {
      "text/plain": [
       "[-99, -22, -69, 66, 44, 9, 11]"
      ]
     },
     "execution_count": 23,
     "metadata": {},
     "output_type": "execute_result"
    }
   ],
   "source": [
    "def seperatePositiveandNegative(LON):\n",
    "    posLON = []\n",
    "    negLON = []\n",
    "    for num in LON:\n",
    "        if num < 0:\n",
    "            negLON.append(num)\n",
    "        else:\n",
    "            posLON.append(num)\n",
    "    negLON.extend(posLON)\n",
    "    return negLON\n",
    "LON = [-99,66,44,-22,9,11,-69]\n",
    "\n",
    "seperatePositiveandNegative(LON)"
   ]
  },
  {
   "cell_type": "code",
   "execution_count": 33,
   "metadata": {},
   "outputs": [
    {
     "data": {
      "text/plain": [
       "[-99, -22, -69, 66, 44, 9, 11]"
      ]
     },
     "execution_count": 33,
     "metadata": {},
     "output_type": "execute_result"
    }
   ],
   "source": [
    "#results = ['Pass' if element >= 40 else 'Fail' for element in demo_tuple]\n",
    "#result = ['Pass' for element in marks  if element >= 40]\n",
    "#Using List comprehension\n",
    "def seperatePositiveandNegative(LON):\n",
    "    return  [num for num in LON if num<0]+[num for num in LON if num >=0]\n",
    "\n",
    "LON = [-99,66,44,-22,9,11,-69]\n",
    "\n",
    "seperatePositiveandNegative(LON)"
   ]
  },
  {
   "cell_type": "code",
   "execution_count": 34,
   "metadata": {},
   "outputs": [
    {
     "data": {
      "text/plain": [
       "15"
      ]
     },
     "execution_count": 34,
     "metadata": {},
     "output_type": "execute_result"
    }
   ],
   "source": [
    "#----------------------------------------------Anonymous Functions---------------------------------------------------------\n",
    "#Also called as lambda expressions\n",
    "a = lambda x,y,z:x+y+z\n",
    "\n",
    "a(3,5,7)"
   ]
  },
  {
   "cell_type": "code",
   "execution_count": 35,
   "metadata": {},
   "outputs": [
    {
     "data": {
      "text/plain": [
       "[1, 4, 9, 16, 25, 36, 49]"
      ]
     },
     "execution_count": 35,
     "metadata": {},
     "output_type": "execute_result"
    }
   ],
   "source": [
    "# \"map\" function\n",
    "\n",
    "# Can be used for only list and Tuples\n",
    "\n",
    "#map(function,list/tuple)\n",
    "\n",
    "#It is a void function doesn't return any value unless we explicitly convert it in to list\n",
    "\n",
    "# list(map(<func Name>,<list name>))\n",
    "\n",
    "\n",
    "list(map( lambda x:x**2,[1,2,3,4,5,6,7]))"
   ]
  },
  {
   "cell_type": "code",
   "execution_count": 36,
   "metadata": {},
   "outputs": [
    {
     "data": {
      "text/plain": [
       "[4, 5, 6]"
      ]
     },
     "execution_count": 36,
     "metadata": {},
     "output_type": "execute_result"
    }
   ],
   "source": [
    "# \"filter\" function\n",
    "\n",
    "# Can be used for only list and Tuples\n",
    "\n",
    "#filter(function,list/tuple)\n",
    "\n",
    "#It is a void function doesn't return any value unless we explicitly convert it in to list\n",
    "\n",
    "# list(filter(<func Name>,<list name>))\n",
    "\n",
    "list(filter(lambda x:x>3,[1,3,2,4,5,6]))"
   ]
  },
  {
   "cell_type": "code",
   "execution_count": 38,
   "metadata": {},
   "outputs": [
    {
     "data": {
      "text/plain": [
       "5040"
      ]
     },
     "execution_count": 38,
     "metadata": {},
     "output_type": "execute_result"
    }
   ],
   "source": [
    "def muloflistNUM(LON):\n",
    "    value = 1\n",
    "    for num in LON:\n",
    "        value = value*num\n",
    "    return value\n",
    "\n",
    "LON = [1,2,3,4,5,6,7]\n",
    "\n",
    "muloflistNUM(LON)"
   ]
  },
  {
   "cell_type": "code",
   "execution_count": 39,
   "metadata": {},
   "outputs": [
    {
     "data": {
      "text/plain": [
       "5040"
      ]
     },
     "execution_count": 39,
     "metadata": {},
     "output_type": "execute_result"
    }
   ],
   "source": [
    "from functools import reduce\n",
    "\n",
    "reduce(lambda x,y: x*y, LON)"
   ]
  },
  {
   "cell_type": "markdown",
   "metadata": {},
   "source": [
    "### Varible Arguments\n",
    "- __*args__ - it uses __tuple__ data structure"
   ]
  },
  {
   "cell_type": "code",
   "execution_count": 7,
   "metadata": {},
   "outputs": [
    {
     "data": {
      "text/plain": [
       "120"
      ]
     },
     "execution_count": 7,
     "metadata": {},
     "output_type": "execute_result"
    }
   ],
   "source": [
    "def mul(*args):\n",
    "    result = 1\n",
    "    for arg in args:\n",
    "        result *= arg\n",
    "    return result\n",
    "\n",
    "mul(1,2,3,4,5)"
   ]
  },
  {
   "cell_type": "markdown",
   "metadata": {},
   "source": [
    "- __*kwargs__ - it uses __dictionary__ data structure"
   ]
  },
  {
   "cell_type": "code",
   "execution_count": 9,
   "metadata": {},
   "outputs": [
    {
     "name": "stdout",
     "output_type": "stream",
     "text": [
      "x 1\n",
      "y 2\n",
      "z 3\n"
     ]
    }
   ],
   "source": [
    "def function(**kwargs):\n",
    "    for key,value in kwargs.items():\n",
    "        print(key,value)\n",
    "function(x=1,y=2,z=3)"
   ]
  }
 ],
 "metadata": {
  "kernelspec": {
   "display_name": "Python 3",
   "language": "python",
   "name": "python3"
  },
  "language_info": {
   "codemirror_mode": {
    "name": "ipython",
    "version": 3
   },
   "file_extension": ".py",
   "mimetype": "text/x-python",
   "name": "python",
   "nbconvert_exporter": "python",
   "pygments_lexer": "ipython3",
   "version": "3.7.3"
  }
 },
 "nbformat": 4,
 "nbformat_minor": 2
}
