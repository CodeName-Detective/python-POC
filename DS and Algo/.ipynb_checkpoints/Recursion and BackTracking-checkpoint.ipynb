{
 "cells": [
  {
   "cell_type": "markdown",
   "metadata": {},
   "source": [
    "# Recursion"
   ]
  },
  {
   "cell_type": "markdown",
   "metadata": {},
   "source": [
    "### Towers Of Hanoi"
   ]
  },
  {
   "cell_type": "code",
   "execution_count": 2,
   "metadata": {},
   "outputs": [],
   "source": [
    "def towers_of_hanoi(numberOfDisks,startPeg=1,endPeg=3):\n",
    "    if numberOfDisks:\n",
    "        towers_of_hanoi(numberOfDisks-1,startPeg,6-startPeg-endPeg)\n",
    "        print(\"Move Disk {} from peg {} to peg {}\".format(numberOfDisks,startPeg,endPeg))\n",
    "        towers_of_hanoi(numberOfDisks-1,6-startPeg-endPeg,endPeg)"
   ]
  },
  {
   "cell_type": "code",
   "execution_count": 11,
   "metadata": {},
   "outputs": [
    {
     "name": "stdout",
     "output_type": "stream",
     "text": [
      "Move Disk 1 from peg 1 to peg 3\n",
      "Move Disk 2 from peg 1 to peg 2\n",
      "Move Disk 1 from peg 3 to peg 2\n",
      "Move Disk 3 from peg 1 to peg 3\n",
      "Move Disk 1 from peg 2 to peg 1\n",
      "Move Disk 2 from peg 2 to peg 3\n",
      "Move Disk 1 from peg 1 to peg 3\n",
      "Move Disk 4 from peg 1 to peg 2\n",
      "Move Disk 1 from peg 3 to peg 2\n",
      "Move Disk 2 from peg 3 to peg 1\n",
      "Move Disk 1 from peg 2 to peg 1\n",
      "Move Disk 3 from peg 3 to peg 2\n",
      "Move Disk 1 from peg 1 to peg 3\n",
      "Move Disk 2 from peg 1 to peg 2\n",
      "Move Disk 1 from peg 3 to peg 2\n",
      "Move Disk 5 from peg 1 to peg 3\n",
      "Move Disk 1 from peg 2 to peg 1\n",
      "Move Disk 2 from peg 2 to peg 3\n",
      "Move Disk 1 from peg 1 to peg 3\n",
      "Move Disk 3 from peg 2 to peg 1\n",
      "Move Disk 1 from peg 3 to peg 2\n",
      "Move Disk 2 from peg 3 to peg 1\n",
      "Move Disk 1 from peg 2 to peg 1\n",
      "Move Disk 4 from peg 2 to peg 3\n",
      "Move Disk 1 from peg 1 to peg 3\n",
      "Move Disk 2 from peg 1 to peg 2\n",
      "Move Disk 1 from peg 3 to peg 2\n",
      "Move Disk 3 from peg 1 to peg 3\n",
      "Move Disk 1 from peg 2 to peg 1\n",
      "Move Disk 2 from peg 2 to peg 3\n",
      "Move Disk 1 from peg 1 to peg 3\n"
     ]
    }
   ],
   "source": [
    "towers_of_hanoi(5)"
   ]
  },
  {
   "cell_type": "markdown",
   "metadata": {},
   "source": [
    "### Is Array Sorted"
   ]
  },
  {
   "cell_type": "code",
   "execution_count": 5,
   "metadata": {},
   "outputs": [],
   "source": [
    "def isSorted(A):\n",
    "    if len(A) == 1:\n",
    "        return True\n",
    "    return A[0]<=A[1] and isSorted(A[1:])"
   ]
  },
  {
   "cell_type": "code",
   "execution_count": 7,
   "metadata": {},
   "outputs": [
    {
     "data": {
      "text/plain": [
       "False"
      ]
     },
     "execution_count": 7,
     "metadata": {},
     "output_type": "execute_result"
    }
   ],
   "source": [
    "A = [2,4,5,7,1,5]\n",
    "isSorted(A)"
   ]
  },
  {
   "cell_type": "code",
   "execution_count": 9,
   "metadata": {},
   "outputs": [
    {
     "data": {
      "text/plain": [
       "True"
      ]
     },
     "execution_count": 9,
     "metadata": {},
     "output_type": "execute_result"
    }
   ],
   "source": [
    "B = [2,4,5,7]\n",
    "isSorted(B)"
   ]
  },
  {
   "cell_type": "markdown",
   "metadata": {},
   "source": [
    "# Backtracking"
   ]
  },
  {
   "cell_type": "markdown",
   "metadata": {},
   "source": [
    "- Generate all the binary strings with n bits. Assume A[0...n-1] is an array of size n"
   ]
  },
  {
   "cell_type": "code",
   "execution_count": 12,
   "metadata": {},
   "outputs": [],
   "source": [
    "def append_at_beginning_front(x,L):\n",
    "    return [x + element for element in L]"
   ]
  },
  {
   "cell_type": "code",
   "execution_count": 13,
   "metadata": {},
   "outputs": [],
   "source": [
    "def bit_strings(n):\n",
    "    if n==0: return[]\n",
    "    if n==1: return ['0','1']\n",
    "    else:\n",
    "        return(append_at_beginning_front('0',bit_strings(n-1)) + append_at_beginning_front('1',bit_strings(n-1)))"
   ]
  },
  {
   "cell_type": "code",
   "execution_count": 14,
   "metadata": {},
   "outputs": [
    {
     "data": {
      "text/plain": [
       "['0000',\n",
       " '0001',\n",
       " '0010',\n",
       " '0011',\n",
       " '0100',\n",
       " '0101',\n",
       " '0110',\n",
       " '0111',\n",
       " '1000',\n",
       " '1001',\n",
       " '1010',\n",
       " '1011',\n",
       " '1100',\n",
       " '1101',\n",
       " '1110',\n",
       " '1111']"
      ]
     },
     "execution_count": 14,
     "metadata": {},
     "output_type": "execute_result"
    }
   ],
   "source": [
    "bit_strings(4)"
   ]
  },
  {
   "cell_type": "markdown",
   "metadata": {},
   "source": [
    "- Generate all the strings of length n drawn from 0....k-1"
   ]
  },
  {
   "cell_type": "code",
   "execution_count": 15,
   "metadata": {},
   "outputs": [],
   "source": [
    "def range_to_list(k):\n",
    "    result = []\n",
    "    for i in range(0,k):\n",
    "        result.append(str(i))\n",
    "    return result"
   ]
  },
  {
   "cell_type": "code",
   "execution_count": 16,
   "metadata": {},
   "outputs": [],
   "source": [
    "def base_k_strings(n,k):\n",
    "    if n == 0: return []\n",
    "    if n == 1: return range_to_list(k)\n",
    "    return [digit+bitstring for digit in base_k_strings(1,k) for bitstring in base_k_strings(n-1,k)]"
   ]
  },
  {
   "cell_type": "code",
   "execution_count": 17,
   "metadata": {},
   "outputs": [
    {
     "data": {
      "text/plain": [
       "['0000',\n",
       " '0001',\n",
       " '0002',\n",
       " '0010',\n",
       " '0011',\n",
       " '0012',\n",
       " '0020',\n",
       " '0021',\n",
       " '0022',\n",
       " '0100',\n",
       " '0101',\n",
       " '0102',\n",
       " '0110',\n",
       " '0111',\n",
       " '0112',\n",
       " '0120',\n",
       " '0121',\n",
       " '0122',\n",
       " '0200',\n",
       " '0201',\n",
       " '0202',\n",
       " '0210',\n",
       " '0211',\n",
       " '0212',\n",
       " '0220',\n",
       " '0221',\n",
       " '0222',\n",
       " '1000',\n",
       " '1001',\n",
       " '1002',\n",
       " '1010',\n",
       " '1011',\n",
       " '1012',\n",
       " '1020',\n",
       " '1021',\n",
       " '1022',\n",
       " '1100',\n",
       " '1101',\n",
       " '1102',\n",
       " '1110',\n",
       " '1111',\n",
       " '1112',\n",
       " '1120',\n",
       " '1121',\n",
       " '1122',\n",
       " '1200',\n",
       " '1201',\n",
       " '1202',\n",
       " '1210',\n",
       " '1211',\n",
       " '1212',\n",
       " '1220',\n",
       " '1221',\n",
       " '1222',\n",
       " '2000',\n",
       " '2001',\n",
       " '2002',\n",
       " '2010',\n",
       " '2011',\n",
       " '2012',\n",
       " '2020',\n",
       " '2021',\n",
       " '2022',\n",
       " '2100',\n",
       " '2101',\n",
       " '2102',\n",
       " '2110',\n",
       " '2111',\n",
       " '2112',\n",
       " '2120',\n",
       " '2121',\n",
       " '2122',\n",
       " '2200',\n",
       " '2201',\n",
       " '2202',\n",
       " '2210',\n",
       " '2211',\n",
       " '2212',\n",
       " '2220',\n",
       " '2221',\n",
       " '2222']"
      ]
     },
     "execution_count": 17,
     "metadata": {},
     "output_type": "execute_result"
    }
   ],
   "source": [
    "base_k_strings(4,3)"
   ]
  },
  {
   "cell_type": "code",
   "execution_count": null,
   "metadata": {},
   "outputs": [],
   "source": []
  }
 ],
 "metadata": {
  "kernelspec": {
   "display_name": "Python 3",
   "language": "python",
   "name": "python3"
  },
  "language_info": {
   "codemirror_mode": {
    "name": "ipython",
    "version": 3
   },
   "file_extension": ".py",
   "mimetype": "text/x-python",
   "name": "python",
   "nbconvert_exporter": "python",
   "pygments_lexer": "ipython3",
   "version": "3.7.6"
  }
 },
 "nbformat": 4,
 "nbformat_minor": 4
}
