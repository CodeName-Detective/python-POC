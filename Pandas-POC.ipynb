{
 "cells": [
  {
   "cell_type": "code",
   "execution_count": 1,
   "metadata": {},
   "outputs": [],
   "source": [
    "import pandas as pd"
   ]
  },
  {
   "cell_type": "markdown",
   "metadata": {},
   "source": [
    "# Pandas - DataStrucutures\n",
    "- __Series__ - 1 DImension homogeneous array, sizeimmutable.\n",
    "- __Data Frame__ - 2 Dimension size-mutable tabular structure with potentially heterogeneously typed columns.\n",
    "- __Panel__ - 3 Dimension size-mutable array.\n",
    "- DataFrame is a container of Series, Panel is a container of DataFrame.\n",
    "- All Pandas data structures are value mutable (can be changed) and except Series all are size mutable. Series is size immutable."
   ]
  },
  {
   "cell_type": "markdown",
   "metadata": {},
   "source": [
    "# Pandas - Series\n",
    "\n",
    "### pandas.Series( data, index, dtype, copy)\n",
    "- __data__ - takes various forms like ndarray, list, dictionary,constants\n",
    "- __index__ - Index values must be unique and hashable, same length as data. Default np.arrange(n) if no index is passed.\n",
    "- __dtype__ - is for data type. If None, data type will be inferred\n",
    "- __copy__ - Copy data. Default False"
   ]
  },
  {
   "cell_type": "code",
   "execution_count": 3,
   "metadata": {},
   "outputs": [
    {
     "name": "stdout",
     "output_type": "stream",
     "text": [
      "Series([], dtype: float64)\n"
     ]
    }
   ],
   "source": [
    "#Creating Empty Series\n",
    "s = pd.Series()\n",
    "print(s)"
   ]
  },
  {
   "cell_type": "markdown",
   "metadata": {},
   "source": [
    "### Create a Series from ndarray\n",
    "- If data is an ndarray, then index passed must be of the same length. If no index is passed, then by default index will be __range(n)__ where __n__ is array length, i.e., __[0,1,2,3…. range(len(array))-1]__."
   ]
  },
  {
   "cell_type": "code",
   "execution_count": 4,
   "metadata": {},
   "outputs": [
    {
     "name": "stdout",
     "output_type": "stream",
     "text": [
      "0    0\n",
      "1    1\n",
      "2    2\n",
      "3    3\n",
      "4    4\n",
      "5    5\n",
      "6    6\n",
      "7    7\n",
      "8    8\n",
      "dtype: int32\n"
     ]
    }
   ],
   "source": [
    "import numpy as np\n",
    "array = np.arange(9)\n",
    "\n",
    "s = pd.Series(array)\n",
    "print(s)"
   ]
  },
  {
   "cell_type": "code",
   "execution_count": 7,
   "metadata": {},
   "outputs": [
    {
     "name": "stdout",
     "output_type": "stream",
     "text": [
      "10    0\n",
      "11    1\n",
      "12    2\n",
      "13    3\n",
      "14    4\n",
      "15    5\n",
      "16    6\n",
      "17    7\n",
      "18    8\n",
      "dtype: int32\n"
     ]
    }
   ],
   "source": [
    "# Lets Specify Index\n",
    "import numpy as np\n",
    "array = np.arange(9)\n",
    "\n",
    "s = pd.Series(array,np.arange(10,19))\n",
    "print(s)\n",
    "\n",
    "# We passed the index values here. Now we can see the customized indexed values in the output."
   ]
  },
  {
   "cell_type": "markdown",
   "metadata": {},
   "source": [
    "### Create a Series from dict\n",
    "- A __dict__ can be passed as input and if no index is specified, then the dictionary keys are taken in a sorted order to construct index. If __index__ is passed, the values in data corresponding to the labels in the index will be pulled out."
   ]
  },
  {
   "cell_type": "code",
   "execution_count": 9,
   "metadata": {},
   "outputs": [
    {
     "name": "stdout",
     "output_type": "stream",
     "text": [
      "a    0.0\n",
      "b    1.0\n",
      "c    2.0\n",
      "dtype: float64\n"
     ]
    }
   ],
   "source": [
    "data = {'a' : 0., 'b' : 1., 'c' : 2.}\n",
    "\n",
    "s = pd.Series(data)\n",
    "\n",
    "print(s)\n",
    "#Observe − Dictionary keys are used to construct index."
   ]
  },
  {
   "cell_type": "code",
   "execution_count": 11,
   "metadata": {},
   "outputs": [
    {
     "name": "stdout",
     "output_type": "stream",
     "text": [
      "b    1.0\n",
      "c    2.0\n",
      "d    NaN\n",
      "a    0.0\n",
      "dtype: float64\n"
     ]
    }
   ],
   "source": [
    "data = {'a' : 0., 'b' : 1., 'c' : 2.}\n",
    "s = pd.Series(data,index=['b','c','d','a'])\n",
    "print(s)\n",
    "\n",
    "#Observe − Index order is persisted and the missing element is filled with NaN (Not a Number)."
   ]
  },
  {
   "cell_type": "markdown",
   "metadata": {},
   "source": [
    "### Create a Series from Scalar\n",
    "- If data is a scalar value, an index must be provided. The value will be repeated to match the length of __index__"
   ]
  },
  {
   "cell_type": "code",
   "execution_count": 12,
   "metadata": {},
   "outputs": [
    {
     "name": "stdout",
     "output_type": "stream",
     "text": [
      "0    5\n",
      "1    5\n",
      "2    5\n",
      "3    5\n",
      "dtype: int64\n"
     ]
    }
   ],
   "source": [
    "s = pd.Series(5, index=[0, 1, 2, 3])\n",
    "print(s)"
   ]
  },
  {
   "cell_type": "markdown",
   "metadata": {},
   "source": [
    "### Accessing Data from Series with Position, Slicing, Index(Label)"
   ]
  },
  {
   "cell_type": "code",
   "execution_count": 17,
   "metadata": {},
   "outputs": [
    {
     "name": "stdout",
     "output_type": "stream",
     "text": [
      "a    1\n",
      "b    2\n",
      "c    3\n",
      "d    4\n",
      "e    5\n",
      "dtype: int64\n",
      "\n",
      "\n",
      "4\n",
      "\n",
      "\n",
      "2\n",
      "\n",
      "\n",
      "d    4\n",
      "e    5\n",
      "dtype: int64\n",
      "\n",
      "\n",
      "a    1\n",
      "b    2\n",
      "c    3\n",
      "dtype: int64\n",
      "\n",
      "\n",
      "c    3\n",
      "d    4\n",
      "e    5\n",
      "dtype: int64\n"
     ]
    }
   ],
   "source": [
    "s = pd.Series([1,2,3,4,5],index = ['a','b','c','d','e'])\n",
    "print(s)\n",
    "print('\\n')\n",
    "\n",
    "print(s[3]) # Accessinge Data with Position\n",
    "print('\\n')\n",
    "\n",
    "print(s['b']) # Accessing Data with Label\n",
    "print('\\n')\n",
    "\n",
    "print(s[3:]) # Access from the 3rd index\n",
    "print('\\n')\n",
    "\n",
    "print(s[:3]) # Access up to last 3 indexes\n",
    "print('\\n')\n",
    "\n",
    "print(s[-3:])# Access last 3 indexes"
   ]
  },
  {
   "cell_type": "markdown",
   "metadata": {},
   "source": [
    "# Pandas - DataFrame\n",
    "\n",
    "### pandas.DataFrame( data, index, columns, dtype, copy)\n",
    "- __data__ - takes various forms like __ndarray__, __series__, __map__, __lists__, __dict__, __constants__ and also another __DataFrame__\n",
    "- __index__ - For the row labels, the Index to be used for the resulting frame is Optional Default _np.arrange(n)_ if no index is passed.\n",
    "- __columns__ - For column labels, the optional default syntax is - _np.arrange(n)_. This is only true if no index is passed.\n",
    "- __dtype__ - Data type of each column.\n",
    "- __copy__ - This command (or whatever it is) is used for copying of data, if the default is False."
   ]
  },
  {
   "cell_type": "code",
   "execution_count": 18,
   "metadata": {},
   "outputs": [
    {
     "name": "stdout",
     "output_type": "stream",
     "text": [
      "Empty DataFrame\n",
      "Columns: []\n",
      "Index: []\n"
     ]
    }
   ],
   "source": [
    "# Creating Empty DataFrame\n",
    "\n",
    "df = pd.DataFrame()\n",
    "\n",
    "print(df)"
   ]
  },
  {
   "cell_type": "markdown",
   "metadata": {},
   "source": [
    "### Creating a DataFrame from __Lists__\n",
    "- The DataFrame can be created using a single list or a list of lists."
   ]
  },
  {
   "cell_type": "code",
   "execution_count": 19,
   "metadata": {},
   "outputs": [
    {
     "name": "stdout",
     "output_type": "stream",
     "text": [
      "    0\n",
      "0  10\n",
      "1  11\n",
      "2  12\n",
      "3  13\n",
      "4  14\n"
     ]
    }
   ],
   "source": [
    "data = [10,11,12,13,14]\n",
    "\n",
    "df = pd.DataFrame(data)\n",
    "\n",
    "print(df)"
   ]
  },
  {
   "cell_type": "code",
   "execution_count": 24,
   "metadata": {},
   "outputs": [
    {
     "name": "stdout",
     "output_type": "stream",
     "text": [
      "        0   1\n",
      "0    Alex  10\n",
      "1     Bob  12\n",
      "2  Clarke  13\n",
      "\n",
      "\n",
      "     Name   Age\n",
      "0    Alex  10.0\n",
      "1     Bob  12.0\n",
      "2  Clarke  13.0\n"
     ]
    }
   ],
   "source": [
    "data = [['Alex',10],['Bob',12],['Clarke',13]]\n",
    "\n",
    "df = pd.DataFrame(data)\n",
    "print(df)\n",
    "print('\\n')\n",
    "\n",
    "df_new = pd.DataFrame(data, columns=['Name','Age'], dtype=float) #Creating column names\n",
    "print(df_new)"
   ]
  },
  {
   "cell_type": "markdown",
   "metadata": {},
   "source": [
    "### Create a DataFrame from Dict of ndarrays / Lists\n",
    "- All the ndarrays must be of same length. If index is passed, then the length of the index should equal to the length of the arrays.<br>If no index is passed, then by default, index will be range(n), where n is the array length."
   ]
  },
  {
   "cell_type": "code",
   "execution_count": 27,
   "metadata": {},
   "outputs": [
    {
     "name": "stdout",
     "output_type": "stream",
     "text": [
      "    Name  Age\n",
      "0    Tom   28\n",
      "1   Jack   34\n",
      "2  Steve   29\n",
      "3  Ricky   42\n"
     ]
    }
   ],
   "source": [
    "Name_List = ['Tom', 'Jack', 'Steve', 'Ricky']\n",
    "Age_List = [28,34,29,42]\n",
    "data_dict = {'Name': Name_List, 'Age':Age_List}\n",
    "\n",
    "df = pd.DataFrame(data_dict)\n",
    "print(df)\n",
    "\n",
    "# The dictionary keys are by default taken as column names."
   ]
  },
  {
   "cell_type": "code",
   "execution_count": 26,
   "metadata": {},
   "outputs": [
    {
     "name": "stdout",
     "output_type": "stream",
     "text": [
      "        Name  Age\n",
      "rank1    Tom   28\n",
      "rank2   Jack   34\n",
      "rank3  Steve   29\n",
      "rank4  Ricky   42\n"
     ]
    }
   ],
   "source": [
    "Name_List = ['Tom', 'Jack', 'Steve', 'Ricky']\n",
    "Age_List = [28,34,29,42]\n",
    "data_dict = {'Name': Name_List, 'Age':Age_List}\n",
    "\n",
    "df = pd.DataFrame(data_dict, index=['rank1','rank2','rank3','rank4'])\n",
    "print(df)"
   ]
  },
  {
   "cell_type": "markdown",
   "metadata": {},
   "source": [
    "### Create a DataFrame from List of Dicts\n",
    "- List of Dictionaries can be passed as input data to create a DataFrame. The __dictionary keys__ are by default taken as __column names__."
   ]
  },
  {
   "cell_type": "code",
   "execution_count": 28,
   "metadata": {},
   "outputs": [
    {
     "name": "stdout",
     "output_type": "stream",
     "text": [
      "   a   b     c\n",
      "0  1   2   NaN\n",
      "1  5  10  20.0\n"
     ]
    }
   ],
   "source": [
    "data = [{'a': 1, 'b': 2},{'a': 5, 'b': 10, 'c': 20}]\n",
    "df = pd.DataFrame(data)\n",
    "\n",
    "print(df)"
   ]
  },
  {
   "cell_type": "code",
   "execution_count": 30,
   "metadata": {},
   "outputs": [
    {
     "name": "stdout",
     "output_type": "stream",
     "text": [
      "        a   b\n",
      "first   1   2\n",
      "second  5  10\n",
      "\n",
      "\n",
      "        a  b1\n",
      "first   1 NaN\n",
      "second  5 NaN\n"
     ]
    }
   ],
   "source": [
    "data = [{'a': 1, 'b': 2},{'a': 5, 'b': 10, 'c': 20}]\n",
    "\n",
    "#With two column indices, values same as dictionary keys\n",
    "df1 = pd.DataFrame(data, index=['first', 'second'], columns=['a', 'b'])\n",
    "\n",
    "#With two column indices with one index with other name\n",
    "df2 = pd.DataFrame(data, index=['first', 'second'], columns=['a', 'b1'])\n",
    "\n",
    "print(df1)\n",
    "print('\\n')\n",
    "print(df2)"
   ]
  },
  {
   "cell_type": "markdown",
   "metadata": {},
   "source": [
    "### Create a DataFrame from Dict of Series\n",
    "- Dictionary of Series can be passed to form a DataFrame. The resultant index is the union of all the series indexes passed."
   ]
  },
  {
   "cell_type": "code",
   "execution_count": 33,
   "metadata": {},
   "outputs": [
    {
     "name": "stdout",
     "output_type": "stream",
     "text": [
      "     Name  Age\n",
      "a    Shri   10\n",
      "b  Harsha   11\n",
      "c     NaN   12\n"
     ]
    }
   ],
   "source": [
    "data = {'Name': pd.Series(['Shri','Harsha'],index=['a', 'b']), 'Age': pd.Series([10,11,12],index=['a', 'b', 'c'])}\n",
    "\n",
    "df = pd.DataFrame(data)\n",
    "print(df)"
   ]
  },
  {
   "cell_type": "markdown",
   "metadata": {},
   "source": [
    "### Column Selection"
   ]
  },
  {
   "cell_type": "code",
   "execution_count": 35,
   "metadata": {},
   "outputs": [
    {
     "name": "stdout",
     "output_type": "stream",
     "text": [
      "   one  two\n",
      "a  1.0    1\n",
      "b  2.0    2\n",
      "c  3.0    3\n",
      "d  NaN    4\n",
      "\n",
      "\n",
      "a    1\n",
      "b    2\n",
      "c    3\n",
      "d    4\n",
      "Name: two, dtype: int64\n"
     ]
    }
   ],
   "source": [
    "d = {'one' : pd.Series([1, 2, 3], index=['a', 'b', 'c']),\n",
    "   'two' : pd.Series([1, 2, 3, 4], index=['a', 'b', 'c', 'd'])}\n",
    "\n",
    "df = pd.DataFrame(d)\n",
    "\n",
    "print(df)\n",
    "print('\\n')\n",
    "\n",
    "print(df['two'])"
   ]
  },
  {
   "cell_type": "markdown",
   "metadata": {},
   "source": [
    "### Column Addition"
   ]
  },
  {
   "cell_type": "code",
   "execution_count": 38,
   "metadata": {},
   "outputs": [
    {
     "name": "stdout",
     "output_type": "stream",
     "text": [
      "   one  two\n",
      "a  1.0    1\n",
      "b  2.0    2\n",
      "c  3.0    3\n",
      "d  NaN    4\n",
      "\n",
      "\n",
      "   one  two  three\n",
      "a  1.0    1   10.0\n",
      "b  2.0    2   20.0\n",
      "c  3.0    3   30.0\n",
      "d  NaN    4    NaN\n",
      "\n",
      "\n",
      "   one  two  three  four\n",
      "a  1.0    1   10.0  11.0\n",
      "b  2.0    2   20.0  22.0\n",
      "c  3.0    3   30.0  33.0\n",
      "d  NaN    4    NaN   NaN\n"
     ]
    }
   ],
   "source": [
    "d = {'one' : pd.Series([1, 2, 3], index=['a', 'b', 'c']),\n",
    "   'two' : pd.Series([1, 2, 3, 4], index=['a', 'b', 'c', 'd'])}\n",
    "\n",
    "df = pd.DataFrame(d)\n",
    "print(df)\n",
    "print('\\n')\n",
    "\n",
    "df['three'] = pd.Series([10,20,30], index=['a', 'b', 'c'])\n",
    "\n",
    "print(df)\n",
    "print('\\n')\n",
    "\n",
    "df['four'] = df['one']+df['three']\n",
    "print(df)"
   ]
  },
  {
   "cell_type": "markdown",
   "metadata": {},
   "source": [
    "### Column Deletion"
   ]
  },
  {
   "cell_type": "code",
   "execution_count": 41,
   "metadata": {},
   "outputs": [
    {
     "name": "stdout",
     "output_type": "stream",
     "text": [
      "   one  two  three\n",
      "a  1.0    1   10.0\n",
      "b  2.0    2   20.0\n",
      "c  3.0    3   30.0\n",
      "d  NaN    4    NaN\n",
      "\n",
      "\n",
      "   one  three\n",
      "a  1.0   10.0\n",
      "b  2.0   20.0\n",
      "c  3.0   30.0\n",
      "d  NaN    NaN\n",
      "\n",
      "\n",
      "   one\n",
      "a  1.0\n",
      "b  2.0\n",
      "c  3.0\n",
      "d  NaN\n",
      "\n",
      "\n"
     ]
    }
   ],
   "source": [
    "d = {'one' : pd.Series([1, 2, 3], index=['a', 'b', 'c']), \n",
    "   'two' : pd.Series([1, 2, 3, 4], index=['a', 'b', 'c', 'd']), \n",
    "   'three' : pd.Series([10,20,30], index=['a','b','c'])}\n",
    "\n",
    "df = pd.DataFrame(d)\n",
    "print(df)\n",
    "print('\\n')\n",
    "\n",
    "#Using del function\n",
    "del(df['two'])\n",
    "print(df)\n",
    "print('\\n')\n",
    "\n",
    "# Using Pandas pop dataframe function\n",
    "\n",
    "df.pop('three')\n",
    "print(df)\n",
    "print('\\n')"
   ]
  },
  {
   "cell_type": "markdown",
   "metadata": {},
   "source": [
    "### Row Selection"
   ]
  },
  {
   "cell_type": "code",
   "execution_count": 6,
   "metadata": {},
   "outputs": [
    {
     "name": "stdout",
     "output_type": "stream",
     "text": [
      "   one  two\n",
      "a  1.0    1\n",
      "b  2.0    2\n",
      "c  3.0    3\n",
      "d  NaN    4\n",
      "\n",
      "\n",
      "one    3.0\n",
      "two    3.0\n",
      "Name: c, dtype: float64\n"
     ]
    }
   ],
   "source": [
    "# Selection by Label\n",
    "data_dict = {'one' : pd.Series([1, 2, 3], index=['a', 'b', 'c']), \n",
    "   'two' : pd.Series([1, 2, 3, 4], index=['a', 'b', 'c', 'd'])}\n",
    "\n",
    "df = pd.DataFrame(data_dict)\n",
    "print(df)\n",
    "print('\\n')\n",
    "\n",
    "print(df.loc['c'])"
   ]
  },
  {
   "cell_type": "code",
   "execution_count": 7,
   "metadata": {},
   "outputs": [
    {
     "name": "stdout",
     "output_type": "stream",
     "text": [
      "   one  two\n",
      "a  1.0    1\n",
      "b  2.0    2\n",
      "c  3.0    3\n",
      "d  NaN    4\n",
      "\n",
      "\n",
      "one    NaN\n",
      "two    4.0\n",
      "Name: d, dtype: float64\n"
     ]
    }
   ],
   "source": [
    "data_dict = {'one' : pd.Series([1, 2, 3], index=['a', 'b', 'c']),\n",
    "   'two' : pd.Series([1, 2, 3, 4], index=['a', 'b', 'c', 'd'])}\n",
    "\n",
    "df = pd.DataFrame(data_dict)\n",
    "print(df)\n",
    "print('\\n')\n",
    "\n",
    "print(df.iloc[3])"
   ]
  },
  {
   "cell_type": "markdown",
   "metadata": {},
   "source": [
    "### Slice Rows\n",
    "- Slicing is possible only for rows, not for coulmns"
   ]
  },
  {
   "cell_type": "code",
   "execution_count": 8,
   "metadata": {},
   "outputs": [
    {
     "name": "stdout",
     "output_type": "stream",
     "text": [
      "   one  two\n",
      "a  1.0    1\n",
      "b  2.0    2\n",
      "c  3.0    3\n",
      "d  NaN    4\n",
      "\n",
      "\n",
      "   one  two\n",
      "c  3.0    3\n"
     ]
    }
   ],
   "source": [
    "d = {'one' : pd.Series([1, 2, 3], index=['a', 'b', 'c']), \n",
    "   'two' : pd.Series([1, 2, 3, 4], index=['a', 'b', 'c', 'd'])}\n",
    "\n",
    "df = pd.DataFrame(d)\n",
    "print(df)\n",
    "print('\\n')\n",
    "\n",
    "print(df[2:3]) "
   ]
  },
  {
   "cell_type": "markdown",
   "metadata": {},
   "source": [
    "### Addition of Rows\n",
    "- Add new rows to a DataFrame using the __append__ function. This function will __append__ the rows at the end."
   ]
  },
  {
   "cell_type": "code",
   "execution_count": 11,
   "metadata": {},
   "outputs": [
    {
     "name": "stdout",
     "output_type": "stream",
     "text": [
      "   a  b\n",
      "0  1  2\n",
      "1  3  4\n",
      "\n",
      "\n",
      "   a  b\n",
      "0  1  2\n",
      "1  3  4\n",
      "0  5  6\n",
      "1  7  8\n"
     ]
    }
   ],
   "source": [
    "df = pd.DataFrame([[1, 2], [3, 4]], columns = ['a','b'])\n",
    "df2 = pd.DataFrame([[5, 6], [7, 8]], columns = ['a','b'])\n",
    "print(df)\n",
    "print('\\n')\n",
    "df = df.append(df2) # Append the new dataframe\n",
    "print(df)"
   ]
  },
  {
   "cell_type": "markdown",
   "metadata": {},
   "source": [
    "### Deletion of Rows\n",
    "- Use index label to delete or drop rows from a DataFrame. If label is duplicated, then multiple rows will be dropped."
   ]
  },
  {
   "cell_type": "code",
   "execution_count": 2,
   "metadata": {},
   "outputs": [
    {
     "name": "stdout",
     "output_type": "stream",
     "text": [
      "   a  b\n",
      "0  1  2\n",
      "1  3  4\n",
      "0  5  6\n",
      "1  7  8\n",
      "\n",
      "\n",
      "   a  b\n",
      "1  3  4\n",
      "1  7  8\n"
     ]
    }
   ],
   "source": [
    "df = pd.DataFrame([[1, 2], [3, 4]], columns = ['a','b'])\n",
    "df2 = pd.DataFrame([[5, 6], [7, 8]], columns = ['a','b'])\n",
    "\n",
    "df = df.append(df2)\n",
    "print(df)\n",
    "print('\\n')\n",
    "\n",
    "df =  df.drop(0)\n",
    "print(df)"
   ]
  },
  {
   "cell_type": "markdown",
   "metadata": {},
   "source": [
    "# Panel\n",
    "The names for the 3 axes are intended to give some semantic meaning to describing operations involving panel data. They are:\n",
    "- __items__ − axis 0, each item corresponds to a DataFrame contained inside.\n",
    "- __major_axis__ − axis 1, it is the index (rows) of each of the DataFrames.\n",
    "- __minor_axis__ − axis 2, it is the columns of each of the DataFrames."
   ]
  },
  {
   "cell_type": "markdown",
   "metadata": {},
   "source": [
    "### Creating the Panel\n",
    "#### pandas.Panel(data, items, major_axis, minor_axis, dtype, copy)\n",
    "- __data__ ----> Data takes various forms like ndarray, series, map, lists, dict, constants and also another DataFrame\n",
    "- __items__ ----> axis=0\n",
    "- __major_axis__ ----> axis=1\n",
    "- __minor_axis__ ----> axis=2\n",
    "- __dtype__ ---->\tData type of each column\n",
    "- __copy__ ----> Copy data. Default, false"
   ]
  },
  {
   "cell_type": "markdown",
   "metadata": {},
   "source": [
    "# Basic Functionality"
   ]
  },
  {
   "cell_type": "markdown",
   "metadata": {},
   "source": [
    "### Series Basic Functionality"
   ]
  },
  {
   "cell_type": "code",
   "execution_count": 5,
   "metadata": {},
   "outputs": [],
   "source": [
    "import numpy as np\n",
    "s = pd.Series(np.random.randn(4))"
   ]
  },
  {
   "cell_type": "code",
   "execution_count": 7,
   "metadata": {},
   "outputs": [
    {
     "name": "stdout",
     "output_type": "stream",
     "text": [
      "[RangeIndex(start=0, stop=4, step=1)]\n"
     ]
    }
   ],
   "source": [
    "print(s.axes) #Returns a list of the row axis labels"
   ]
  },
  {
   "cell_type": "code",
   "execution_count": 9,
   "metadata": {},
   "outputs": [
    {
     "name": "stdout",
     "output_type": "stream",
     "text": [
      "False\n"
     ]
    }
   ],
   "source": [
    "print(s.empty) #Returns the Boolean value saying whether the Object is empty or not"
   ]
  },
  {
   "cell_type": "code",
   "execution_count": 11,
   "metadata": {},
   "outputs": [
    {
     "name": "stdout",
     "output_type": "stream",
     "text": [
      "1\n"
     ]
    }
   ],
   "source": [
    "print(s.ndim) #Returns the number of dimensions of the object. By definition, a Series is a 1D data structure, so it returns 1"
   ]
  },
  {
   "cell_type": "code",
   "execution_count": 15,
   "metadata": {},
   "outputs": [
    {
     "name": "stdout",
     "output_type": "stream",
     "text": [
      "4\n",
      "\n",
      "\n",
      "4\n"
     ]
    }
   ],
   "source": [
    "print(s.size) #Returns the size(length) of the series\n",
    "print('\\n')\n",
    "print(len(s))"
   ]
  },
  {
   "cell_type": "code",
   "execution_count": 18,
   "metadata": {},
   "outputs": [
    {
     "name": "stdout",
     "output_type": "stream",
     "text": [
      "[-0.31488133  0.10406499  1.28126161  0.16232898]\n"
     ]
    }
   ],
   "source": [
    "print(s.values) #Returns the actual data in the series as an array"
   ]
  },
  {
   "cell_type": "code",
   "execution_count": 20,
   "metadata": {},
   "outputs": [
    {
     "name": "stdout",
     "output_type": "stream",
     "text": [
      "0   -0.314881\n",
      "1    0.104065\n",
      "dtype: float64\n"
     ]
    }
   ],
   "source": [
    "print(s.head(2)) #head() returns the first n rows(observe the index values). The default number of elements to display is five, but you may pass a custom number."
   ]
  },
  {
   "cell_type": "code",
   "execution_count": 22,
   "metadata": {},
   "outputs": [
    {
     "name": "stdout",
     "output_type": "stream",
     "text": [
      "2    1.281262\n",
      "3    0.162329\n",
      "dtype: float64\n"
     ]
    }
   ],
   "source": [
    "print(s.tail(2)) #tail() returns the last n rows(observe the index values). The default number of elements to display is five, but you may pass a custom number."
   ]
  },
  {
   "cell_type": "markdown",
   "metadata": {},
   "source": [
    "### DataFrame Basic Functionality"
   ]
  },
  {
   "cell_type": "code",
   "execution_count": 28,
   "metadata": {},
   "outputs": [
    {
     "name": "stdout",
     "output_type": "stream",
     "text": [
      "    Name  Age  Rating\n",
      "0    Tom   25    4.23\n",
      "1  James   26    3.24\n",
      "2  Ricky   25    3.98\n",
      "3    Vin   23    2.56\n",
      "4  Steve   30    3.20\n",
      "5  Smith   29    4.60\n",
      "6   Jack   23    3.80\n"
     ]
    }
   ],
   "source": [
    "data = {'Name':pd.Series(['Tom','James','Ricky','Vin','Steve','Smith','Jack']),\n",
    "   'Age':pd.Series([25,26,25,23,30,29,23]),\n",
    "   'Rating':pd.Series([4.23,3.24,3.98,2.56,3.20,4.6,3.8])}\n",
    "df = pd.DataFrame(data)\n",
    "print(df)"
   ]
  },
  {
   "cell_type": "code",
   "execution_count": 29,
   "metadata": {},
   "outputs": [
    {
     "name": "stdout",
     "output_type": "stream",
     "text": [
      "           0      1      2     3      4      5     6\n",
      "Name     Tom  James  Ricky   Vin  Steve  Smith  Jack\n",
      "Age       25     26     25    23     30     29    23\n",
      "Rating  4.23   3.24   3.98  2.56    3.2    4.6   3.8\n"
     ]
    }
   ],
   "source": [
    "print(df.T) #Returns the transpose of the DataFrame. The rows and columns will interchange."
   ]
  },
  {
   "cell_type": "code",
   "execution_count": 31,
   "metadata": {},
   "outputs": [
    {
     "name": "stdout",
     "output_type": "stream",
     "text": [
      "[RangeIndex(start=0, stop=7, step=1), Index(['Name', 'Age', 'Rating'], dtype='object')]\n"
     ]
    }
   ],
   "source": [
    "print(df.axes) #Returns the list of row axis labels and column axis labels."
   ]
  },
  {
   "cell_type": "code",
   "execution_count": 38,
   "metadata": {},
   "outputs": [
    {
     "name": "stdout",
     "output_type": "stream",
     "text": [
      "Name       object\n",
      "Age         int64\n",
      "Rating    float64\n",
      "dtype: object\n"
     ]
    }
   ],
   "source": [
    "print(df.dtypes) #Returns the data type of each column."
   ]
  },
  {
   "cell_type": "code",
   "execution_count": 40,
   "metadata": {},
   "outputs": [
    {
     "name": "stdout",
     "output_type": "stream",
     "text": [
      "False\n"
     ]
    }
   ],
   "source": [
    "print(df.empty) #Returns the Boolean value saying whether the Object is empty or not; True indicates that the object is empty."
   ]
  },
  {
   "cell_type": "code",
   "execution_count": 42,
   "metadata": {},
   "outputs": [
    {
     "name": "stdout",
     "output_type": "stream",
     "text": [
      "2\n"
     ]
    }
   ],
   "source": [
    "print(df.ndim) # Returns the number of dimensions of the object. By definition, DataFrame is a 2D object."
   ]
  },
  {
   "cell_type": "code",
   "execution_count": 44,
   "metadata": {},
   "outputs": [
    {
     "name": "stdout",
     "output_type": "stream",
     "text": [
      "(7, 3)\n"
     ]
    }
   ],
   "source": [
    "print(df.shape) #Returns a tuple representing the dimensionality of the DataFrame. Tuple (a,b), where a represents the number of rows and b represents the number of columns."
   ]
  },
  {
   "cell_type": "code",
   "execution_count": 46,
   "metadata": {},
   "outputs": [
    {
     "name": "stdout",
     "output_type": "stream",
     "text": [
      "21\n"
     ]
    }
   ],
   "source": [
    "print(df.size)#Returns the number of elements in the DataFrame."
   ]
  },
  {
   "cell_type": "code",
   "execution_count": 48,
   "metadata": {},
   "outputs": [
    {
     "name": "stdout",
     "output_type": "stream",
     "text": [
      "[['Tom' 25 4.23]\n",
      " ['James' 26 3.24]\n",
      " ['Ricky' 25 3.98]\n",
      " ['Vin' 23 2.56]\n",
      " ['Steve' 30 3.2]\n",
      " ['Smith' 29 4.6]\n",
      " ['Jack' 23 3.8]]\n"
     ]
    }
   ],
   "source": [
    "print(df.values) #Returns the actual data in the DataFrame as an NDarray"
   ]
  },
  {
   "cell_type": "code",
   "execution_count": 49,
   "metadata": {},
   "outputs": [
    {
     "name": "stdout",
     "output_type": "stream",
     "text": [
      "    Name  Age  Rating\n",
      "0    Tom   25    4.23\n",
      "1  James   26    3.24\n",
      "2  Ricky   25    3.98\n",
      "3    Vin   23    2.56\n",
      "4  Steve   30    3.20\n"
     ]
    }
   ],
   "source": [
    "print(df.head()) #To view a small sample of a DataFrame object, use the head() and tail() methods. head() returns the first n rows (observe the index values). The default number of elements to display is 5, but you may pass a custom number."
   ]
  },
  {
   "cell_type": "code",
   "execution_count": 51,
   "metadata": {},
   "outputs": [
    {
     "name": "stdout",
     "output_type": "stream",
     "text": [
      "    Name  Age  Rating\n",
      "2  Ricky   25    3.98\n",
      "3    Vin   23    2.56\n",
      "4  Steve   30    3.20\n",
      "5  Smith   29    4.60\n",
      "6   Jack   23    3.80\n"
     ]
    }
   ],
   "source": [
    "print(df.tail()) #tail() returns the last n rows (observe the index values). The default number of elements to display is 5, but you may pass a custom number."
   ]
  },
  {
   "cell_type": "markdown",
   "metadata": {},
   "source": [
    "# Descriptive Statistics"
   ]
  },
  {
   "cell_type": "code",
   "execution_count": 53,
   "metadata": {},
   "outputs": [
    {
     "name": "stdout",
     "output_type": "stream",
     "text": [
      "    Name  Age  Rating\n",
      "0    Tom   25    4.23\n",
      "1  James   26    3.24\n",
      "2  Ricky   25    3.98\n",
      "3    Vin   23    2.56\n",
      "4  Steve   30    3.20\n",
      "5  Smith   29    4.60\n",
      "6   Jack   23    3.80\n"
     ]
    }
   ],
   "source": [
    "data = {'Name':pd.Series(['Tom','James','Ricky','Vin','Steve','Smith','Jack']),\n",
    "   'Age':pd.Series([25,26,25,23,30,29,23]),\n",
    "   'Rating':pd.Series([4.23,3.24,3.98,2.56,3.20,4.6,3.8])}\n",
    "df = pd.DataFrame(data)\n",
    "print(df)"
   ]
  },
  {
   "cell_type": "code",
   "execution_count": 56,
   "metadata": {},
   "outputs": [
    {
     "name": "stdout",
     "output_type": "stream",
     "text": [
      "Name      TomJamesRickyVinSteveSmithJack\n",
      "Age                                  181\n",
      "Rating                             25.61\n",
      "dtype: object\n",
      "\n",
      "\n",
      "0    29.23\n",
      "1    29.24\n",
      "2    28.98\n",
      "3    25.56\n",
      "4    33.20\n",
      "5    33.60\n",
      "6    26.80\n",
      "dtype: float64\n"
     ]
    }
   ],
   "source": [
    "print(df.sum()) #Returns the sum of the values for the requested axis. By default, axis is index (axis=0).\n",
    "#Each individual column is added individually (Strings are appended)\n",
    "print('\\n')\n",
    "print(df.sum(axis=1))"
   ]
  },
  {
   "cell_type": "code",
   "execution_count": 58,
   "metadata": {},
   "outputs": [
    {
     "name": "stdout",
     "output_type": "stream",
     "text": [
      "Age       25.857143\n",
      "Rating     3.658571\n",
      "dtype: float64\n"
     ]
    }
   ],
   "source": [
    "print(df.mean()) #Returns the average value"
   ]
  },
  {
   "cell_type": "code",
   "execution_count": 59,
   "metadata": {},
   "outputs": [
    {
     "name": "stdout",
     "output_type": "stream",
     "text": [
      "Age       2.734262\n",
      "Rating    0.698628\n",
      "dtype: float64\n"
     ]
    }
   ],
   "source": [
    "print(df.std())"
   ]
  },
  {
   "cell_type": "code",
   "execution_count": 60,
   "metadata": {},
   "outputs": [
    {
     "name": "stdout",
     "output_type": "stream",
     "text": [
      "Name      7\n",
      "Age       7\n",
      "Rating    7\n",
      "dtype: int64\n"
     ]
    }
   ],
   "source": [
    "print(df.count())"
   ]
  },
  {
   "cell_type": "code",
   "execution_count": 61,
   "metadata": {},
   "outputs": [
    {
     "name": "stdout",
     "output_type": "stream",
     "text": [
      "Age       25.0\n",
      "Rating     3.8\n",
      "dtype: float64\n"
     ]
    }
   ],
   "source": [
    "print(df.median())"
   ]
  },
  {
   "cell_type": "code",
   "execution_count": 63,
   "metadata": {},
   "outputs": [
    {
     "name": "stdout",
     "output_type": "stream",
     "text": [
      "    Name   Age  Rating\n",
      "0   Jack  23.0    2.56\n",
      "1  James  25.0    3.20\n",
      "2  Ricky   NaN    3.24\n",
      "3  Smith   NaN    3.80\n",
      "4  Steve   NaN    3.98\n",
      "5    Tom   NaN    4.23\n",
      "6    Vin   NaN    4.60\n"
     ]
    }
   ],
   "source": [
    "print(df.mode())"
   ]
  },
  {
   "cell_type": "code",
   "execution_count": 64,
   "metadata": {},
   "outputs": [
    {
     "name": "stdout",
     "output_type": "stream",
     "text": [
      "Name      Jack\n",
      "Age         23\n",
      "Rating    2.56\n",
      "dtype: object\n"
     ]
    }
   ],
   "source": [
    "print(df.min())"
   ]
  },
  {
   "cell_type": "code",
   "execution_count": 65,
   "metadata": {},
   "outputs": [
    {
     "name": "stdout",
     "output_type": "stream",
     "text": [
      "Name      Vin\n",
      "Age        30\n",
      "Rating    4.6\n",
      "dtype: object\n"
     ]
    }
   ],
   "source": [
    "print(df.max())"
   ]
  },
  {
   "cell_type": "code",
   "execution_count": 66,
   "metadata": {},
   "outputs": [
    {
     "ename": "TypeError",
     "evalue": "bad operand type for abs(): 'str'",
     "output_type": "error",
     "traceback": [
      "\u001b[1;31m---------------------------------------------------------------------------\u001b[0m",
      "\u001b[1;31mTypeError\u001b[0m                                 Traceback (most recent call last)",
      "\u001b[1;32m<ipython-input-66-cce39faaeaca>\u001b[0m in \u001b[0;36m<module>\u001b[1;34m\u001b[0m\n\u001b[1;32m----> 1\u001b[1;33m \u001b[0mprint\u001b[0m\u001b[1;33m(\u001b[0m\u001b[0mdf\u001b[0m\u001b[1;33m.\u001b[0m\u001b[0mabs\u001b[0m\u001b[1;33m(\u001b[0m\u001b[1;33m)\u001b[0m\u001b[1;33m)\u001b[0m\u001b[1;33m\u001b[0m\u001b[1;33m\u001b[0m\u001b[0m\n\u001b[0m",
      "\u001b[1;32mC:\\ProgramData\\Anaconda3\\lib\\site-packages\\pandas\\core\\generic.py\u001b[0m in \u001b[0;36mabs\u001b[1;34m(self)\u001b[0m\n\u001b[0;32m   9480\u001b[0m         \u001b[1;36m3\u001b[0m    \u001b[1;36m7\u001b[0m   \u001b[1;36m40\u001b[0m  \u001b[1;33m-\u001b[0m\u001b[1;36m50\u001b[0m\u001b[1;33m\u001b[0m\u001b[1;33m\u001b[0m\u001b[0m\n\u001b[0;32m   9481\u001b[0m         \"\"\"\n\u001b[1;32m-> 9482\u001b[1;33m         \u001b[1;32mreturn\u001b[0m \u001b[0mnp\u001b[0m\u001b[1;33m.\u001b[0m\u001b[0mabs\u001b[0m\u001b[1;33m(\u001b[0m\u001b[0mself\u001b[0m\u001b[1;33m)\u001b[0m\u001b[1;33m\u001b[0m\u001b[1;33m\u001b[0m\u001b[0m\n\u001b[0m\u001b[0;32m   9483\u001b[0m \u001b[1;33m\u001b[0m\u001b[0m\n\u001b[0;32m   9484\u001b[0m     \u001b[1;32mdef\u001b[0m \u001b[0mdescribe\u001b[0m\u001b[1;33m(\u001b[0m\u001b[0mself\u001b[0m\u001b[1;33m,\u001b[0m \u001b[0mpercentiles\u001b[0m\u001b[1;33m=\u001b[0m\u001b[1;32mNone\u001b[0m\u001b[1;33m,\u001b[0m \u001b[0minclude\u001b[0m\u001b[1;33m=\u001b[0m\u001b[1;32mNone\u001b[0m\u001b[1;33m,\u001b[0m \u001b[0mexclude\u001b[0m\u001b[1;33m=\u001b[0m\u001b[1;32mNone\u001b[0m\u001b[1;33m)\u001b[0m\u001b[1;33m:\u001b[0m\u001b[1;33m\u001b[0m\u001b[1;33m\u001b[0m\u001b[0m\n",
      "\u001b[1;31mTypeError\u001b[0m: bad operand type for abs(): 'str'"
     ]
    }
   ],
   "source": [
    "print(df.abs())"
   ]
  },
  {
   "cell_type": "code",
   "execution_count": 67,
   "metadata": {},
   "outputs": [
    {
     "name": "stdout",
     "output_type": "stream",
     "text": [
      "Age       7.478738e+09\n",
      "Rating    7.810877e+03\n",
      "dtype: float64\n"
     ]
    }
   ],
   "source": [
    "print(df.prod())"
   ]
  },
  {
   "cell_type": "code",
   "execution_count": 68,
   "metadata": {},
   "outputs": [
    {
     "name": "stdout",
     "output_type": "stream",
     "text": [
      "                             Name  Age Rating\n",
      "0                             Tom   25   4.23\n",
      "1                        TomJames   51   7.47\n",
      "2                   TomJamesRicky   76  11.45\n",
      "3                TomJamesRickyVin   99  14.01\n",
      "4           TomJamesRickyVinSteve  129  17.21\n",
      "5      TomJamesRickyVinSteveSmith  158  21.81\n",
      "6  TomJamesRickyVinSteveSmithJack  181  25.61\n"
     ]
    }
   ],
   "source": [
    "print(df.cumsum())#cumulative sum"
   ]
  },
  {
   "cell_type": "code",
   "execution_count": 69,
   "metadata": {},
   "outputs": [
    {
     "ename": "TypeError",
     "evalue": "can't multiply sequence by non-int of type 'str'",
     "output_type": "error",
     "traceback": [
      "\u001b[1;31m---------------------------------------------------------------------------\u001b[0m",
      "\u001b[1;31mTypeError\u001b[0m                                 Traceback (most recent call last)",
      "\u001b[1;32m<ipython-input-69-1a712d08d08c>\u001b[0m in \u001b[0;36m<module>\u001b[1;34m\u001b[0m\n\u001b[1;32m----> 1\u001b[1;33m \u001b[0mprint\u001b[0m\u001b[1;33m(\u001b[0m\u001b[0mdf\u001b[0m\u001b[1;33m.\u001b[0m\u001b[0mcumprod\u001b[0m\u001b[1;33m(\u001b[0m\u001b[1;33m)\u001b[0m\u001b[1;33m)\u001b[0m\u001b[1;33m\u001b[0m\u001b[1;33m\u001b[0m\u001b[0m\n\u001b[0m",
      "\u001b[1;32mC:\\ProgramData\\Anaconda3\\lib\\site-packages\\pandas\\core\\generic.py\u001b[0m in \u001b[0;36mcum_func\u001b[1;34m(self, axis, skipna, *args, **kwargs)\u001b[0m\n\u001b[0;32m  11002\u001b[0m             \u001b[0mmask\u001b[0m \u001b[1;33m=\u001b[0m \u001b[0misna\u001b[0m\u001b[1;33m(\u001b[0m\u001b[0mself\u001b[0m\u001b[1;33m)\u001b[0m\u001b[1;33m\u001b[0m\u001b[1;33m\u001b[0m\u001b[0m\n\u001b[0;32m  11003\u001b[0m             \u001b[0mnp\u001b[0m\u001b[1;33m.\u001b[0m\u001b[0mputmask\u001b[0m\u001b[1;33m(\u001b[0m\u001b[0my\u001b[0m\u001b[1;33m,\u001b[0m \u001b[0mmask\u001b[0m\u001b[1;33m,\u001b[0m \u001b[0mmask_a\u001b[0m\u001b[1;33m)\u001b[0m\u001b[1;33m\u001b[0m\u001b[1;33m\u001b[0m\u001b[0m\n\u001b[1;32m> 11004\u001b[1;33m             \u001b[0mresult\u001b[0m \u001b[1;33m=\u001b[0m \u001b[0maccum_func\u001b[0m\u001b[1;33m(\u001b[0m\u001b[0my\u001b[0m\u001b[1;33m,\u001b[0m \u001b[0maxis\u001b[0m\u001b[1;33m)\u001b[0m\u001b[1;33m\u001b[0m\u001b[1;33m\u001b[0m\u001b[0m\n\u001b[0m\u001b[0;32m  11005\u001b[0m             \u001b[0mnp\u001b[0m\u001b[1;33m.\u001b[0m\u001b[0mputmask\u001b[0m\u001b[1;33m(\u001b[0m\u001b[0mresult\u001b[0m\u001b[1;33m,\u001b[0m \u001b[0mmask\u001b[0m\u001b[1;33m,\u001b[0m \u001b[0mmask_b\u001b[0m\u001b[1;33m)\u001b[0m\u001b[1;33m\u001b[0m\u001b[1;33m\u001b[0m\u001b[0m\n\u001b[0;32m  11006\u001b[0m         \u001b[1;32melse\u001b[0m\u001b[1;33m:\u001b[0m\u001b[1;33m\u001b[0m\u001b[1;33m\u001b[0m\u001b[0m\n",
      "\u001b[1;32mC:\\ProgramData\\Anaconda3\\lib\\site-packages\\pandas\\core\\generic.py\u001b[0m in \u001b[0;36m<lambda>\u001b[1;34m(y, axis)\u001b[0m\n\u001b[0;32m  10055\u001b[0m         cls.cumprod = _make_cum_function(\n\u001b[0;32m  10056\u001b[0m             \u001b[0mcls\u001b[0m\u001b[1;33m,\u001b[0m \u001b[1;34m'cumprod'\u001b[0m\u001b[1;33m,\u001b[0m \u001b[0mname\u001b[0m\u001b[1;33m,\u001b[0m \u001b[0mname2\u001b[0m\u001b[1;33m,\u001b[0m \u001b[0maxis_descr\u001b[0m\u001b[1;33m,\u001b[0m \u001b[1;34m\"product\"\u001b[0m\u001b[1;33m,\u001b[0m\u001b[1;33m\u001b[0m\u001b[1;33m\u001b[0m\u001b[0m\n\u001b[1;32m> 10057\u001b[1;33m             \u001b[1;32mlambda\u001b[0m \u001b[0my\u001b[0m\u001b[1;33m,\u001b[0m \u001b[0maxis\u001b[0m\u001b[1;33m:\u001b[0m \u001b[0my\u001b[0m\u001b[1;33m.\u001b[0m\u001b[0mcumprod\u001b[0m\u001b[1;33m(\u001b[0m\u001b[0maxis\u001b[0m\u001b[1;33m)\u001b[0m\u001b[1;33m,\u001b[0m \u001b[1;34m\"prod\"\u001b[0m\u001b[1;33m,\u001b[0m \u001b[1;36m1.\u001b[0m\u001b[1;33m,\u001b[0m\u001b[1;33m\u001b[0m\u001b[1;33m\u001b[0m\u001b[0m\n\u001b[0m\u001b[0;32m  10058\u001b[0m             np.nan, _cumprod_examples)\n\u001b[0;32m  10059\u001b[0m         cls.cummax = _make_cum_function(\n",
      "\u001b[1;31mTypeError\u001b[0m: can't multiply sequence by non-int of type 'str'"
     ]
    }
   ],
   "source": [
    "print(df.cumprod())"
   ]
  },
  {
   "cell_type": "markdown",
   "metadata": {},
   "source": [
    "#### Note − Since DataFrame is a Heterogeneous data structure. Generic operations don’t work with all functions.\n",
    "\n",
    "- Functions like __sum()__, __cumsum()__ work with both numeric and character (or) string data elements without any error. Though n practice, character aggregations are never used generally, these functions do not throw any exception.\n",
    "- Functions like __abs()__, __cumprod()__ throw exception when the DataFrame contains character or string data because such operations cannot be performed."
   ]
  },
  {
   "cell_type": "markdown",
   "metadata": {},
   "source": [
    "### Summarizing Data"
   ]
  },
  {
   "cell_type": "code",
   "execution_count": 74,
   "metadata": {},
   "outputs": [
    {
     "name": "stdout",
     "output_type": "stream",
     "text": [
      "             Age    Rating\n",
      "count   7.000000  7.000000\n",
      "mean   25.857143  3.658571\n",
      "std     2.734262  0.698628\n",
      "min    23.000000  2.560000\n",
      "25%    24.000000  3.220000\n",
      "50%    25.000000  3.800000\n",
      "75%    27.500000  4.105000\n",
      "max    30.000000  4.600000\n"
     ]
    }
   ],
   "source": [
    "print(df.describe()) #Returns Dataframe"
   ]
  },
  {
   "cell_type": "markdown",
   "metadata": {},
   "source": [
    "This function gives the mean, std and IQR values. And, function excludes the character columns and given summary about numeric columns. __'include'__ is the argument which is used to pass necessary information regarding what columns need to be considered for summarizing. Takes the list of values; by default, 'number'.\n",
    "\n",
    "- __object__ − Summarizes String columns\n",
    "- __number__ − Summarizes Numeric columns\n",
    "- __all__ − Summarizes all columns together (Should not pass it as a list value)"
   ]
  },
  {
   "cell_type": "code",
   "execution_count": 75,
   "metadata": {},
   "outputs": [
    {
     "name": "stdout",
     "output_type": "stream",
     "text": [
      "        Name\n",
      "count      7\n",
      "unique     7\n",
      "top     Jack\n",
      "freq       1\n"
     ]
    }
   ],
   "source": [
    "print(df.describe(include='object'))"
   ]
  },
  {
   "cell_type": "code",
   "execution_count": 76,
   "metadata": {},
   "outputs": [
    {
     "name": "stdout",
     "output_type": "stream",
     "text": [
      "             Age    Rating\n",
      "count   7.000000  7.000000\n",
      "mean   25.857143  3.658571\n",
      "std     2.734262  0.698628\n",
      "min    23.000000  2.560000\n",
      "25%    24.000000  3.220000\n",
      "50%    25.000000  3.800000\n",
      "75%    27.500000  4.105000\n",
      "max    30.000000  4.600000\n"
     ]
    }
   ],
   "source": [
    "print(df.describe(include='number'))"
   ]
  },
  {
   "cell_type": "code",
   "execution_count": 77,
   "metadata": {},
   "outputs": [
    {
     "name": "stdout",
     "output_type": "stream",
     "text": [
      "        Name        Age    Rating\n",
      "count      7   7.000000  7.000000\n",
      "unique     7        NaN       NaN\n",
      "top     Jack        NaN       NaN\n",
      "freq       1        NaN       NaN\n",
      "mean     NaN  25.857143  3.658571\n",
      "std      NaN   2.734262  0.698628\n",
      "min      NaN  23.000000  2.560000\n",
      "25%      NaN  24.000000  3.220000\n",
      "50%      NaN  25.000000  3.800000\n",
      "75%      NaN  27.500000  4.105000\n",
      "max      NaN  30.000000  4.600000\n"
     ]
    }
   ],
   "source": [
    "print(df.describe(include='all'))"
   ]
  },
  {
   "cell_type": "markdown",
   "metadata": {},
   "source": [
    "# Function Application "
   ]
  }
 ],
 "metadata": {
  "kernelspec": {
   "display_name": "Python 3",
   "language": "python",
   "name": "python3"
  },
  "language_info": {
   "codemirror_mode": {
    "name": "ipython",
    "version": 3
   },
   "file_extension": ".py",
   "mimetype": "text/x-python",
   "name": "python",
   "nbconvert_exporter": "python",
   "pygments_lexer": "ipython3",
   "version": "3.7.3"
  }
 },
 "nbformat": 4,
 "nbformat_minor": 2
}
